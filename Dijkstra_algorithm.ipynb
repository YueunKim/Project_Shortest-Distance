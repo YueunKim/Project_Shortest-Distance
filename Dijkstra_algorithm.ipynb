{
 "cells": [
  {
   "cell_type": "code",
   "execution_count": 7,
   "metadata": {},
   "outputs": [],
   "source": [
    "# 노드간 cost값 정의\n",
    "cost = {\"A\": { \"B\": 5, \"D\": 1 }, \n",
    "        \"B\": { \"A\": 5, \"C\": 1, \"E\": 3, \"G\": 4 }, \n",
    "        \"C\": { \"B\": 1, \"D\": 2, \"F\": 2,\"G\": 8 }, \n",
    "        \"D\": { \"A\": 1, \"C\": 2, \"F\": 1 }, \n",
    "        \"E\": { \"B\": 3, \"G\": 1 }, \n",
    "        \"F\": { \"C\": 2, \"D\": 1, \"G\": 3 },\n",
    "        \"G\": { \"B\": 4, \"C\": 8, \"E\": 1, \"F\": 3 }}"
   ]
  },
  {
   "cell_type": "code",
   "execution_count": 8,
   "metadata": {},
   "outputs": [],
   "source": [
    "import heapq"
   ]
  },
  {
   "cell_type": "code",
   "execution_count": 9,
   "metadata": {},
   "outputs": [
    {
     "name": "stdout",
     "output_type": "stream",
     "text": [
      "{'A': 0, 'B': 4, 'C': 3, 'D': 1, 'E': 6, 'F': 2, 'G': 5} {'A': 0, 'B': 'C', 'C': 'D', 'D': 'A', 'E': 'G', 'F': 'D', 'G': 'F'}\n",
      "A -> A : 0\n",
      "A -> B : 4\n",
      "A -> C : 3\n",
      "A -> D : 1\n",
      "A -> E : 6\n",
      "A -> F : 2\n",
      "A -> G : 5\n"
     ]
    }
   ],
   "source": [
    "# 시작노드 지정\n",
    "start = 'A' \n",
    "\n",
    "# 다익스트라 함수 \n",
    "def dijkstra(cost): \n",
    "    \n",
    "    # 반환된 최솟값들을 저장할 리스트\n",
    "    S = [] \n",
    "    \n",
    "    # T : 해당노드로 가기 위한 전 노드\n",
    "    # 0으로 초기화하고 while 문을 통해 업데이트\n",
    "    T = {'A': 0, 'B': 0, 'C': 0, 'D': 0, 'E': 0, 'F': 0, 'G': 0} \n",
    "    \n",
    "    # D : 시작노드에서 해당노드까지의 거리\n",
    "    # 모든 cost값들과 관계없이 가능한 큰 값으로 설정하고 while 문을 통해 각각을 최솟값으로 업데이트\n",
    "    D = {'A': 100, 'B': 100, 'C': 100, 'D': 100, 'E': 100, 'F': 100, 'G': 100} \n",
    "    \n",
    "    # 시작은 당연히 0 (A에서 A까지의 거리)\n",
    "    D[start]=0 \n",
    "\n",
    "    # S에 시작노드와 거리를 먼저 삽입\n",
    "    heapq.heappush(S, (0, start)) \n",
    "    \n",
    "    while S:\n",
    "        # 거리가 제일 작은 원소 선택 \n",
    "        current_D, current_node = heapq.heappop(S) \n",
    "        \n",
    "        # 선택된 노드와 연결된 노드들 대입\n",
    "        for next_node, next_D in cost[current_node].items(): \n",
    "\n",
    "            # 현재 노드까지의 거리 + 연결된 노드까지의 거리를 구해서\n",
    "            total_D = current_D + next_D \n",
    "\n",
    "            # 위의 합한 값이 더 작으면 합한 값과 해당 노드로 업데이트\n",
    "            if total_D < D[next_node]: \n",
    "                D[next_node] = total_D \n",
    "                T[next_node] = current_node \n",
    "\n",
    "                # 업데이트한 값을 S에 삽입\n",
    "                heapq.heappush(S, (total_D, next_node))                 \n",
    "    return D, T \n",
    "\n",
    "D, T = dijkstra(cost) \n",
    "\n",
    "print(D, T)\n",
    "\n",
    "for node, D in D.items(): \n",
    "    print(\"%s -> %s : %s\" %(start, node, D))"
   ]
  },
  {
   "cell_type": "code",
   "execution_count": 43,
   "metadata": {},
   "outputs": [],
   "source": []
  },
  {
   "cell_type": "code",
   "execution_count": 44,
   "metadata": {},
   "outputs": [
    {
     "data": {
      "text/plain": [
       "'G'"
      ]
     },
     "execution_count": 44,
     "metadata": {},
     "output_type": "execute_result"
    }
   ],
   "source": [
    "T.get('E')"
   ]
  },
  {
   "cell_type": "code",
   "execution_count": 45,
   "metadata": {},
   "outputs": [],
   "source": [
    "f = list(T.keys())"
   ]
  },
  {
   "cell_type": "code",
   "execution_count": 46,
   "metadata": {},
   "outputs": [
    {
     "data": {
      "text/plain": [
       "['G', 'F', 'E', 'D', 'C', 'B', 'A']"
      ]
     },
     "execution_count": 46,
     "metadata": {},
     "output_type": "execute_result"
    }
   ],
   "source": [
    "f.reverse()\n",
    "f"
   ]
  },
  {
   "cell_type": "code",
   "execution_count": 47,
   "metadata": {},
   "outputs": [
    {
     "ename": "TypeError",
     "evalue": "'NoneType' object is not iterable",
     "output_type": "error",
     "traceback": [
      "\u001b[1;31m---------------------------------------------------------------------------\u001b[0m",
      "\u001b[1;31mTypeError\u001b[0m                                 Traceback (most recent call last)",
      "\u001b[1;32m<ipython-input-47-f1f8168e04dc>\u001b[0m in \u001b[0;36m<module>\u001b[1;34m\u001b[0m\n\u001b[0;32m      4\u001b[0m \u001b[0md\u001b[0m \u001b[1;33m=\u001b[0m \u001b[1;33m[\u001b[0m\u001b[1;33m]\u001b[0m\u001b[1;33m\u001b[0m\u001b[1;33m\u001b[0m\u001b[0m\n\u001b[0;32m      5\u001b[0m \u001b[1;32mwhile\u001b[0m \u001b[0mstart\u001b[0m \u001b[1;33m!=\u001b[0m \u001b[1;34m'A'\u001b[0m\u001b[1;33m:\u001b[0m\u001b[1;33m\u001b[0m\u001b[1;33m\u001b[0m\u001b[0m\n\u001b[1;32m----> 6\u001b[1;33m     \u001b[1;32mfor\u001b[0m \u001b[0mi\u001b[0m \u001b[1;32min\u001b[0m \u001b[0me\u001b[0m\u001b[1;33m:\u001b[0m\u001b[1;33m\u001b[0m\u001b[1;33m\u001b[0m\u001b[0m\n\u001b[0m\u001b[0;32m      7\u001b[0m         \u001b[0mstart\u001b[0m \u001b[1;33m=\u001b[0m \u001b[0mi\u001b[0m\u001b[1;33m\u001b[0m\u001b[1;33m\u001b[0m\u001b[0m\n\u001b[0;32m      8\u001b[0m         \u001b[0mprint\u001b[0m\u001b[1;33m(\u001b[0m\u001b[0mstart\u001b[0m\u001b[1;33m,\u001b[0m\u001b[1;34m'<-'\u001b[0m\u001b[1;33m,\u001b[0m\u001b[0mend\u001b[0m\u001b[1;33m=\u001b[0m\u001b[1;34m' '\u001b[0m\u001b[1;33m)\u001b[0m\u001b[1;33m\u001b[0m\u001b[1;33m\u001b[0m\u001b[0m\n",
      "\u001b[1;31mTypeError\u001b[0m: 'NoneType' object is not iterable"
     ]
    }
   ],
   "source": [
    "T={'A': 0, 'B': 'C', 'C': 'D', 'D': 'A', 'E': 'G', 'F': 'D', 'G': 'F'}\n",
    "f = list(T.keys())\n",
    "e = f.reverse()\n",
    "d = []\n",
    "while start != 'A':\n",
    "    for i in e:\n",
    "        start = i\n",
    "        print(start,'<-',end=' ')\n",
    "        start = T.get(start)\n",
    "        d.append(start)\n"
   ]
  },
  {
   "cell_type": "code",
   "execution_count": null,
   "metadata": {},
   "outputs": [],
   "source": []
  },
  {
   "cell_type": "code",
   "execution_count": null,
   "metadata": {},
   "outputs": [],
   "source": [
    "# 시작노드 지정\n",
    "start = 'A' \n",
    "\n",
    "# 다익스트라 함수 \n",
    "def dijkstra(cost): \n",
    "    S = [] \n",
    "    T = {'A': 0, 'B': 0, 'C': 0, 'D': 0, 'E': 0, 'F': 0, 'G': 0} \n",
    "    D = {'A': 100, 'B': 100, 'C': 100, 'D': 100, 'E': 100, 'F': 100, 'G': 100} \n",
    "    D[start]=0 \n",
    "    heapq.heappush(S, (0, start)) \n",
    "    while S:\n",
    "        current_D, current_node = heapq.heappop(S) \n",
    "        for next_node, next_D in cost[current_node].items(): \n",
    "            total_D = current_D + next_D \n",
    "            if total_D < D[next_node]: \n",
    "                D[next_node] = total_D \n",
    "                T[next_node] = current_node \n",
    "                heapq.heappush(S, (total_D, next_node))                 \n",
    "    return D, T \n",
    "D, T = dijkstra(cost) \n",
    "print(D, T)\n",
    "for node, D in D.items(): \n",
    "    print(\"%s -> %s : %s\" %(start, node, D))"
   ]
  },
  {
   "cell_type": "code",
   "execution_count": null,
   "metadata": {},
   "outputs": [],
   "source": []
  }
 ],
 "metadata": {
  "kernelspec": {
   "display_name": "Python 3",
   "language": "python",
   "name": "python3"
  },
  "language_info": {
   "codemirror_mode": {
    "name": "ipython",
    "version": 3
   },
   "file_extension": ".py",
   "mimetype": "text/x-python",
   "name": "python",
   "nbconvert_exporter": "python",
   "pygments_lexer": "ipython3",
   "version": "3.7.6"
  }
 },
 "nbformat": 4,
 "nbformat_minor": 4
}
