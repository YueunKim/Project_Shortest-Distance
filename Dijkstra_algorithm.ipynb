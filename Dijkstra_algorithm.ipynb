{
 "cells": [
  {
   "cell_type": "markdown",
   "metadata": {},
   "source": [
    "# Dijkstra Algorithm"
   ]
  },
  {
   "cell_type": "code",
   "execution_count": 138,
   "metadata": {},
   "outputs": [],
   "source": [
    "v = list(\"ABCDEFG\") \n",
    "adjacent = {\"A\": { \"B\": 5, \"D\": 1, }, \n",
    "            \"B\": { \"A\": 5, \"C\": 1, \"E\": 3, \"G\": 4 }, \n",
    "            \"C\": { \"B\": 1, \"D\": 2, \"F\": 2,\"G\": 8 }, \n",
    "            \"D\": { \"A\": 1, \"C\": 2, \"F\": 1 }, \n",
    "            \"E\": { \"B\": 3, \"G\": 1 }, \n",
    "            \"F\": { \"C\": 2, \"D\": 1, \"G\": 3 },\n",
    "            \"G\": { \"B\": 4, \"C\": 8, \"E\": 1, \"F\": 3 }}\n"
   ]
  },
  {
   "cell_type": "code",
   "execution_count": 116,
   "metadata": {},
   "outputs": [],
   "source": [
    "prev = { v: -1 for v in adjacent.keys()} \n",
    "dist = { v: float('inf') for v in adjacent.keys() } "
   ]
  },
  {
   "cell_type": "code",
   "execution_count": 117,
   "metadata": {},
   "outputs": [
    {
     "name": "stdout",
     "output_type": "stream",
     "text": [
      "{'A': -1, 'B': -1, 'C': -1, 'D': -1, 'E': -1, 'F': -1, 'G': -1}\n"
     ]
    }
   ],
   "source": [
    "print(prev)"
   ]
  },
  {
   "cell_type": "code",
   "execution_count": 118,
   "metadata": {},
   "outputs": [
    {
     "name": "stdout",
     "output_type": "stream",
     "text": [
      "{'A': inf, 'B': inf, 'C': inf, 'D': inf, 'E': inf, 'F': inf, 'G': inf}\n"
     ]
    }
   ],
   "source": [
    "print(dist)"
   ]
  },
  {
   "cell_type": "code",
   "execution_count": 119,
   "metadata": {},
   "outputs": [],
   "source": [
    "min_heap = [] \n",
    "start = 'A' \n",
    "heapq.heappush(min_heap, (0, start)) \n",
    "dist[start] = 0 "
   ]
  },
  {
   "cell_type": "code",
   "execution_count": 120,
   "metadata": {},
   "outputs": [
    {
     "name": "stdout",
     "output_type": "stream",
     "text": [
      "[(0, 'A')]\n"
     ]
    }
   ],
   "source": [
    "print(min_heap)"
   ]
  },
  {
   "cell_type": "code",
   "execution_count": 121,
   "metadata": {},
   "outputs": [],
   "source": [
    "current_dist, current_v = heapq.heappop(min_heap) "
   ]
  },
  {
   "cell_type": "code",
   "execution_count": 122,
   "metadata": {},
   "outputs": [
    {
     "name": "stdout",
     "output_type": "stream",
     "text": [
      "0 A\n"
     ]
    }
   ],
   "source": [
    "print(current_dist, current_v)"
   ]
  },
  {
   "cell_type": "code",
   "execution_count": 123,
   "metadata": {},
   "outputs": [
    {
     "name": "stdout",
     "output_type": "stream",
     "text": [
      "dict_items([('B', 5), ('D', 1)])\n"
     ]
    }
   ],
   "source": [
    "print(adjacent[current_v].items())"
   ]
  },
  {
   "cell_type": "code",
   "execution_count": 124,
   "metadata": {},
   "outputs": [
    {
     "name": "stdout",
     "output_type": "stream",
     "text": [
      "{'B': 5, 'D': 1}\n"
     ]
    }
   ],
   "source": [
    "print(adjacent[current_v])"
   ]
  },
  {
   "cell_type": "code",
   "execution_count": 125,
   "metadata": {},
   "outputs": [
    {
     "name": "stdout",
     "output_type": "stream",
     "text": [
      "B 5\n",
      "D 1\n"
     ]
    }
   ],
   "source": [
    "for next_v, next_dist in adjacent[current_v].items(): \n",
    "    print(next_v, next_dist)"
   ]
  },
  {
   "cell_type": "code",
   "execution_count": 126,
   "metadata": {},
   "outputs": [
    {
     "data": {
      "text/plain": [
       "'D'"
      ]
     },
     "execution_count": 126,
     "metadata": {},
     "output_type": "execute_result"
    }
   ],
   "source": [
    "next_v"
   ]
  },
  {
   "cell_type": "code",
   "execution_count": 127,
   "metadata": {},
   "outputs": [
    {
     "data": {
      "text/plain": [
       "1"
      ]
     },
     "execution_count": 127,
     "metadata": {},
     "output_type": "execute_result"
    }
   ],
   "source": [
    "next_dist"
   ]
  },
  {
   "cell_type": "code",
   "execution_count": 128,
   "metadata": {},
   "outputs": [],
   "source": [
    "total_dist = current_dist + next_dist "
   ]
  },
  {
   "cell_type": "code",
   "execution_count": 129,
   "metadata": {},
   "outputs": [
    {
     "data": {
      "text/plain": [
       "1"
      ]
     },
     "execution_count": 129,
     "metadata": {},
     "output_type": "execute_result"
    }
   ],
   "source": [
    "total_dist"
   ]
  },
  {
   "cell_type": "code",
   "execution_count": 130,
   "metadata": {},
   "outputs": [],
   "source": [
    "    prev = { v: -1 for v in adjacent.keys()} \n",
    "    dist = { v: float('inf') for v in adjacent.keys() } "
   ]
  },
  {
   "cell_type": "code",
   "execution_count": 131,
   "metadata": {},
   "outputs": [],
   "source": [
    "if total_dist < dist[next_v]: \n",
    "    dist[next_v] = total_dist \n",
    "    prev[next_v] = current_v"
   ]
  },
  {
   "cell_type": "code",
   "execution_count": 132,
   "metadata": {},
   "outputs": [
    {
     "data": {
      "text/plain": [
       "1"
      ]
     },
     "execution_count": 132,
     "metadata": {},
     "output_type": "execute_result"
    }
   ],
   "source": [
    "total_dist"
   ]
  },
  {
   "cell_type": "code",
   "execution_count": 139,
   "metadata": {},
   "outputs": [
    {
     "name": "stdout",
     "output_type": "stream",
     "text": [
      "{'A': -1, 'B': -1, 'C': -1, 'D': -1, 'E': -1, 'F': -1, 'G': -1} {'A': inf, 'B': inf, 'C': inf, 'D': inf, 'E': inf, 'F': inf, 'G': inf}\n",
      "[(0, (0, 'A'))]\n",
      "0 (0, 'A')\n"
     ]
    },
    {
     "ename": "KeyError",
     "evalue": "(0, 'A')",
     "output_type": "error",
     "traceback": [
      "\u001b[1;31m---------------------------------------------------------------------------\u001b[0m",
      "\u001b[1;31mKeyError\u001b[0m                                  Traceback (most recent call last)",
      "\u001b[1;32m<ipython-input-139-e3406b248274>\u001b[0m in \u001b[0;36m<module>\u001b[1;34m\u001b[0m\n\u001b[0;32m     12\u001b[0m     \u001b[0mprint\u001b[0m\u001b[1;33m(\u001b[0m\u001b[0mcurrent_dist\u001b[0m\u001b[1;33m,\u001b[0m \u001b[0mcurrent_v\u001b[0m\u001b[1;33m)\u001b[0m\u001b[1;33m\u001b[0m\u001b[1;33m\u001b[0m\u001b[0m\n\u001b[0;32m     13\u001b[0m \u001b[1;33m\u001b[0m\u001b[0m\n\u001b[1;32m---> 14\u001b[1;33m     \u001b[1;32mfor\u001b[0m \u001b[0mnext_v\u001b[0m\u001b[1;33m,\u001b[0m \u001b[0mnext_dist\u001b[0m \u001b[1;32min\u001b[0m \u001b[0madjacent\u001b[0m\u001b[1;33m[\u001b[0m\u001b[0mcurrent_v\u001b[0m\u001b[1;33m]\u001b[0m\u001b[1;33m.\u001b[0m\u001b[0mitems\u001b[0m\u001b[1;33m(\u001b[0m\u001b[1;33m)\u001b[0m\u001b[1;33m:\u001b[0m\u001b[1;33m\u001b[0m\u001b[1;33m\u001b[0m\u001b[0m\n\u001b[0m\u001b[0;32m     15\u001b[0m         \u001b[0mtotal_dist\u001b[0m \u001b[1;33m=\u001b[0m \u001b[0mcurrent_dist\u001b[0m \u001b[1;33m+\u001b[0m \u001b[0mnext_dist\u001b[0m\u001b[1;33m\u001b[0m\u001b[1;33m\u001b[0m\u001b[0m\n\u001b[0;32m     16\u001b[0m         \u001b[0mprint\u001b[0m\u001b[1;33m(\u001b[0m\u001b[0mcurrent_dist\u001b[0m\u001b[1;33m,\u001b[0m \u001b[0mnext_dist\u001b[0m \u001b[1;33m,\u001b[0m \u001b[0mtotal_dist\u001b[0m\u001b[1;33m)\u001b[0m\u001b[1;33m\u001b[0m\u001b[1;33m\u001b[0m\u001b[0m\n",
      "\u001b[1;31mKeyError\u001b[0m: (0, 'A')"
     ]
    }
   ],
   "source": [
    "min_heap = [] \n",
    "prev = { v: -1 for v in adjacent.keys()} \n",
    "dist = { v: float('inf') for v in adjacent.keys() } \n",
    "print(prev, dist)    \n",
    "\n",
    "heapq.heappush(min_heap, (0, start)) \n",
    "dist[start] = 0 \n",
    "print(min_heap)\n",
    "\n",
    "while min_heap: \n",
    "    current_dist, current_v = heapq.heappop(min_heap) \n",
    "    print(current_dist, current_v)\n",
    "\n",
    "    for next_v, next_dist in adjacent[current_v].items(): \n",
    "        total_dist = current_dist + next_dist \n",
    "        print(current_dist, next_dist , total_dist)\n",
    "\n",
    "        if total_dist < dist[next_v]: \n",
    "            dist[next_v] = total_dist \n",
    "            prev[next_v] = current_v \n",
    "            print(dist[next_v], prev[next_v])\n",
    "            \n",
    "            heapq.heappush(min_heap, (total_dist, next_v))\n",
    "            print(min_heap)\n",
    "\n",
    "return dist, prev"
   ]
  },
  {
   "cell_type": "code",
   "execution_count": 142,
   "metadata": {},
   "outputs": [
    {
     "name": "stdout",
     "output_type": "stream",
     "text": [
      "[(0, 'A'), (0, 'A'), (0, 'A'), (0, 'A'), (0, 'A'), (0, 'A')]\n"
     ]
    },
    {
     "ename": "SyntaxError",
     "evalue": "'return' outside function (<ipython-input-142-8f99f960468b>, line 29)",
     "output_type": "error",
     "traceback": [
      "\u001b[1;36m  File \u001b[1;32m\"<ipython-input-142-8f99f960468b>\"\u001b[1;36m, line \u001b[1;32m29\u001b[0m\n\u001b[1;33m    return dist, prev\u001b[0m\n\u001b[1;37m                     ^\u001b[0m\n\u001b[1;31mSyntaxError\u001b[0m\u001b[1;31m:\u001b[0m 'return' outside function\n"
     ]
    }
   ],
   "source": [
    "#S = [] \n",
    "#D = {'A':10, 'B':10, 'C':10, 'D':10, 'E':10, 'F':10, 'G':10}\n",
    "#T = {'A':'a', 'B':'a', 'C':'a', 'D':'a', 'E':'a', 'F':'a', 'G':'a'}\n",
    "min_heap = []\n",
    "prev = { v: -1 for v in adjacent.keys()} \n",
    "dist = { v: float('inf') for v in adjacent.keys() } \n",
    "# print(D, T)    \n",
    "\n",
    "start=(0,'A')\n",
    "S.append(start)\n",
    "print(S)\n",
    "\n",
    "while min_heap: \n",
    "    current_dist, current_v = heapq.heappop(min_heap) \n",
    "    print(current_dist, current_v)\n",
    "\n",
    "    for next_v, next_dist in adjacent[current_v].items(): \n",
    "        total_dist = current_dist + next_dist \n",
    "        print(current_dist, next_dist , total_dist)\n",
    "\n",
    "        if total_dist < dist[next_v]: \n",
    "            dist[next_v] = total_dist \n",
    "            prev[next_v] = current_v \n",
    "            print(dist[next_v], prev[next_v])\n",
    "            \n",
    "            heapq.heappush(min_heap, (total_dist, next_v))\n",
    "            print(min_heap)\n",
    "\n",
    "return dist, prev"
   ]
  },
  {
   "cell_type": "code",
   "execution_count": null,
   "metadata": {},
   "outputs": [],
   "source": []
  },
  {
   "cell_type": "code",
   "execution_count": null,
   "metadata": {},
   "outputs": [],
   "source": []
  },
  {
   "cell_type": "code",
   "execution_count": null,
   "metadata": {},
   "outputs": [],
   "source": [
    "###############"
   ]
  },
  {
   "cell_type": "code",
   "execution_count": 63,
   "metadata": {},
   "outputs": [],
   "source": [
    "path = []\n",
    "path.append(0)"
   ]
  },
  {
   "cell_type": "code",
   "execution_count": 64,
   "metadata": {},
   "outputs": [
    {
     "data": {
      "text/plain": [
       "[0]"
      ]
     },
     "execution_count": 64,
     "metadata": {},
     "output_type": "execute_result"
    }
   ],
   "source": [
    "path"
   ]
  },
  {
   "cell_type": "code",
   "execution_count": 37,
   "metadata": {},
   "outputs": [],
   "source": [
    "import heapq"
   ]
  },
  {
   "cell_type": "code",
   "execution_count": 144,
   "metadata": {},
   "outputs": [],
   "source": [
    "v = list(\"ABCDEFG\") \n",
    "adjacent = {\"A\": { \"B\": 5, \"D\": 1 }, \n",
    "            \"B\": { \"A\": 5, \"C\": 1, \"E\": 3, \"G\": 4 }, \n",
    "            \"C\": { \"B\": 1, \"D\": 2, \"F\": 2,\"G\": 8 }, \n",
    "            \"D\": { \"A\": 1, \"C\": 2, \"F\": 1 }, \n",
    "            \"E\": { \"B\": 3, \"G\": 1 }, \n",
    "            \"F\": { \"C\": 2, \"D\": 1, \"G\": 3 },\n",
    "            \"G\": { \"B\": 4, \"C\": 8, \"E\": 1, \"F\": 3 }}"
   ]
  },
  {
   "cell_type": "code",
   "execution_count": 148,
   "metadata": {
    "scrolled": false
   },
   "outputs": [
    {
     "name": "stdout",
     "output_type": "stream",
     "text": [
      "{'A': -1, 'B': -1, 'C': -1, 'D': -1, 'E': -1, 'F': -1, 'G': -1} {'A': inf, 'B': inf, 'C': inf, 'D': inf, 'E': inf, 'F': inf, 'G': inf}\n",
      "[(0, 'A')]\n",
      "0 A\n",
      "5\n",
      "[(5, 'B')]\n",
      "1\n",
      "[(1, 'D'), (5, 'B')]\n",
      "1 D\n",
      "2\n",
      "3\n",
      "[(3, 'C'), (5, 'B')]\n",
      "2\n",
      "[(2, 'F'), (5, 'B'), (3, 'C')]\n",
      "2 F\n",
      "4\n",
      "3\n",
      "5\n",
      "[(3, 'C'), (5, 'B'), (5, 'G')]\n",
      "3 C\n",
      "4\n",
      "[(4, 'B'), (5, 'G'), (5, 'B')]\n",
      "5\n",
      "5\n",
      "11\n",
      "4 B\n",
      "9\n",
      "5\n",
      "7\n",
      "[(5, 'B'), (5, 'G'), (7, 'E')]\n",
      "8\n",
      "5 B\n",
      "10\n",
      "6\n",
      "8\n",
      "9\n",
      "5 G\n",
      "9\n",
      "13\n",
      "6\n",
      "[(6, 'E'), (7, 'E')]\n",
      "8\n",
      "6 E\n",
      "9\n",
      "7\n",
      "7 E\n",
      "10\n",
      "8\n",
      "A -> A : 0\n",
      "A -> B : 4\n",
      "A -> C : 3\n",
      "A -> D : 1\n",
      "A -> E : 6\n",
      "A -> F : 2\n",
      "A -> G : 5\n"
     ]
    }
   ],
   "source": [
    "def dijkstra(start, adjacent): \n",
    "    min_heap = [] \n",
    "    prev = { v: -1 for v in adjacent.keys()} \n",
    "    dist = { v: float('inf') for v in adjacent.keys() } \n",
    "    print(prev, dist) \n",
    "    \n",
    "    heapq.heappush(min_heap, (0, start)) \n",
    "    dist[start] = 0\n",
    "    print(min_heap)\n",
    "    \n",
    "    while min_heap:\n",
    "        current_dist, current_v = heapq.heappop(min_heap) \n",
    "        print(current_dist, current_v)\n",
    "        \n",
    "        for next_v, next_dist in adjacent[current_v].items(): \n",
    "            total_dist = current_dist + next_dist \n",
    "            print(total_dist)\n",
    "            \n",
    "            if total_dist < dist[next_v]: \n",
    "                dist[next_v] = total_dist \n",
    "                prev[next_v] = current_v \n",
    "                heapq.heappush(min_heap, (total_dist, next_v)) \n",
    "                print(min_heap)\n",
    "                \n",
    "    return dist, prev \n",
    "\n",
    "start = 'A' \n",
    "dist, prev = dijkstra(start, adjacent) \n",
    "for v, dist in dist.items(): \n",
    "    print(\"%s -> %s : %s\" %(start, v, dist) if dist != float('inf') else \"INF\")\n"
   ]
  },
  {
   "cell_type": "code",
   "execution_count": 61,
   "metadata": {},
   "outputs": [
    {
     "data": {
      "text/plain": [
       "[]"
      ]
     },
     "execution_count": 61,
     "metadata": {},
     "output_type": "execute_result"
    }
   ],
   "source": [
    "min_heap"
   ]
  },
  {
   "cell_type": "code",
   "execution_count": 13,
   "metadata": {},
   "outputs": [],
   "source": [
    "S = list('A')\n",
    "D = {'A':0, 'B':5, 'D':1}"
   ]
  },
  {
   "cell_type": "code",
   "execution_count": null,
   "metadata": {},
   "outputs": [],
   "source": []
  },
  {
   "cell_type": "code",
   "execution_count": null,
   "metadata": {},
   "outputs": [],
   "source": []
  },
  {
   "cell_type": "code",
   "execution_count": 28,
   "metadata": {},
   "outputs": [],
   "source": [
    "node = ('A','B','C','D','E','F','G')"
   ]
  },
  {
   "cell_type": "code",
   "execution_count": null,
   "metadata": {},
   "outputs": [],
   "source": [
    "## 각 노드간 비용입력"
   ]
  },
  {
   "cell_type": "code",
   "execution_count": 90,
   "metadata": {},
   "outputs": [],
   "source": [
    "cost = {\"A\": { \"B\": 5, \"D\": 1 }, \n",
    "        \"B\": { \"A\": 5, \"C\": 1, \"E\": 3, \"G\": 4 }, \n",
    "        \"C\": { \"B\": 1, \"D\": 2, \"F\": 2,\"G\": 8 }, \n",
    "        \"D\": { \"A\": 1, \"C\": 2, \"F\": 1 }, \n",
    "        \"E\": { \"B\": 3, \"G\": 1 }, \n",
    "        \"F\": { \"C\": 2, \"D\": 1, \"G\": 3 },\n",
    "        \"G\": { \"B\": 4, \"C\": 8, \"E\": 1, \"F\": 3 }}"
   ]
  },
  {
   "cell_type": "code",
   "execution_count": 91,
   "metadata": {},
   "outputs": [],
   "source": [
    "S = ['A']\n",
    "D = {'A':10, 'B':10, 'C':10, 'D':10, 'E':10, 'F':10, 'G':10}\n",
    "T = {'A':'a', 'B':'a', 'C':'a', 'D':'a', 'E':'a', 'F':'a', 'G':'a'}"
   ]
  },
  {
   "cell_type": "code",
   "execution_count": 97,
   "metadata": {},
   "outputs": [
    {
     "name": "stdout",
     "output_type": "stream",
     "text": [
      "7 E\n",
      "7 E\n"
     ]
    }
   ],
   "source": [
    "for next_v, next_dist in cost['A'].items(): \n",
    "    print(current_dist, current_v)"
   ]
  },
  {
   "cell_type": "code",
   "execution_count": 93,
   "metadata": {},
   "outputs": [
    {
     "name": "stdout",
     "output_type": "stream",
     "text": [
      "7 E\n"
     ]
    }
   ],
   "source": [
    "print(current_dist, current_v)"
   ]
  },
  {
   "cell_type": "code",
   "execution_count": 106,
   "metadata": {},
   "outputs": [
    {
     "data": {
      "text/plain": [
       "10"
      ]
     },
     "execution_count": 106,
     "metadata": {},
     "output_type": "execute_result"
    }
   ],
   "source": [
    "D['A']"
   ]
  },
  {
   "cell_type": "code",
   "execution_count": 105,
   "metadata": {},
   "outputs": [
    {
     "data": {
      "text/plain": [
       "dict_keys(['B', 'D'])"
      ]
     },
     "execution_count": 105,
     "metadata": {},
     "output_type": "execute_result"
    }
   ],
   "source": [
    "cost['A'].keys()"
   ]
  },
  {
   "cell_type": "code",
   "execution_count": 100,
   "metadata": {},
   "outputs": [
    {
     "data": {
      "text/plain": [
       "5"
      ]
     },
     "execution_count": 100,
     "metadata": {},
     "output_type": "execute_result"
    }
   ],
   "source": [
    "cost['A']['B']"
   ]
  },
  {
   "cell_type": "code",
   "execution_count": 31,
   "metadata": {},
   "outputs": [
    {
     "name": "stdout",
     "output_type": "stream",
     "text": [
      "A\n",
      "B\n",
      "C\n",
      "D\n",
      "E\n",
      "F\n",
      "G\n"
     ]
    }
   ],
   "source": [
    "for i in cost.keys():\n",
    "    print(i)"
   ]
  },
  {
   "cell_type": "code",
   "execution_count": null,
   "metadata": {},
   "outputs": [],
   "source": [
    "path = [] # 노드 저장\n",
    "dist = [] # cost값\n",
    "start = 'A' # 시작 노드"
   ]
  },
  {
   "cell_type": "code",
   "execution_count": 30,
   "metadata": {},
   "outputs": [
    {
     "name": "stdout",
     "output_type": "stream",
     "text": [
      "5\n",
      "1\n",
      "5\n",
      "1\n",
      "3\n",
      "4\n",
      "1\n",
      "2\n",
      "2\n",
      "8\n",
      "1\n",
      "2\n",
      "1\n",
      "3\n",
      "1\n",
      "2\n",
      "1\n",
      "3\n",
      "4\n",
      "8\n",
      "1\n",
      "3\n"
     ]
    }
   ],
   "source": [
    "for i in cost.values(): # cost의 node를 순서대로 대입하면서 value 출력\n",
    "    for j in i.values():\n",
    "        if \n",
    "        print(j)\n",
    "        "
   ]
  },
  {
   "cell_type": "code",
   "execution_count": null,
   "metadata": {},
   "outputs": [],
   "source": [
    "## 최단 거리"
   ]
  },
  {
   "cell_type": "code",
   "execution_count": null,
   "metadata": {},
   "outputs": [],
   "source": [
    "def lowest(cost):\n",
    "    for i in cost.values(): # cost의 node를 순서대로 대입하면서 value 출력\n",
    "        for j in i.values():\n",
    "            print(j)\n",
    "        "
   ]
  },
  {
   "cell_type": "code",
   "execution_count": null,
   "metadata": {},
   "outputs": [],
   "source": []
  },
  {
   "cell_type": "code",
   "execution_count": 26,
   "metadata": {},
   "outputs": [
    {
     "name": "stdout",
     "output_type": "stream",
     "text": [
      "{'b': 1, 'c': 3}\n",
      "{'c': 2, 'e': 1}\n",
      "{'d': 3, 'e': 4}\n"
     ]
    }
   ],
   "source": [
    "ab = {'a':{'b':1,'c':3},\n",
    "      'b':{'c':2,'e':1},\n",
    "      'c':{'d':3,'e':4}}\n",
    "for i in ab.values():\n",
    "    print(i)"
   ]
  },
  {
   "cell_type": "code",
   "execution_count": null,
   "metadata": {},
   "outputs": [],
   "source": []
  },
  {
   "cell_type": "code",
   "execution_count": 27,
   "metadata": {},
   "outputs": [
    {
     "name": "stdout",
     "output_type": "stream",
     "text": [
      "1\n",
      "3\n",
      "2\n",
      "1\n",
      "3\n",
      "4\n"
     ]
    }
   ],
   "source": [
    "ab = {'a':{'b':1,'c':3},\n",
    "      'b':{'c':2,'e':1},\n",
    "      'c':{'d':3,'e':4}}\n",
    "for i in ab.values():\n",
    "    for j in i.values():\n",
    "        print(j)"
   ]
  },
  {
   "cell_type": "code",
   "execution_count": null,
   "metadata": {},
   "outputs": [],
   "source": []
  },
  {
   "cell_type": "code",
   "execution_count": null,
   "metadata": {},
   "outputs": [],
   "source": []
  },
  {
   "cell_type": "code",
   "execution_count": 134,
   "metadata": {},
   "outputs": [
    {
     "name": "stdout",
     "output_type": "stream",
     "text": [
      "F = []\n",
      "   touch: [-1, -1, 1, 1, 1, 1]\n",
      "  length: [-1, -1, 7, 4, 6, 1]\n",
      "F = [(1, 5, 1)]\n",
      "   touch: [-1, -1, 1, 1, 5, 1]\n",
      "  length: [-1, -1, 7, 4, 2, -1]\n",
      "F = [(1, 5, 1), (5, 4, 1)]\n",
      "   touch: [-1, -1, 4, 1, 5, 1]\n",
      "  length: [-1, -1, 5, 4, -1, -1]\n",
      "F = [(1, 5, 1), (5, 4, 1), (1, 3, 4)]\n",
      "   touch: [-1, -1, 4, 1, 5, 1]\n",
      "  length: [-1, -1, 5, -1, -1, -1]\n",
      "F = [(1, 5, 1), (5, 4, 1), (1, 3, 4), (4, 2, 3)]\n",
      "   touch: [-1, -1, 4, 1, 5, 1]\n",
      "  length: [-1, -1, -1, -1, -1, -1]\n",
      "(1, 5, 1)\n",
      "(5, 4, 1)\n",
      "(1, 3, 4)\n",
      "(4, 2, 3)\n",
      "Shortest Path Length is 9\n"
     ]
    }
   ],
   "source": [
    "def dijkstra (W):\n",
    "    n = len(W) - 1\n",
    "    F = []\n",
    "    touch = [-1] * (n + 1)\n",
    "    length = [-1] * (n + 1)\n",
    "    for i in range(2, n + 1):\n",
    "        touch[i] = 1\n",
    "        length[i] = W[1][i]\n",
    "    print_tl(F, touch, length)\n",
    "    for _ in range(n - 1):\n",
    "        minValue = INF\n",
    "        for i in range(2, n + 1):\n",
    "            if (0 <= length[i] and length[i] < minValue):\n",
    "                minValue = length[i]\n",
    "                vnear = i\n",
    "        edge = (touch[vnear], vnear, W[touch[vnear]][vnear])\n",
    "        F.append(edge)\n",
    "        for i in range(2, n + 1):\n",
    "            if (length[i] > length[vnear] + W[vnear][i]):\n",
    "                length[i] = length[vnear] + W[vnear][i]\n",
    "                touch[i] = vnear\n",
    "        length[vnear] = -1\n",
    "        print_tl(F, touch, length)\n",
    "    return F\n",
    "\n",
    "def length (F):\n",
    "    total = 0\n",
    "    for e in F:\n",
    "        total += e[2]\n",
    "    return total\n",
    "\n",
    "def print_tl (F, touch, length):\n",
    "    print('F = ', end = '')\n",
    "    print(F)\n",
    "    print('   touch: ', end = '')\n",
    "    print(touch)\n",
    "    print('  length: ', end = '')\n",
    "    print(length)\n",
    "    \n",
    "INF = 999\n",
    "W = [\n",
    "    [-1, -1, -1, -1, -1, -1],\n",
    "    [-1, 0, 7, 4, 6, 1],\n",
    "    [-1, INF, 0, INF, INF, INF],\n",
    "    [-1, INF, 2, 0, 5, INF],\n",
    "    [-1, INF, 3, INF, 0, INF],\n",
    "    [-1, INF, INF, INF, 1, 0],\n",
    "]\n",
    "\n",
    "F = dijkstra(W)\n",
    "for i in range(len(F)):\n",
    "    print(F[i])\n",
    "\n",
    "print(\"Shortest Path Length is\", length(F))"
   ]
  },
  {
   "cell_type": "code",
   "execution_count": null,
   "metadata": {},
   "outputs": [],
   "source": []
  },
  {
   "cell_type": "code",
   "execution_count": null,
   "metadata": {},
   "outputs": [],
   "source": []
  },
  {
   "cell_type": "code",
   "execution_count": null,
   "metadata": {},
   "outputs": [],
   "source": []
  },
  {
   "cell_type": "code",
   "execution_count": null,
   "metadata": {},
   "outputs": [],
   "source": []
  },
  {
   "cell_type": "code",
   "execution_count": null,
   "metadata": {},
   "outputs": [],
   "source": []
  },
  {
   "cell_type": "code",
   "execution_count": null,
   "metadata": {},
   "outputs": [],
   "source": []
  }
 ],
 "metadata": {
  "kernelspec": {
   "display_name": "Python 3",
   "language": "python",
   "name": "python3"
  },
  "language_info": {
   "codemirror_mode": {
    "name": "ipython",
    "version": 3
   },
   "file_extension": ".py",
   "mimetype": "text/x-python",
   "name": "python",
   "nbconvert_exporter": "python",
   "pygments_lexer": "ipython3",
   "version": "3.7.6"
  }
 },
 "nbformat": 4,
 "nbformat_minor": 4
}
