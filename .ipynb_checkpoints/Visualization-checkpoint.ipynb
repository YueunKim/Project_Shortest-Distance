{
 "cells": [
  {
   "cell_type": "markdown",
   "metadata": {},
   "source": [
    "# Data Warehouse \n",
    "### http://tportal.daejeon.go.kr/intro.view"
   ]
  },
  {
   "cell_type": "markdown",
   "metadata": {},
   "source": [
    "### 대전 도마교네거리 -> 원미네거리, 8.31~9.4 , 9.7 데이터 그래프로 시각화"
   ]
  },
  {
   "cell_type": "code",
   "execution_count": 1,
   "metadata": {},
   "outputs": [],
   "source": [
    "# matplotlib 사용과 한글 처리를 위한 code\n",
    "import pandas as pd\n",
    "import numpy as np\n",
    "import matplotlib as mpl\n",
    "import matplotlib.pyplot as plt\n",
    "mpl.rcParams['axes.unicode_minus'] = False    # minus 표시\n",
    "mpl.rc('font', family='Malgun Gothic')\n",
    "%matplotlib inline"
   ]
  },
  {
   "cell_type": "code",
   "execution_count": 2,
   "metadata": {},
   "outputs": [],
   "source": [
    "df = pd.read_csv(\"C:/Users/8/Desktop/프로젝트/도로소통정보/example.csv\",encoding='CP949')"
   ]
  },
  {
   "cell_type": "code",
   "execution_count": 3,
   "metadata": {},
   "outputs": [
    {
     "data": {
      "text/html": [
       "<div>\n",
       "<style scoped>\n",
       "    .dataframe tbody tr th:only-of-type {\n",
       "        vertical-align: middle;\n",
       "    }\n",
       "\n",
       "    .dataframe tbody tr th {\n",
       "        vertical-align: top;\n",
       "    }\n",
       "\n",
       "    .dataframe thead th {\n",
       "        text-align: right;\n",
       "    }\n",
       "</style>\n",
       "<table border=\"1\" class=\"dataframe\">\n",
       "  <thead>\n",
       "    <tr style=\"text-align: right;\">\n",
       "      <th></th>\n",
       "      <th>일자</th>\n",
       "      <th>도로</th>\n",
       "      <th>요일</th>\n",
       "      <th>방향</th>\n",
       "      <th>구간</th>\n",
       "      <th>6:00</th>\n",
       "      <th>6:05</th>\n",
       "      <th>6:10</th>\n",
       "      <th>6:15</th>\n",
       "      <th>6:20</th>\n",
       "      <th>...</th>\n",
       "      <th>7:10</th>\n",
       "      <th>7:15</th>\n",
       "      <th>7:20</th>\n",
       "      <th>7:25</th>\n",
       "      <th>7:30</th>\n",
       "      <th>7:35</th>\n",
       "      <th>7:40</th>\n",
       "      <th>7:45</th>\n",
       "      <th>7:50</th>\n",
       "      <th>7:55</th>\n",
       "    </tr>\n",
       "  </thead>\n",
       "  <tbody>\n",
       "    <tr>\n",
       "      <th>0</th>\n",
       "      <td>2020년 08월 31일</td>\n",
       "      <td>가장로</td>\n",
       "      <td>월요일</td>\n",
       "      <td>상행</td>\n",
       "      <td>도마교네거리→원미네거리</td>\n",
       "      <td>14.0</td>\n",
       "      <td>12.2</td>\n",
       "      <td>10.7</td>\n",
       "      <td>12.6</td>\n",
       "      <td>14.2</td>\n",
       "      <td>...</td>\n",
       "      <td>9.4</td>\n",
       "      <td>9.6</td>\n",
       "      <td>11.0</td>\n",
       "      <td>10.5</td>\n",
       "      <td>9.8</td>\n",
       "      <td>11.5</td>\n",
       "      <td>10.7</td>\n",
       "      <td>12.3</td>\n",
       "      <td>10.1</td>\n",
       "      <td>9.2</td>\n",
       "    </tr>\n",
       "    <tr>\n",
       "      <th>1</th>\n",
       "      <td>2020년 09월 01일</td>\n",
       "      <td>가장로</td>\n",
       "      <td>화요일</td>\n",
       "      <td>상행</td>\n",
       "      <td>도마교네거리→원미네거리</td>\n",
       "      <td>11.6</td>\n",
       "      <td>11.5</td>\n",
       "      <td>11.7</td>\n",
       "      <td>10.3</td>\n",
       "      <td>10.4</td>\n",
       "      <td>...</td>\n",
       "      <td>12.1</td>\n",
       "      <td>10.6</td>\n",
       "      <td>11.9</td>\n",
       "      <td>12.0</td>\n",
       "      <td>10.5</td>\n",
       "      <td>9.2</td>\n",
       "      <td>10.4</td>\n",
       "      <td>11.7</td>\n",
       "      <td>9.7</td>\n",
       "      <td>8.7</td>\n",
       "    </tr>\n",
       "    <tr>\n",
       "      <th>2</th>\n",
       "      <td>2020년 09월 02일</td>\n",
       "      <td>가장로</td>\n",
       "      <td>수요일</td>\n",
       "      <td>상행</td>\n",
       "      <td>도마교네거리→원미네거리</td>\n",
       "      <td>11.3</td>\n",
       "      <td>12.2</td>\n",
       "      <td>13.9</td>\n",
       "      <td>14.1</td>\n",
       "      <td>12.6</td>\n",
       "      <td>...</td>\n",
       "      <td>7.9</td>\n",
       "      <td>9.2</td>\n",
       "      <td>10.4</td>\n",
       "      <td>10.3</td>\n",
       "      <td>11.9</td>\n",
       "      <td>9.8</td>\n",
       "      <td>9.0</td>\n",
       "      <td>9.2</td>\n",
       "      <td>10.6</td>\n",
       "      <td>9.5</td>\n",
       "    </tr>\n",
       "    <tr>\n",
       "      <th>3</th>\n",
       "      <td>2020년 09월 03일</td>\n",
       "      <td>가장로</td>\n",
       "      <td>목요일</td>\n",
       "      <td>상행</td>\n",
       "      <td>도마교네거리→원미네거리</td>\n",
       "      <td>12.5</td>\n",
       "      <td>11.2</td>\n",
       "      <td>10.4</td>\n",
       "      <td>11.9</td>\n",
       "      <td>9.8</td>\n",
       "      <td>...</td>\n",
       "      <td>11.4</td>\n",
       "      <td>9.4</td>\n",
       "      <td>9.3</td>\n",
       "      <td>8.1</td>\n",
       "      <td>9.6</td>\n",
       "      <td>9.9</td>\n",
       "      <td>8.3</td>\n",
       "      <td>9.9</td>\n",
       "      <td>8.9</td>\n",
       "      <td>8.6</td>\n",
       "    </tr>\n",
       "    <tr>\n",
       "      <th>4</th>\n",
       "      <td>2020년 09월 04일</td>\n",
       "      <td>가장로</td>\n",
       "      <td>금요일</td>\n",
       "      <td>상행</td>\n",
       "      <td>도마교네거리→원미네거리</td>\n",
       "      <td>11.7</td>\n",
       "      <td>12.1</td>\n",
       "      <td>10.2</td>\n",
       "      <td>11.0</td>\n",
       "      <td>12.0</td>\n",
       "      <td>...</td>\n",
       "      <td>11.0</td>\n",
       "      <td>9.7</td>\n",
       "      <td>10.7</td>\n",
       "      <td>11.4</td>\n",
       "      <td>11.9</td>\n",
       "      <td>12.2</td>\n",
       "      <td>12.3</td>\n",
       "      <td>11.7</td>\n",
       "      <td>10.1</td>\n",
       "      <td>9.1</td>\n",
       "    </tr>\n",
       "    <tr>\n",
       "      <th>5</th>\n",
       "      <td>2020년 09월 07일</td>\n",
       "      <td>가장로</td>\n",
       "      <td>월요일</td>\n",
       "      <td>상행</td>\n",
       "      <td>도마교네거리→원미네거리</td>\n",
       "      <td>14.0</td>\n",
       "      <td>16.2</td>\n",
       "      <td>13.3</td>\n",
       "      <td>13.6</td>\n",
       "      <td>15.6</td>\n",
       "      <td>...</td>\n",
       "      <td>10.8</td>\n",
       "      <td>9.2</td>\n",
       "      <td>9.5</td>\n",
       "      <td>10.8</td>\n",
       "      <td>9.9</td>\n",
       "      <td>9.7</td>\n",
       "      <td>9.6</td>\n",
       "      <td>8.5</td>\n",
       "      <td>8.4</td>\n",
       "      <td>7.6</td>\n",
       "    </tr>\n",
       "  </tbody>\n",
       "</table>\n",
       "<p>6 rows × 29 columns</p>\n",
       "</div>"
      ],
      "text/plain": [
       "              일자   도로   요일  방향            구간  6:00  6:05  6:10  6:15  6:20  \\\n",
       "0  2020년 08월 31일  가장로  월요일  상행  도마교네거리→원미네거리  14.0  12.2  10.7  12.6  14.2   \n",
       "1  2020년 09월 01일  가장로  화요일  상행  도마교네거리→원미네거리  11.6  11.5  11.7  10.3  10.4   \n",
       "2  2020년 09월 02일  가장로  수요일  상행  도마교네거리→원미네거리  11.3  12.2  13.9  14.1  12.6   \n",
       "3  2020년 09월 03일  가장로  목요일  상행  도마교네거리→원미네거리  12.5  11.2  10.4  11.9   9.8   \n",
       "4  2020년 09월 04일  가장로  금요일  상행  도마교네거리→원미네거리  11.7  12.1  10.2  11.0  12.0   \n",
       "5  2020년 09월 07일  가장로  월요일  상행  도마교네거리→원미네거리  14.0  16.2  13.3  13.6  15.6   \n",
       "\n",
       "   ...  7:10  7:15  7:20  7:25  7:30  7:35  7:40  7:45  7:50  7:55  \n",
       "0  ...   9.4   9.6  11.0  10.5   9.8  11.5  10.7  12.3  10.1   9.2  \n",
       "1  ...  12.1  10.6  11.9  12.0  10.5   9.2  10.4  11.7   9.7   8.7  \n",
       "2  ...   7.9   9.2  10.4  10.3  11.9   9.8   9.0   9.2  10.6   9.5  \n",
       "3  ...  11.4   9.4   9.3   8.1   9.6   9.9   8.3   9.9   8.9   8.6  \n",
       "4  ...  11.0   9.7  10.7  11.4  11.9  12.2  12.3  11.7  10.1   9.1  \n",
       "5  ...  10.8   9.2   9.5  10.8   9.9   9.7   9.6   8.5   8.4   7.6  \n",
       "\n",
       "[6 rows x 29 columns]"
      ]
     },
     "execution_count": 3,
     "metadata": {},
     "output_type": "execute_result"
    }
   ],
   "source": [
    "df"
   ]
  },
  {
   "cell_type": "code",
   "execution_count": 4,
   "metadata": {},
   "outputs": [],
   "source": [
    "df.drop('도로', axis=1, inplace=True)\n",
    "df.drop('요일', axis=1, inplace=True)\n",
    "df.drop('방향', axis=1, inplace=True)\n",
    "df.drop('구간', axis=1, inplace=True)"
   ]
  },
  {
   "cell_type": "code",
   "execution_count": 5,
   "metadata": {},
   "outputs": [
    {
     "data": {
      "text/html": [
       "<div>\n",
       "<style scoped>\n",
       "    .dataframe tbody tr th:only-of-type {\n",
       "        vertical-align: middle;\n",
       "    }\n",
       "\n",
       "    .dataframe tbody tr th {\n",
       "        vertical-align: top;\n",
       "    }\n",
       "\n",
       "    .dataframe thead th {\n",
       "        text-align: right;\n",
       "    }\n",
       "</style>\n",
       "<table border=\"1\" class=\"dataframe\">\n",
       "  <thead>\n",
       "    <tr style=\"text-align: right;\">\n",
       "      <th></th>\n",
       "      <th>일자</th>\n",
       "      <th>6:00</th>\n",
       "      <th>6:05</th>\n",
       "      <th>6:10</th>\n",
       "      <th>6:15</th>\n",
       "      <th>6:20</th>\n",
       "      <th>6:25</th>\n",
       "      <th>6:30</th>\n",
       "      <th>6:35</th>\n",
       "      <th>6:40</th>\n",
       "      <th>...</th>\n",
       "      <th>7:10</th>\n",
       "      <th>7:15</th>\n",
       "      <th>7:20</th>\n",
       "      <th>7:25</th>\n",
       "      <th>7:30</th>\n",
       "      <th>7:35</th>\n",
       "      <th>7:40</th>\n",
       "      <th>7:45</th>\n",
       "      <th>7:50</th>\n",
       "      <th>7:55</th>\n",
       "    </tr>\n",
       "  </thead>\n",
       "  <tbody>\n",
       "    <tr>\n",
       "      <th>0</th>\n",
       "      <td>2020년 08월 31일</td>\n",
       "      <td>14.0</td>\n",
       "      <td>12.2</td>\n",
       "      <td>10.7</td>\n",
       "      <td>12.6</td>\n",
       "      <td>14.2</td>\n",
       "      <td>12.7</td>\n",
       "      <td>14.6</td>\n",
       "      <td>14.6</td>\n",
       "      <td>13.8</td>\n",
       "      <td>...</td>\n",
       "      <td>9.4</td>\n",
       "      <td>9.6</td>\n",
       "      <td>11.0</td>\n",
       "      <td>10.5</td>\n",
       "      <td>9.8</td>\n",
       "      <td>11.5</td>\n",
       "      <td>10.7</td>\n",
       "      <td>12.3</td>\n",
       "      <td>10.1</td>\n",
       "      <td>9.2</td>\n",
       "    </tr>\n",
       "    <tr>\n",
       "      <th>1</th>\n",
       "      <td>2020년 09월 01일</td>\n",
       "      <td>11.6</td>\n",
       "      <td>11.5</td>\n",
       "      <td>11.7</td>\n",
       "      <td>10.3</td>\n",
       "      <td>10.4</td>\n",
       "      <td>11.9</td>\n",
       "      <td>13.4</td>\n",
       "      <td>12.3</td>\n",
       "      <td>13.4</td>\n",
       "      <td>...</td>\n",
       "      <td>12.1</td>\n",
       "      <td>10.6</td>\n",
       "      <td>11.9</td>\n",
       "      <td>12.0</td>\n",
       "      <td>10.5</td>\n",
       "      <td>9.2</td>\n",
       "      <td>10.4</td>\n",
       "      <td>11.7</td>\n",
       "      <td>9.7</td>\n",
       "      <td>8.7</td>\n",
       "    </tr>\n",
       "    <tr>\n",
       "      <th>2</th>\n",
       "      <td>2020년 09월 02일</td>\n",
       "      <td>11.3</td>\n",
       "      <td>12.2</td>\n",
       "      <td>13.9</td>\n",
       "      <td>14.1</td>\n",
       "      <td>12.6</td>\n",
       "      <td>11.7</td>\n",
       "      <td>10.1</td>\n",
       "      <td>9.5</td>\n",
       "      <td>11.0</td>\n",
       "      <td>...</td>\n",
       "      <td>7.9</td>\n",
       "      <td>9.2</td>\n",
       "      <td>10.4</td>\n",
       "      <td>10.3</td>\n",
       "      <td>11.9</td>\n",
       "      <td>9.8</td>\n",
       "      <td>9.0</td>\n",
       "      <td>9.2</td>\n",
       "      <td>10.6</td>\n",
       "      <td>9.5</td>\n",
       "    </tr>\n",
       "    <tr>\n",
       "      <th>3</th>\n",
       "      <td>2020년 09월 03일</td>\n",
       "      <td>12.5</td>\n",
       "      <td>11.2</td>\n",
       "      <td>10.4</td>\n",
       "      <td>11.9</td>\n",
       "      <td>9.8</td>\n",
       "      <td>11.7</td>\n",
       "      <td>13.1</td>\n",
       "      <td>12.5</td>\n",
       "      <td>10.8</td>\n",
       "      <td>...</td>\n",
       "      <td>11.4</td>\n",
       "      <td>9.4</td>\n",
       "      <td>9.3</td>\n",
       "      <td>8.1</td>\n",
       "      <td>9.6</td>\n",
       "      <td>9.9</td>\n",
       "      <td>8.3</td>\n",
       "      <td>9.9</td>\n",
       "      <td>8.9</td>\n",
       "      <td>8.6</td>\n",
       "    </tr>\n",
       "    <tr>\n",
       "      <th>4</th>\n",
       "      <td>2020년 09월 04일</td>\n",
       "      <td>11.7</td>\n",
       "      <td>12.1</td>\n",
       "      <td>10.2</td>\n",
       "      <td>11.0</td>\n",
       "      <td>12.0</td>\n",
       "      <td>12.0</td>\n",
       "      <td>13.2</td>\n",
       "      <td>12.3</td>\n",
       "      <td>12.0</td>\n",
       "      <td>...</td>\n",
       "      <td>11.0</td>\n",
       "      <td>9.7</td>\n",
       "      <td>10.7</td>\n",
       "      <td>11.4</td>\n",
       "      <td>11.9</td>\n",
       "      <td>12.2</td>\n",
       "      <td>12.3</td>\n",
       "      <td>11.7</td>\n",
       "      <td>10.1</td>\n",
       "      <td>9.1</td>\n",
       "    </tr>\n",
       "    <tr>\n",
       "      <th>5</th>\n",
       "      <td>2020년 09월 07일</td>\n",
       "      <td>14.0</td>\n",
       "      <td>16.2</td>\n",
       "      <td>13.3</td>\n",
       "      <td>13.6</td>\n",
       "      <td>15.6</td>\n",
       "      <td>12.9</td>\n",
       "      <td>13.6</td>\n",
       "      <td>11.7</td>\n",
       "      <td>10.3</td>\n",
       "      <td>...</td>\n",
       "      <td>10.8</td>\n",
       "      <td>9.2</td>\n",
       "      <td>9.5</td>\n",
       "      <td>10.8</td>\n",
       "      <td>9.9</td>\n",
       "      <td>9.7</td>\n",
       "      <td>9.6</td>\n",
       "      <td>8.5</td>\n",
       "      <td>8.4</td>\n",
       "      <td>7.6</td>\n",
       "    </tr>\n",
       "  </tbody>\n",
       "</table>\n",
       "<p>6 rows × 25 columns</p>\n",
       "</div>"
      ],
      "text/plain": [
       "              일자  6:00  6:05  6:10  6:15  6:20  6:25  6:30  6:35  6:40  ...  \\\n",
       "0  2020년 08월 31일  14.0  12.2  10.7  12.6  14.2  12.7  14.6  14.6  13.8  ...   \n",
       "1  2020년 09월 01일  11.6  11.5  11.7  10.3  10.4  11.9  13.4  12.3  13.4  ...   \n",
       "2  2020년 09월 02일  11.3  12.2  13.9  14.1  12.6  11.7  10.1   9.5  11.0  ...   \n",
       "3  2020년 09월 03일  12.5  11.2  10.4  11.9   9.8  11.7  13.1  12.5  10.8  ...   \n",
       "4  2020년 09월 04일  11.7  12.1  10.2  11.0  12.0  12.0  13.2  12.3  12.0  ...   \n",
       "5  2020년 09월 07일  14.0  16.2  13.3  13.6  15.6  12.9  13.6  11.7  10.3  ...   \n",
       "\n",
       "   7:10  7:15  7:20  7:25  7:30  7:35  7:40  7:45  7:50  7:55  \n",
       "0   9.4   9.6  11.0  10.5   9.8  11.5  10.7  12.3  10.1   9.2  \n",
       "1  12.1  10.6  11.9  12.0  10.5   9.2  10.4  11.7   9.7   8.7  \n",
       "2   7.9   9.2  10.4  10.3  11.9   9.8   9.0   9.2  10.6   9.5  \n",
       "3  11.4   9.4   9.3   8.1   9.6   9.9   8.3   9.9   8.9   8.6  \n",
       "4  11.0   9.7  10.7  11.4  11.9  12.2  12.3  11.7  10.1   9.1  \n",
       "5  10.8   9.2   9.5  10.8   9.9   9.7   9.6   8.5   8.4   7.6  \n",
       "\n",
       "[6 rows x 25 columns]"
      ]
     },
     "execution_count": 5,
     "metadata": {},
     "output_type": "execute_result"
    }
   ],
   "source": [
    "df"
   ]
  },
  {
   "cell_type": "code",
   "execution_count": 6,
   "metadata": {},
   "outputs": [
    {
     "data": {
      "text/plain": [
       "0    2020년 08월 31일\n",
       "1    2020년 09월 01일\n",
       "2    2020년 09월 02일\n",
       "3    2020년 09월 03일\n",
       "4    2020년 09월 04일\n",
       "5    2020년 09월 07일\n",
       "Name: 일자, dtype: object"
      ]
     },
     "execution_count": 6,
     "metadata": {},
     "output_type": "execute_result"
    }
   ],
   "source": [
    "df['일자']"
   ]
  },
  {
   "cell_type": "code",
   "execution_count": 7,
   "metadata": {},
   "outputs": [],
   "source": [
    "data_list = list(df['일자'])"
   ]
  },
  {
   "cell_type": "code",
   "execution_count": 8,
   "metadata": {},
   "outputs": [
    {
     "data": {
      "text/plain": [
       "{0: '2020년 08월 31일',\n",
       " 1: '2020년 09월 01일',\n",
       " 2: '2020년 09월 02일',\n",
       " 3: '2020년 09월 03일',\n",
       " 4: '2020년 09월 04일',\n",
       " 5: '2020년 09월 07일'}"
      ]
     },
     "execution_count": 8,
     "metadata": {},
     "output_type": "execute_result"
    }
   ],
   "source": [
    "data = {}\n",
    "for i, j in enumerate(data_list):\n",
    "    data[i] = j\n",
    "data"
   ]
  },
  {
   "cell_type": "code",
   "execution_count": 9,
   "metadata": {},
   "outputs": [
    {
     "data": {
      "text/html": [
       "<div>\n",
       "<style scoped>\n",
       "    .dataframe tbody tr th:only-of-type {\n",
       "        vertical-align: middle;\n",
       "    }\n",
       "\n",
       "    .dataframe tbody tr th {\n",
       "        vertical-align: top;\n",
       "    }\n",
       "\n",
       "    .dataframe thead th {\n",
       "        text-align: right;\n",
       "    }\n",
       "</style>\n",
       "<table border=\"1\" class=\"dataframe\">\n",
       "  <thead>\n",
       "    <tr style=\"text-align: right;\">\n",
       "      <th></th>\n",
       "      <th>일자</th>\n",
       "      <th>6:00</th>\n",
       "      <th>6:05</th>\n",
       "      <th>6:10</th>\n",
       "      <th>6:15</th>\n",
       "      <th>6:20</th>\n",
       "      <th>6:25</th>\n",
       "      <th>6:30</th>\n",
       "      <th>6:35</th>\n",
       "      <th>6:40</th>\n",
       "      <th>...</th>\n",
       "      <th>7:10</th>\n",
       "      <th>7:15</th>\n",
       "      <th>7:20</th>\n",
       "      <th>7:25</th>\n",
       "      <th>7:30</th>\n",
       "      <th>7:35</th>\n",
       "      <th>7:40</th>\n",
       "      <th>7:45</th>\n",
       "      <th>7:50</th>\n",
       "      <th>7:55</th>\n",
       "    </tr>\n",
       "  </thead>\n",
       "  <tbody>\n",
       "    <tr>\n",
       "      <th>2020년 08월 31일</th>\n",
       "      <td>2020년 08월 31일</td>\n",
       "      <td>14.0</td>\n",
       "      <td>12.2</td>\n",
       "      <td>10.7</td>\n",
       "      <td>12.6</td>\n",
       "      <td>14.2</td>\n",
       "      <td>12.7</td>\n",
       "      <td>14.6</td>\n",
       "      <td>14.6</td>\n",
       "      <td>13.8</td>\n",
       "      <td>...</td>\n",
       "      <td>9.4</td>\n",
       "      <td>9.6</td>\n",
       "      <td>11.0</td>\n",
       "      <td>10.5</td>\n",
       "      <td>9.8</td>\n",
       "      <td>11.5</td>\n",
       "      <td>10.7</td>\n",
       "      <td>12.3</td>\n",
       "      <td>10.1</td>\n",
       "      <td>9.2</td>\n",
       "    </tr>\n",
       "    <tr>\n",
       "      <th>2020년 09월 01일</th>\n",
       "      <td>2020년 09월 01일</td>\n",
       "      <td>11.6</td>\n",
       "      <td>11.5</td>\n",
       "      <td>11.7</td>\n",
       "      <td>10.3</td>\n",
       "      <td>10.4</td>\n",
       "      <td>11.9</td>\n",
       "      <td>13.4</td>\n",
       "      <td>12.3</td>\n",
       "      <td>13.4</td>\n",
       "      <td>...</td>\n",
       "      <td>12.1</td>\n",
       "      <td>10.6</td>\n",
       "      <td>11.9</td>\n",
       "      <td>12.0</td>\n",
       "      <td>10.5</td>\n",
       "      <td>9.2</td>\n",
       "      <td>10.4</td>\n",
       "      <td>11.7</td>\n",
       "      <td>9.7</td>\n",
       "      <td>8.7</td>\n",
       "    </tr>\n",
       "    <tr>\n",
       "      <th>2020년 09월 02일</th>\n",
       "      <td>2020년 09월 02일</td>\n",
       "      <td>11.3</td>\n",
       "      <td>12.2</td>\n",
       "      <td>13.9</td>\n",
       "      <td>14.1</td>\n",
       "      <td>12.6</td>\n",
       "      <td>11.7</td>\n",
       "      <td>10.1</td>\n",
       "      <td>9.5</td>\n",
       "      <td>11.0</td>\n",
       "      <td>...</td>\n",
       "      <td>7.9</td>\n",
       "      <td>9.2</td>\n",
       "      <td>10.4</td>\n",
       "      <td>10.3</td>\n",
       "      <td>11.9</td>\n",
       "      <td>9.8</td>\n",
       "      <td>9.0</td>\n",
       "      <td>9.2</td>\n",
       "      <td>10.6</td>\n",
       "      <td>9.5</td>\n",
       "    </tr>\n",
       "    <tr>\n",
       "      <th>2020년 09월 03일</th>\n",
       "      <td>2020년 09월 03일</td>\n",
       "      <td>12.5</td>\n",
       "      <td>11.2</td>\n",
       "      <td>10.4</td>\n",
       "      <td>11.9</td>\n",
       "      <td>9.8</td>\n",
       "      <td>11.7</td>\n",
       "      <td>13.1</td>\n",
       "      <td>12.5</td>\n",
       "      <td>10.8</td>\n",
       "      <td>...</td>\n",
       "      <td>11.4</td>\n",
       "      <td>9.4</td>\n",
       "      <td>9.3</td>\n",
       "      <td>8.1</td>\n",
       "      <td>9.6</td>\n",
       "      <td>9.9</td>\n",
       "      <td>8.3</td>\n",
       "      <td>9.9</td>\n",
       "      <td>8.9</td>\n",
       "      <td>8.6</td>\n",
       "    </tr>\n",
       "    <tr>\n",
       "      <th>2020년 09월 04일</th>\n",
       "      <td>2020년 09월 04일</td>\n",
       "      <td>11.7</td>\n",
       "      <td>12.1</td>\n",
       "      <td>10.2</td>\n",
       "      <td>11.0</td>\n",
       "      <td>12.0</td>\n",
       "      <td>12.0</td>\n",
       "      <td>13.2</td>\n",
       "      <td>12.3</td>\n",
       "      <td>12.0</td>\n",
       "      <td>...</td>\n",
       "      <td>11.0</td>\n",
       "      <td>9.7</td>\n",
       "      <td>10.7</td>\n",
       "      <td>11.4</td>\n",
       "      <td>11.9</td>\n",
       "      <td>12.2</td>\n",
       "      <td>12.3</td>\n",
       "      <td>11.7</td>\n",
       "      <td>10.1</td>\n",
       "      <td>9.1</td>\n",
       "    </tr>\n",
       "    <tr>\n",
       "      <th>2020년 09월 07일</th>\n",
       "      <td>2020년 09월 07일</td>\n",
       "      <td>14.0</td>\n",
       "      <td>16.2</td>\n",
       "      <td>13.3</td>\n",
       "      <td>13.6</td>\n",
       "      <td>15.6</td>\n",
       "      <td>12.9</td>\n",
       "      <td>13.6</td>\n",
       "      <td>11.7</td>\n",
       "      <td>10.3</td>\n",
       "      <td>...</td>\n",
       "      <td>10.8</td>\n",
       "      <td>9.2</td>\n",
       "      <td>9.5</td>\n",
       "      <td>10.8</td>\n",
       "      <td>9.9</td>\n",
       "      <td>9.7</td>\n",
       "      <td>9.6</td>\n",
       "      <td>8.5</td>\n",
       "      <td>8.4</td>\n",
       "      <td>7.6</td>\n",
       "    </tr>\n",
       "  </tbody>\n",
       "</table>\n",
       "<p>6 rows × 25 columns</p>\n",
       "</div>"
      ],
      "text/plain": [
       "                          일자  6:00  6:05  6:10  6:15  6:20  6:25  6:30  6:35  \\\n",
       "2020년 08월 31일  2020년 08월 31일  14.0  12.2  10.7  12.6  14.2  12.7  14.6  14.6   \n",
       "2020년 09월 01일  2020년 09월 01일  11.6  11.5  11.7  10.3  10.4  11.9  13.4  12.3   \n",
       "2020년 09월 02일  2020년 09월 02일  11.3  12.2  13.9  14.1  12.6  11.7  10.1   9.5   \n",
       "2020년 09월 03일  2020년 09월 03일  12.5  11.2  10.4  11.9   9.8  11.7  13.1  12.5   \n",
       "2020년 09월 04일  2020년 09월 04일  11.7  12.1  10.2  11.0  12.0  12.0  13.2  12.3   \n",
       "2020년 09월 07일  2020년 09월 07일  14.0  16.2  13.3  13.6  15.6  12.9  13.6  11.7   \n",
       "\n",
       "               6:40  ...  7:10  7:15  7:20  7:25  7:30  7:35  7:40  7:45  \\\n",
       "2020년 08월 31일  13.8  ...   9.4   9.6  11.0  10.5   9.8  11.5  10.7  12.3   \n",
       "2020년 09월 01일  13.4  ...  12.1  10.6  11.9  12.0  10.5   9.2  10.4  11.7   \n",
       "2020년 09월 02일  11.0  ...   7.9   9.2  10.4  10.3  11.9   9.8   9.0   9.2   \n",
       "2020년 09월 03일  10.8  ...  11.4   9.4   9.3   8.1   9.6   9.9   8.3   9.9   \n",
       "2020년 09월 04일  12.0  ...  11.0   9.7  10.7  11.4  11.9  12.2  12.3  11.7   \n",
       "2020년 09월 07일  10.3  ...  10.8   9.2   9.5  10.8   9.9   9.7   9.6   8.5   \n",
       "\n",
       "               7:50  7:55  \n",
       "2020년 08월 31일  10.1   9.2  \n",
       "2020년 09월 01일   9.7   8.7  \n",
       "2020년 09월 02일  10.6   9.5  \n",
       "2020년 09월 03일   8.9   8.6  \n",
       "2020년 09월 04일  10.1   9.1  \n",
       "2020년 09월 07일   8.4   7.6  \n",
       "\n",
       "[6 rows x 25 columns]"
      ]
     },
     "execution_count": 9,
     "metadata": {},
     "output_type": "execute_result"
    }
   ],
   "source": [
    "df = df.rename(index=data)\n",
    "df"
   ]
  },
  {
   "cell_type": "code",
   "execution_count": 10,
   "metadata": {},
   "outputs": [
    {
     "data": {
      "text/html": [
       "<div>\n",
       "<style scoped>\n",
       "    .dataframe tbody tr th:only-of-type {\n",
       "        vertical-align: middle;\n",
       "    }\n",
       "\n",
       "    .dataframe tbody tr th {\n",
       "        vertical-align: top;\n",
       "    }\n",
       "\n",
       "    .dataframe thead th {\n",
       "        text-align: right;\n",
       "    }\n",
       "</style>\n",
       "<table border=\"1\" class=\"dataframe\">\n",
       "  <thead>\n",
       "    <tr style=\"text-align: right;\">\n",
       "      <th></th>\n",
       "      <th>6:00</th>\n",
       "      <th>6:05</th>\n",
       "      <th>6:10</th>\n",
       "      <th>6:15</th>\n",
       "      <th>6:20</th>\n",
       "      <th>6:25</th>\n",
       "      <th>6:30</th>\n",
       "      <th>6:35</th>\n",
       "      <th>6:40</th>\n",
       "      <th>6:45</th>\n",
       "      <th>...</th>\n",
       "      <th>7:10</th>\n",
       "      <th>7:15</th>\n",
       "      <th>7:20</th>\n",
       "      <th>7:25</th>\n",
       "      <th>7:30</th>\n",
       "      <th>7:35</th>\n",
       "      <th>7:40</th>\n",
       "      <th>7:45</th>\n",
       "      <th>7:50</th>\n",
       "      <th>7:55</th>\n",
       "    </tr>\n",
       "  </thead>\n",
       "  <tbody>\n",
       "    <tr>\n",
       "      <th>2020년 08월 31일</th>\n",
       "      <td>14.0</td>\n",
       "      <td>12.2</td>\n",
       "      <td>10.7</td>\n",
       "      <td>12.6</td>\n",
       "      <td>14.2</td>\n",
       "      <td>12.7</td>\n",
       "      <td>14.6</td>\n",
       "      <td>14.6</td>\n",
       "      <td>13.8</td>\n",
       "      <td>12.8</td>\n",
       "      <td>...</td>\n",
       "      <td>9.4</td>\n",
       "      <td>9.6</td>\n",
       "      <td>11.0</td>\n",
       "      <td>10.5</td>\n",
       "      <td>9.8</td>\n",
       "      <td>11.5</td>\n",
       "      <td>10.7</td>\n",
       "      <td>12.3</td>\n",
       "      <td>10.1</td>\n",
       "      <td>9.2</td>\n",
       "    </tr>\n",
       "    <tr>\n",
       "      <th>2020년 09월 01일</th>\n",
       "      <td>11.6</td>\n",
       "      <td>11.5</td>\n",
       "      <td>11.7</td>\n",
       "      <td>10.3</td>\n",
       "      <td>10.4</td>\n",
       "      <td>11.9</td>\n",
       "      <td>13.4</td>\n",
       "      <td>12.3</td>\n",
       "      <td>13.4</td>\n",
       "      <td>13.4</td>\n",
       "      <td>...</td>\n",
       "      <td>12.1</td>\n",
       "      <td>10.6</td>\n",
       "      <td>11.9</td>\n",
       "      <td>12.0</td>\n",
       "      <td>10.5</td>\n",
       "      <td>9.2</td>\n",
       "      <td>10.4</td>\n",
       "      <td>11.7</td>\n",
       "      <td>9.7</td>\n",
       "      <td>8.7</td>\n",
       "    </tr>\n",
       "    <tr>\n",
       "      <th>2020년 09월 02일</th>\n",
       "      <td>11.3</td>\n",
       "      <td>12.2</td>\n",
       "      <td>13.9</td>\n",
       "      <td>14.1</td>\n",
       "      <td>12.6</td>\n",
       "      <td>11.7</td>\n",
       "      <td>10.1</td>\n",
       "      <td>9.5</td>\n",
       "      <td>11.0</td>\n",
       "      <td>9.8</td>\n",
       "      <td>...</td>\n",
       "      <td>7.9</td>\n",
       "      <td>9.2</td>\n",
       "      <td>10.4</td>\n",
       "      <td>10.3</td>\n",
       "      <td>11.9</td>\n",
       "      <td>9.8</td>\n",
       "      <td>9.0</td>\n",
       "      <td>9.2</td>\n",
       "      <td>10.6</td>\n",
       "      <td>9.5</td>\n",
       "    </tr>\n",
       "    <tr>\n",
       "      <th>2020년 09월 03일</th>\n",
       "      <td>12.5</td>\n",
       "      <td>11.2</td>\n",
       "      <td>10.4</td>\n",
       "      <td>11.9</td>\n",
       "      <td>9.8</td>\n",
       "      <td>11.7</td>\n",
       "      <td>13.1</td>\n",
       "      <td>12.5</td>\n",
       "      <td>10.8</td>\n",
       "      <td>9.6</td>\n",
       "      <td>...</td>\n",
       "      <td>11.4</td>\n",
       "      <td>9.4</td>\n",
       "      <td>9.3</td>\n",
       "      <td>8.1</td>\n",
       "      <td>9.6</td>\n",
       "      <td>9.9</td>\n",
       "      <td>8.3</td>\n",
       "      <td>9.9</td>\n",
       "      <td>8.9</td>\n",
       "      <td>8.6</td>\n",
       "    </tr>\n",
       "    <tr>\n",
       "      <th>2020년 09월 04일</th>\n",
       "      <td>11.7</td>\n",
       "      <td>12.1</td>\n",
       "      <td>10.2</td>\n",
       "      <td>11.0</td>\n",
       "      <td>12.0</td>\n",
       "      <td>12.0</td>\n",
       "      <td>13.2</td>\n",
       "      <td>12.3</td>\n",
       "      <td>12.0</td>\n",
       "      <td>10.2</td>\n",
       "      <td>...</td>\n",
       "      <td>11.0</td>\n",
       "      <td>9.7</td>\n",
       "      <td>10.7</td>\n",
       "      <td>11.4</td>\n",
       "      <td>11.9</td>\n",
       "      <td>12.2</td>\n",
       "      <td>12.3</td>\n",
       "      <td>11.7</td>\n",
       "      <td>10.1</td>\n",
       "      <td>9.1</td>\n",
       "    </tr>\n",
       "    <tr>\n",
       "      <th>2020년 09월 07일</th>\n",
       "      <td>14.0</td>\n",
       "      <td>16.2</td>\n",
       "      <td>13.3</td>\n",
       "      <td>13.6</td>\n",
       "      <td>15.6</td>\n",
       "      <td>12.9</td>\n",
       "      <td>13.6</td>\n",
       "      <td>11.7</td>\n",
       "      <td>10.3</td>\n",
       "      <td>11.6</td>\n",
       "      <td>...</td>\n",
       "      <td>10.8</td>\n",
       "      <td>9.2</td>\n",
       "      <td>9.5</td>\n",
       "      <td>10.8</td>\n",
       "      <td>9.9</td>\n",
       "      <td>9.7</td>\n",
       "      <td>9.6</td>\n",
       "      <td>8.5</td>\n",
       "      <td>8.4</td>\n",
       "      <td>7.6</td>\n",
       "    </tr>\n",
       "  </tbody>\n",
       "</table>\n",
       "<p>6 rows × 24 columns</p>\n",
       "</div>"
      ],
      "text/plain": [
       "               6:00  6:05  6:10  6:15  6:20  6:25  6:30  6:35  6:40  6:45  \\\n",
       "2020년 08월 31일  14.0  12.2  10.7  12.6  14.2  12.7  14.6  14.6  13.8  12.8   \n",
       "2020년 09월 01일  11.6  11.5  11.7  10.3  10.4  11.9  13.4  12.3  13.4  13.4   \n",
       "2020년 09월 02일  11.3  12.2  13.9  14.1  12.6  11.7  10.1   9.5  11.0   9.8   \n",
       "2020년 09월 03일  12.5  11.2  10.4  11.9   9.8  11.7  13.1  12.5  10.8   9.6   \n",
       "2020년 09월 04일  11.7  12.1  10.2  11.0  12.0  12.0  13.2  12.3  12.0  10.2   \n",
       "2020년 09월 07일  14.0  16.2  13.3  13.6  15.6  12.9  13.6  11.7  10.3  11.6   \n",
       "\n",
       "               ...  7:10  7:15  7:20  7:25  7:30  7:35  7:40  7:45  7:50  7:55  \n",
       "2020년 08월 31일  ...   9.4   9.6  11.0  10.5   9.8  11.5  10.7  12.3  10.1   9.2  \n",
       "2020년 09월 01일  ...  12.1  10.6  11.9  12.0  10.5   9.2  10.4  11.7   9.7   8.7  \n",
       "2020년 09월 02일  ...   7.9   9.2  10.4  10.3  11.9   9.8   9.0   9.2  10.6   9.5  \n",
       "2020년 09월 03일  ...  11.4   9.4   9.3   8.1   9.6   9.9   8.3   9.9   8.9   8.6  \n",
       "2020년 09월 04일  ...  11.0   9.7  10.7  11.4  11.9  12.2  12.3  11.7  10.1   9.1  \n",
       "2020년 09월 07일  ...  10.8   9.2   9.5  10.8   9.9   9.7   9.6   8.5   8.4   7.6  \n",
       "\n",
       "[6 rows x 24 columns]"
      ]
     },
     "execution_count": 10,
     "metadata": {},
     "output_type": "execute_result"
    }
   ],
   "source": [
    "df.drop('일자', axis=1, inplace=True)\n",
    "df"
   ]
  },
  {
   "cell_type": "code",
   "execution_count": 11,
   "metadata": {},
   "outputs": [
    {
     "data": {
      "text/html": [
       "<div>\n",
       "<style scoped>\n",
       "    .dataframe tbody tr th:only-of-type {\n",
       "        vertical-align: middle;\n",
       "    }\n",
       "\n",
       "    .dataframe tbody tr th {\n",
       "        vertical-align: top;\n",
       "    }\n",
       "\n",
       "    .dataframe thead th {\n",
       "        text-align: right;\n",
       "    }\n",
       "</style>\n",
       "<table border=\"1\" class=\"dataframe\">\n",
       "  <thead>\n",
       "    <tr style=\"text-align: right;\">\n",
       "      <th></th>\n",
       "      <th>2020년 08월 31일</th>\n",
       "      <th>2020년 09월 01일</th>\n",
       "      <th>2020년 09월 02일</th>\n",
       "      <th>2020년 09월 03일</th>\n",
       "      <th>2020년 09월 04일</th>\n",
       "      <th>2020년 09월 07일</th>\n",
       "    </tr>\n",
       "  </thead>\n",
       "  <tbody>\n",
       "    <tr>\n",
       "      <th>6:00</th>\n",
       "      <td>14.0</td>\n",
       "      <td>11.6</td>\n",
       "      <td>11.3</td>\n",
       "      <td>12.5</td>\n",
       "      <td>11.7</td>\n",
       "      <td>14.0</td>\n",
       "    </tr>\n",
       "    <tr>\n",
       "      <th>6:05</th>\n",
       "      <td>12.2</td>\n",
       "      <td>11.5</td>\n",
       "      <td>12.2</td>\n",
       "      <td>11.2</td>\n",
       "      <td>12.1</td>\n",
       "      <td>16.2</td>\n",
       "    </tr>\n",
       "    <tr>\n",
       "      <th>6:10</th>\n",
       "      <td>10.7</td>\n",
       "      <td>11.7</td>\n",
       "      <td>13.9</td>\n",
       "      <td>10.4</td>\n",
       "      <td>10.2</td>\n",
       "      <td>13.3</td>\n",
       "    </tr>\n",
       "    <tr>\n",
       "      <th>6:15</th>\n",
       "      <td>12.6</td>\n",
       "      <td>10.3</td>\n",
       "      <td>14.1</td>\n",
       "      <td>11.9</td>\n",
       "      <td>11.0</td>\n",
       "      <td>13.6</td>\n",
       "    </tr>\n",
       "    <tr>\n",
       "      <th>6:20</th>\n",
       "      <td>14.2</td>\n",
       "      <td>10.4</td>\n",
       "      <td>12.6</td>\n",
       "      <td>9.8</td>\n",
       "      <td>12.0</td>\n",
       "      <td>15.6</td>\n",
       "    </tr>\n",
       "    <tr>\n",
       "      <th>6:25</th>\n",
       "      <td>12.7</td>\n",
       "      <td>11.9</td>\n",
       "      <td>11.7</td>\n",
       "      <td>11.7</td>\n",
       "      <td>12.0</td>\n",
       "      <td>12.9</td>\n",
       "    </tr>\n",
       "    <tr>\n",
       "      <th>6:30</th>\n",
       "      <td>14.6</td>\n",
       "      <td>13.4</td>\n",
       "      <td>10.1</td>\n",
       "      <td>13.1</td>\n",
       "      <td>13.2</td>\n",
       "      <td>13.6</td>\n",
       "    </tr>\n",
       "    <tr>\n",
       "      <th>6:35</th>\n",
       "      <td>14.6</td>\n",
       "      <td>12.3</td>\n",
       "      <td>9.5</td>\n",
       "      <td>12.5</td>\n",
       "      <td>12.3</td>\n",
       "      <td>11.7</td>\n",
       "    </tr>\n",
       "    <tr>\n",
       "      <th>6:40</th>\n",
       "      <td>13.8</td>\n",
       "      <td>13.4</td>\n",
       "      <td>11.0</td>\n",
       "      <td>10.8</td>\n",
       "      <td>12.0</td>\n",
       "      <td>10.3</td>\n",
       "    </tr>\n",
       "    <tr>\n",
       "      <th>6:45</th>\n",
       "      <td>12.8</td>\n",
       "      <td>13.4</td>\n",
       "      <td>9.8</td>\n",
       "      <td>9.6</td>\n",
       "      <td>10.2</td>\n",
       "      <td>11.6</td>\n",
       "    </tr>\n",
       "    <tr>\n",
       "      <th>6:50</th>\n",
       "      <td>12.2</td>\n",
       "      <td>13.6</td>\n",
       "      <td>9.4</td>\n",
       "      <td>11.3</td>\n",
       "      <td>9.9</td>\n",
       "      <td>13.1</td>\n",
       "    </tr>\n",
       "    <tr>\n",
       "      <th>6:55</th>\n",
       "      <td>11.6</td>\n",
       "      <td>13.6</td>\n",
       "      <td>9.4</td>\n",
       "      <td>11.5</td>\n",
       "      <td>10.8</td>\n",
       "      <td>13.7</td>\n",
       "    </tr>\n",
       "    <tr>\n",
       "      <th>7:00</th>\n",
       "      <td>10.0</td>\n",
       "      <td>11.6</td>\n",
       "      <td>10.7</td>\n",
       "      <td>9.7</td>\n",
       "      <td>12.3</td>\n",
       "      <td>11.5</td>\n",
       "    </tr>\n",
       "    <tr>\n",
       "      <th>7:05</th>\n",
       "      <td>8.8</td>\n",
       "      <td>10.3</td>\n",
       "      <td>8.8</td>\n",
       "      <td>9.9</td>\n",
       "      <td>10.6</td>\n",
       "      <td>10.9</td>\n",
       "    </tr>\n",
       "    <tr>\n",
       "      <th>7:10</th>\n",
       "      <td>9.4</td>\n",
       "      <td>12.1</td>\n",
       "      <td>7.9</td>\n",
       "      <td>11.4</td>\n",
       "      <td>11.0</td>\n",
       "      <td>10.8</td>\n",
       "    </tr>\n",
       "    <tr>\n",
       "      <th>7:15</th>\n",
       "      <td>9.6</td>\n",
       "      <td>10.6</td>\n",
       "      <td>9.2</td>\n",
       "      <td>9.4</td>\n",
       "      <td>9.7</td>\n",
       "      <td>9.2</td>\n",
       "    </tr>\n",
       "    <tr>\n",
       "      <th>7:20</th>\n",
       "      <td>11.0</td>\n",
       "      <td>11.9</td>\n",
       "      <td>10.4</td>\n",
       "      <td>9.3</td>\n",
       "      <td>10.7</td>\n",
       "      <td>9.5</td>\n",
       "    </tr>\n",
       "    <tr>\n",
       "      <th>7:25</th>\n",
       "      <td>10.5</td>\n",
       "      <td>12.0</td>\n",
       "      <td>10.3</td>\n",
       "      <td>8.1</td>\n",
       "      <td>11.4</td>\n",
       "      <td>10.8</td>\n",
       "    </tr>\n",
       "    <tr>\n",
       "      <th>7:30</th>\n",
       "      <td>9.8</td>\n",
       "      <td>10.5</td>\n",
       "      <td>11.9</td>\n",
       "      <td>9.6</td>\n",
       "      <td>11.9</td>\n",
       "      <td>9.9</td>\n",
       "    </tr>\n",
       "    <tr>\n",
       "      <th>7:35</th>\n",
       "      <td>11.5</td>\n",
       "      <td>9.2</td>\n",
       "      <td>9.8</td>\n",
       "      <td>9.9</td>\n",
       "      <td>12.2</td>\n",
       "      <td>9.7</td>\n",
       "    </tr>\n",
       "    <tr>\n",
       "      <th>7:40</th>\n",
       "      <td>10.7</td>\n",
       "      <td>10.4</td>\n",
       "      <td>9.0</td>\n",
       "      <td>8.3</td>\n",
       "      <td>12.3</td>\n",
       "      <td>9.6</td>\n",
       "    </tr>\n",
       "    <tr>\n",
       "      <th>7:45</th>\n",
       "      <td>12.3</td>\n",
       "      <td>11.7</td>\n",
       "      <td>9.2</td>\n",
       "      <td>9.9</td>\n",
       "      <td>11.7</td>\n",
       "      <td>8.5</td>\n",
       "    </tr>\n",
       "    <tr>\n",
       "      <th>7:50</th>\n",
       "      <td>10.1</td>\n",
       "      <td>9.7</td>\n",
       "      <td>10.6</td>\n",
       "      <td>8.9</td>\n",
       "      <td>10.1</td>\n",
       "      <td>8.4</td>\n",
       "    </tr>\n",
       "    <tr>\n",
       "      <th>7:55</th>\n",
       "      <td>9.2</td>\n",
       "      <td>8.7</td>\n",
       "      <td>9.5</td>\n",
       "      <td>8.6</td>\n",
       "      <td>9.1</td>\n",
       "      <td>7.6</td>\n",
       "    </tr>\n",
       "  </tbody>\n",
       "</table>\n",
       "</div>"
      ],
      "text/plain": [
       "      2020년 08월 31일  2020년 09월 01일  2020년 09월 02일  2020년 09월 03일  \\\n",
       "6:00           14.0           11.6           11.3           12.5   \n",
       "6:05           12.2           11.5           12.2           11.2   \n",
       "6:10           10.7           11.7           13.9           10.4   \n",
       "6:15           12.6           10.3           14.1           11.9   \n",
       "6:20           14.2           10.4           12.6            9.8   \n",
       "6:25           12.7           11.9           11.7           11.7   \n",
       "6:30           14.6           13.4           10.1           13.1   \n",
       "6:35           14.6           12.3            9.5           12.5   \n",
       "6:40           13.8           13.4           11.0           10.8   \n",
       "6:45           12.8           13.4            9.8            9.6   \n",
       "6:50           12.2           13.6            9.4           11.3   \n",
       "6:55           11.6           13.6            9.4           11.5   \n",
       "7:00           10.0           11.6           10.7            9.7   \n",
       "7:05            8.8           10.3            8.8            9.9   \n",
       "7:10            9.4           12.1            7.9           11.4   \n",
       "7:15            9.6           10.6            9.2            9.4   \n",
       "7:20           11.0           11.9           10.4            9.3   \n",
       "7:25           10.5           12.0           10.3            8.1   \n",
       "7:30            9.8           10.5           11.9            9.6   \n",
       "7:35           11.5            9.2            9.8            9.9   \n",
       "7:40           10.7           10.4            9.0            8.3   \n",
       "7:45           12.3           11.7            9.2            9.9   \n",
       "7:50           10.1            9.7           10.6            8.9   \n",
       "7:55            9.2            8.7            9.5            8.6   \n",
       "\n",
       "      2020년 09월 04일  2020년 09월 07일  \n",
       "6:00           11.7           14.0  \n",
       "6:05           12.1           16.2  \n",
       "6:10           10.2           13.3  \n",
       "6:15           11.0           13.6  \n",
       "6:20           12.0           15.6  \n",
       "6:25           12.0           12.9  \n",
       "6:30           13.2           13.6  \n",
       "6:35           12.3           11.7  \n",
       "6:40           12.0           10.3  \n",
       "6:45           10.2           11.6  \n",
       "6:50            9.9           13.1  \n",
       "6:55           10.8           13.7  \n",
       "7:00           12.3           11.5  \n",
       "7:05           10.6           10.9  \n",
       "7:10           11.0           10.8  \n",
       "7:15            9.7            9.2  \n",
       "7:20           10.7            9.5  \n",
       "7:25           11.4           10.8  \n",
       "7:30           11.9            9.9  \n",
       "7:35           12.2            9.7  \n",
       "7:40           12.3            9.6  \n",
       "7:45           11.7            8.5  \n",
       "7:50           10.1            8.4  \n",
       "7:55            9.1            7.6  "
      ]
     },
     "execution_count": 11,
     "metadata": {},
     "output_type": "execute_result"
    }
   ],
   "source": [
    "df_t = df.T\n",
    "df_t"
   ]
  },
  {
   "cell_type": "code",
   "execution_count": 12,
   "metadata": {},
   "outputs": [],
   "source": [
    "xtext = df_t.index"
   ]
  },
  {
   "cell_type": "code",
   "execution_count": 13,
   "metadata": {
    "scrolled": true
   },
   "outputs": [
    {
     "data": {
      "image/png": "[encoded data removed]",
      "text/plain": [
       "<Figure size 1296x360 with 1 Axes>"
      ]
     },
     "metadata": {
      "needs_background": "light"
     },
     "output_type": "display_data"
    }
   ],
   "source": [
    "df_t.plot(title='도마교네거리->원미네거리', figsize=(18, 5), legend=True, fontsize=15)\n",
    "plt.grid()\n",
    "plt.legend()\n",
    "plt.title(\"도마교네거리 -> 원미네거리\",fontsize=15)\n",
    "plt.xlabel(\"시간\",fontsize=15)\n",
    "plt.ylabel(\"속도\",fontsize=15)\n",
    "plt.xticks(range(0,len(xtext)), xtext)\n",
    "plt.show()"
   ]
  },
  {
   "cell_type": "code",
   "execution_count": 14,
   "metadata": {},
   "outputs": [
    {
     "data": {
      "image/png": "[encoded data removed]",
      "text/plain": [
       "<Figure size 1296x360 with 1 Axes>"
      ]
     },
     "metadata": {
      "needs_background": "light"
     },
     "output_type": "display_data"
    }
   ],
   "source": [
    "df_t.plot.bar(figsize=(18, 5))\n",
    "plt.grid()"
   ]
  },
  {
   "cell_type": "code",
   "execution_count": 15,
   "metadata": {},
   "outputs": [
    {
     "data": {
      "image/png": "[encoded data removed]",
      "text/plain": [
       "<Figure size 1296x360 with 1 Axes>"
      ]
     },
     "metadata": {
      "needs_background": "light"
     },
     "output_type": "display_data"
    }
   ],
   "source": [
    "df_t.boxplot(figsize=(18, 5))\n",
    "plt.grid()"
   ]
  },
  {
   "cell_type": "code",
   "execution_count": 16,
   "metadata": {},
   "outputs": [
    {
     "data": {
      "image/png": "[encoded data removed]",
      "text/plain": [
       "<Figure size 1296x1440 with 6 Axes>"
      ]
     },
     "metadata": {
      "needs_background": "light"
     },
     "output_type": "display_data"
    }
   ],
   "source": [
    "df_t.hist(figsize=(18, 20))\n",
    "plt.grid()"
   ]
  },
  {
   "cell_type": "code",
   "execution_count": 17,
   "metadata": {},
   "outputs": [
    {
     "data": {
      "image/png": "[encoded data removed]",
      "text/plain": [
       "<Figure size 1296x1440 with 25 Axes>"
      ]
     },
     "metadata": {
      "needs_background": "light"
     },
     "output_type": "display_data"
    }
   ],
   "source": [
    "df.hist(figsize=(18, 20),color='g')\n",
    "plt.grid()"
   ]
  },
  {
   "cell_type": "code",
   "execution_count": 18,
   "metadata": {},
   "outputs": [
    {
     "data": {
      "text/plain": [
       "<matplotlib.collections.PathCollection at 0x1e708548d08>"
      ]
     },
     "execution_count": 18,
     "metadata": {},
     "output_type": "execute_result"
    },
    {
     "data": {
      "image/png": "[encoded data removed]",
      "text/plain": [
       "<Figure size 432x288 with 1 Axes>"
      ]
     },
     "metadata": {
      "needs_background": "light"
     },
     "output_type": "display_data"
    }
   ],
   "source": [
    "import csv\n",
    "\n",
    "f = open('C:/Users/8/Desktop/프로젝트/도로소통정보/example.csv','r',encoding='CP949')\n",
    "reader1 = csv.reader(f)\n",
    "header = next(reader1)\n",
    "\n",
    "x = []\n",
    "y = []\n",
    "\n",
    "for line in reader1:\n",
    "    x.append(line[5])\n",
    "    y.append(line[0])\n",
    "    \n",
    "plt.scatter(x, y)"
   ]
  },
  {
   "cell_type": "code",
   "execution_count": 13,
   "metadata": {},
   "outputs": [
    {
     "data": {
      "application/vnd.plotly.v1+json": {
       "config": {
        "linkText": "Export to plot.ly",
        "plotlyServerURL": "https://plot.ly",
        "showLink": false
       },
       "data": [
        {
         "mode": "markers",
         "type": "scatter",
         "x": [
          14,
          11.6,
          11.3,
          12.5,
          11.7,
          14
         ],
         "y": [
          "2020년 08월 31일",
          "2020년 09월 01일",
          "2020년 09월 02일",
          "2020년 09월 03일",
          "2020년 09월 04일",
          "2020년 09월 07일"
         ]
        },
        {
         "mode": "markers",
         "type": "scatter",
         "x": [
          12.2,
          11.5,
          12.2,
          11.2,
          12.1,
          16.2
         ],
         "y": [
          "2020년 08월 31일",
          "2020년 09월 01일",
          "2020년 09월 02일",
          "2020년 09월 03일",
          "2020년 09월 04일",
          "2020년 09월 07일"
         ]
        },
        {
         "mode": "markers",
         "type": "scatter",
         "x": [
          10.7,
          11.7,
          13.9,
          10.4,
          10.2,
          13.3
         ],
         "y": [
          "2020년 08월 31일",
          "2020년 09월 01일",
          "2020년 09월 02일",
          "2020년 09월 03일",
          "2020년 09월 04일",
          "2020년 09월 07일"
         ]
        },
        {
         "mode": "markers",
         "type": "scatter",
         "x": [
          12.6,
          10.3,
          14.1,
          11.9,
          11,
          13.6
         ],
         "y": [
          "2020년 08월 31일",
          "2020년 09월 01일",
          "2020년 09월 02일",
          "2020년 09월 03일",
          "2020년 09월 04일",
          "2020년 09월 07일"
         ]
        },
        {
         "mode": "markers",
         "type": "scatter",
         "x": [
          14.2,
          10.4,
          12.6,
          9.8,
          12,
          15.6
         ],
         "y": [
          "2020년 08월 31일",
          "2020년 09월 01일",
          "2020년 09월 02일",
          "2020년 09월 03일",
          "2020년 09월 04일",
          "2020년 09월 07일"
         ]
        },
        {
         "mode": "markers",
         "type": "scatter",
         "x": [
          12.7,
          11.9,
          11.7,
          11.7,
          12,
          12.9
         ],
         "y": [
          "2020년 08월 31일",
          "2020년 09월 01일",
          "2020년 09월 02일",
          "2020년 09월 03일",
          "2020년 09월 04일",
          "2020년 09월 07일"
         ]
        },
        {
         "mode": "markers",
         "type": "scatter",
         "x": [
          14.6,
          13.4,
          10.1,
          13.1,
          13.2,
          13.6
         ],
         "y": [
          "2020년 08월 31일",
          "2020년 09월 01일",
          "2020년 09월 02일",
          "2020년 09월 03일",
          "2020년 09월 04일",
          "2020년 09월 07일"
         ]
        },
        {
         "mode": "markers",
         "type": "scatter",
         "x": [
          14.6,
          12.3,
          9.5,
          12.5,
          12.3,
          11.7
         ],
         "y": [
          "2020년 08월 31일",
          "2020년 09월 01일",
          "2020년 09월 02일",
          "2020년 09월 03일",
          "2020년 09월 04일",
          "2020년 09월 07일"
         ]
        },
        {
         "mode": "markers",
         "type": "scatter",
         "x": [
          13.8,
          13.4,
          11,
          10.8,
          12,
          10.3
         ],
         "y": [
          "2020년 08월 31일",
          "2020년 09월 01일",
          "2020년 09월 02일",
          "2020년 09월 03일",
          "2020년 09월 04일",
          "2020년 09월 07일"
         ]
        },
        {
         "mode": "markers",
         "type": "scatter",
         "x": [
          12.8,
          13.4,
          9.8,
          9.6,
          10.2,
          11.6
         ],
         "y": [
          "2020년 08월 31일",
          "2020년 09월 01일",
          "2020년 09월 02일",
          "2020년 09월 03일",
          "2020년 09월 04일",
          "2020년 09월 07일"
         ]
        },
        {
         "mode": "markers",
         "type": "scatter",
         "x": [
          12.2,
          13.6,
          9.4,
          11.3,
          9.9,
          13.1
         ],
         "y": [
          "2020년 08월 31일",
          "2020년 09월 01일",
          "2020년 09월 02일",
          "2020년 09월 03일",
          "2020년 09월 04일",
          "2020년 09월 07일"
         ]
        },
        {
         "mode": "markers",
         "type": "scatter",
         "x": [
          11.6,
          13.6,
          9.4,
          11.5,
          10.8,
          13.7
         ],
         "y": [
          "2020년 08월 31일",
          "2020년 09월 01일",
          "2020년 09월 02일",
          "2020년 09월 03일",
          "2020년 09월 04일",
          "2020년 09월 07일"
         ]
        },
        {
         "mode": "markers",
         "type": "scatter",
         "x": [
          10,
          11.6,
          10.7,
          9.7,
          12.3,
          11.5
         ],
         "y": [
          "2020년 08월 31일",
          "2020년 09월 01일",
          "2020년 09월 02일",
          "2020년 09월 03일",
          "2020년 09월 04일",
          "2020년 09월 07일"
         ]
        },
        {
         "mode": "markers",
         "type": "scatter",
         "x": [
          8.8,
          10.3,
          8.8,
          9.9,
          10.6,
          10.9
         ],
         "y": [
          "2020년 08월 31일",
          "2020년 09월 01일",
          "2020년 09월 02일",
          "2020년 09월 03일",
          "2020년 09월 04일",
          "2020년 09월 07일"
         ]
        },
        {
         "mode": "markers",
         "type": "scatter",
         "x": [
          9.4,
          12.1,
          7.9,
          11.4,
          11,
          10.8
         ],
         "y": [
          "2020년 08월 31일",
          "2020년 09월 01일",
          "2020년 09월 02일",
          "2020년 09월 03일",
          "2020년 09월 04일",
          "2020년 09월 07일"
         ]
        },
        {
         "mode": "markers",
         "type": "scatter",
         "x": [
          9.6,
          10.6,
          9.2,
          9.4,
          9.7,
          9.2
         ],
         "y": [
          "2020년 08월 31일",
          "2020년 09월 01일",
          "2020년 09월 02일",
          "2020년 09월 03일",
          "2020년 09월 04일",
          "2020년 09월 07일"
         ]
        },
        {
         "mode": "markers",
         "type": "scatter",
         "x": [
          11,
          11.9,
          10.4,
          9.3,
          10.7,
          9.5
         ],
         "y": [
          "2020년 08월 31일",
          "2020년 09월 01일",
          "2020년 09월 02일",
          "2020년 09월 03일",
          "2020년 09월 04일",
          "2020년 09월 07일"
         ]
        },
        {
         "mode": "markers",
         "type": "scatter",
         "x": [
          10.5,
          12,
          10.3,
          8.1,
          11.4,
          10.8
         ],
         "y": [
          "2020년 08월 31일",
          "2020년 09월 01일",
          "2020년 09월 02일",
          "2020년 09월 03일",
          "2020년 09월 04일",
          "2020년 09월 07일"
         ]
        },
        {
         "mode": "markers",
         "type": "scatter",
         "x": [
          9.8,
          10.5,
          11.9,
          9.6,
          11.9,
          9.9
         ],
         "y": [
          "2020년 08월 31일",
          "2020년 09월 01일",
          "2020년 09월 02일",
          "2020년 09월 03일",
          "2020년 09월 04일",
          "2020년 09월 07일"
         ]
        },
        {
         "mode": "markers",
         "type": "scatter",
         "x": [
          11.5,
          9.2,
          9.8,
          9.9,
          12.2,
          9.7
         ],
         "y": [
          "2020년 08월 31일",
          "2020년 09월 01일",
          "2020년 09월 02일",
          "2020년 09월 03일",
          "2020년 09월 04일",
          "2020년 09월 07일"
         ]
        },
        {
         "mode": "markers",
         "type": "scatter",
         "x": [
          10.7,
          10.4,
          9,
          8.3,
          12.3,
          9.6
         ],
         "y": [
          "2020년 08월 31일",
          "2020년 09월 01일",
          "2020년 09월 02일",
          "2020년 09월 03일",
          "2020년 09월 04일",
          "2020년 09월 07일"
         ]
        },
        {
         "mode": "markers",
         "type": "scatter",
         "x": [
          12.3,
          11.7,
          9.2,
          9.9,
          11.7,
          8.5
         ],
         "y": [
          "2020년 08월 31일",
          "2020년 09월 01일",
          "2020년 09월 02일",
          "2020년 09월 03일",
          "2020년 09월 04일",
          "2020년 09월 07일"
         ]
        },
        {
         "mode": "markers",
         "type": "scatter",
         "x": [
          10.1,
          9.7,
          10.6,
          8.9,
          10.1,
          8.4
         ],
         "y": [
          "2020년 08월 31일",
          "2020년 09월 01일",
          "2020년 09월 02일",
          "2020년 09월 03일",
          "2020년 09월 04일",
          "2020년 09월 07일"
         ]
        },
        {
         "mode": "markers",
         "type": "scatter",
         "x": [
          9.2,
          8.7,
          9.5,
          8.6,
          9.1,
          7.6
         ],
         "y": [
          "2020년 08월 31일",
          "2020년 09월 01일",
          "2020년 09월 02일",
          "2020년 09월 03일",
          "2020년 09월 04일",
          "2020년 09월 07일"
         ]
        }
       ],
       "layout": {
        "template": {
         "data": {
          "bar": [
           {
            "error_x": {
             "color": "#2a3f5f"
            },
            "error_y": {
             "color": "#2a3f5f"
            },
            "marker": {
             "line": {
              "color": "#E5ECF6",
              "width": 0.5
             }
            },
            "type": "bar"
           }
          ],
          "barpolar": [
           {
            "marker": {
             "line": {
              "color": "#E5ECF6",
              "width": 0.5
             }
            },
            "type": "barpolar"
           }
          ],
          "carpet": [
           {
            "aaxis": {
             "endlinecolor": "#2a3f5f",
             "gridcolor": "white",
             "linecolor": "white",
             "minorgridcolor": "white",
             "startlinecolor": "#2a3f5f"
            },
            "baxis": {
             "endlinecolor": "#2a3f5f",
             "gridcolor": "white",
             "linecolor": "white",
             "minorgridcolor": "white",
             "startlinecolor": "#2a3f5f"
            },
            "type": "carpet"
           }
          ],
          "choropleth": [
           {
            "colorbar": {
             "outlinewidth": 0,
             "ticks": ""
            },
            "type": "choropleth"
           }
          ],
          "contour": [
           {
            "colorbar": {
             "outlinewidth": 0,
             "ticks": ""
            },
            "colorscale": [
             [
              0,
              "#0d0887"
             ],
             [
              0.1111111111111111,
              "#46039f"
             ],
             [
              0.2222222222222222,
              "#7201a8"
             ],
             [
              0.3333333333333333,
              "#9c179e"
             ],
             [
              0.4444444444444444,
              "#bd3786"
             ],
             [
              0.5555555555555556,
              "#d8576b"
             ],
             [
              0.6666666666666666,
              "#ed7953"
             ],
             [
              0.7777777777777778,
              "#fb9f3a"
             ],
             [
              0.8888888888888888,
              "#fdca26"
             ],
             [
              1,
              "#f0f921"
             ]
            ],
            "type": "contour"
           }
          ],
          "contourcarpet": [
           {
            "colorbar": {
             "outlinewidth": 0,
             "ticks": ""
            },
            "type": "contourcarpet"
           }
          ],
          "heatmap": [
           {
            "colorbar": {
             "outlinewidth": 0,
             "ticks": ""
            },
            "colorscale": [
             [
              0,
              "#0d0887"
             ],
             [
              0.1111111111111111,
              "#46039f"
             ],
             [
              0.2222222222222222,
              "#7201a8"
             ],
             [
              0.3333333333333333,
              "#9c179e"
             ],
             [
              0.4444444444444444,
              "#bd3786"
             ],
             [
              0.5555555555555556,
              "#d8576b"
             ],
             [
              0.6666666666666666,
              "#ed7953"
             ],
             [
              0.7777777777777778,
              "#fb9f3a"
             ],
             [
              0.8888888888888888,
              "#fdca26"
             ],
             [
              1,
              "#f0f921"
             ]
            ],
            "type": "heatmap"
           }
          ],
          "heatmapgl": [
           {
            "colorbar": {
             "outlinewidth": 0,
             "ticks": ""
            },
            "colorscale": [
             [
              0,
              "#0d0887"
             ],
             [
              0.1111111111111111,
              "#46039f"
             ],
             [
              0.2222222222222222,
              "#7201a8"
             ],
             [
              0.3333333333333333,
              "#9c179e"
             ],
             [
              0.4444444444444444,
              "#bd3786"
             ],
             [
              0.5555555555555556,
              "#d8576b"
             ],
             [
              0.6666666666666666,
              "#ed7953"
             ],
             [
              0.7777777777777778,
              "#fb9f3a"
             ],
             [
              0.8888888888888888,
              "#fdca26"
             ],
             [
              1,
              "#f0f921"
             ]
            ],
            "type": "heatmapgl"
           }
          ],
          "histogram": [
           {
            "marker": {
             "colorbar": {
              "outlinewidth": 0,
              "ticks": ""
             }
            },
            "type": "histogram"
           }
          ],
          "histogram2d": [
           {
            "colorbar": {
             "outlinewidth": 0,
             "ticks": ""
            },
            "colorscale": [
             [
              0,
              "#0d0887"
             ],
             [
              0.1111111111111111,
              "#46039f"
             ],
             [
              0.2222222222222222,
              "#7201a8"
             ],
             [
              0.3333333333333333,
              "#9c179e"
             ],
             [
              0.4444444444444444,
              "#bd3786"
             ],
             [
              0.5555555555555556,
              "#d8576b"
             ],
             [
              0.6666666666666666,
              "#ed7953"
             ],
             [
              0.7777777777777778,
              "#fb9f3a"
             ],
             [
              0.8888888888888888,
              "#fdca26"
             ],
             [
              1,
              "#f0f921"
             ]
            ],
            "type": "histogram2d"
           }
          ],
          "histogram2dcontour": [
           {
            "colorbar": {
             "outlinewidth": 0,
             "ticks": ""
            },
            "colorscale": [
             [
              0,
              "#0d0887"
             ],
             [
              0.1111111111111111,
              "#46039f"
             ],
             [
              0.2222222222222222,
              "#7201a8"
             ],
             [
              0.3333333333333333,
              "#9c179e"
             ],
             [
              0.4444444444444444,
              "#bd3786"
             ],
             [
              0.5555555555555556,
              "#d8576b"
             ],
             [
              0.6666666666666666,
              "#ed7953"
             ],
             [
              0.7777777777777778,
              "#fb9f3a"
             ],
             [
              0.8888888888888888,
              "#fdca26"
             ],
             [
              1,
              "#f0f921"
             ]
            ],
            "type": "histogram2dcontour"
           }
          ],
          "mesh3d": [
           {
            "colorbar": {
             "outlinewidth": 0,
             "ticks": ""
            },
            "type": "mesh3d"
           }
          ],
          "parcoords": [
           {
            "line": {
             "colorbar": {
              "outlinewidth": 0,
              "ticks": ""
             }
            },
            "type": "parcoords"
           }
          ],
          "pie": [
           {
            "automargin": true,
            "type": "pie"
           }
          ],
          "scatter": [
           {
            "marker": {
             "colorbar": {
              "outlinewidth": 0,
              "ticks": ""
             }
            },
            "type": "scatter"
           }
          ],
          "scatter3d": [
           {
            "line": {
             "colorbar": {
              "outlinewidth": 0,
              "ticks": ""
             }
            },
            "marker": {
             "colorbar": {
              "outlinewidth": 0,
              "ticks": ""
             }
            },
            "type": "scatter3d"
           }
          ],
          "scattercarpet": [
           {
            "marker": {
             "colorbar": {
              "outlinewidth": 0,
              "ticks": ""
             }
            },
            "type": "scattercarpet"
           }
          ],
          "scattergeo": [
           {
            "marker": {
             "colorbar": {
              "outlinewidth": 0,
              "ticks": ""
             }
            },
            "type": "scattergeo"
           }
          ],
          "scattergl": [
           {
            "marker": {
             "colorbar": {
              "outlinewidth": 0,
              "ticks": ""
             }
            },
            "type": "scattergl"
           }
          ],
          "scattermapbox": [
           {
            "marker": {
             "colorbar": {
              "outlinewidth": 0,
              "ticks": ""
             }
            },
            "type": "scattermapbox"
           }
          ],
          "scatterpolar": [
           {
            "marker": {
             "colorbar": {
              "outlinewidth": 0,
              "ticks": ""
             }
            },
            "type": "scatterpolar"
           }
          ],
          "scatterpolargl": [
           {
            "marker": {
             "colorbar": {
              "outlinewidth": 0,
              "ticks": ""
             }
            },
            "type": "scatterpolargl"
           }
          ],
          "scatterternary": [
           {
            "marker": {
             "colorbar": {
              "outlinewidth": 0,
              "ticks": ""
             }
            },
            "type": "scatterternary"
           }
          ],
          "surface": [
           {
            "colorbar": {
             "outlinewidth": 0,
             "ticks": ""
            },
            "colorscale": [
             [
              0,
              "#0d0887"
             ],
             [
              0.1111111111111111,
              "#46039f"
             ],
             [
              0.2222222222222222,
              "#7201a8"
             ],
             [
              0.3333333333333333,
              "#9c179e"
             ],
             [
              0.4444444444444444,
              "#bd3786"
             ],
             [
              0.5555555555555556,
              "#d8576b"
             ],
             [
              0.6666666666666666,
              "#ed7953"
             ],
             [
              0.7777777777777778,
              "#fb9f3a"
             ],
             [
              0.8888888888888888,
              "#fdca26"
             ],
             [
              1,
              "#f0f921"
             ]
            ],
            "type": "surface"
           }
          ],
          "table": [
           {
            "cells": {
             "fill": {
              "color": "#EBF0F8"
             },
             "line": {
              "color": "white"
             }
            },
            "header": {
             "fill": {
              "color": "#C8D4E3"
             },
             "line": {
              "color": "white"
             }
            },
            "type": "table"
           }
          ]
         },
         "layout": {
          "annotationdefaults": {
           "arrowcolor": "#2a3f5f",
           "arrowhead": 0,
           "arrowwidth": 1
          },
          "coloraxis": {
           "colorbar": {
            "outlinewidth": 0,
            "ticks": ""
           }
          },
          "colorscale": {
           "diverging": [
            [
             0,
             "#8e0152"
            ],
            [
             0.1,
             "#c51b7d"
            ],
            [
             0.2,
             "#de77ae"
            ],
            [
             0.3,
             "#f1b6da"
            ],
            [
             0.4,
             "#fde0ef"
            ],
            [
             0.5,
             "#f7f7f7"
            ],
            [
             0.6,
             "#e6f5d0"
            ],
            [
             0.7,
             "#b8e186"
            ],
            [
             0.8,
             "#7fbc41"
            ],
            [
             0.9,
             "#4d9221"
            ],
            [
             1,
             "#276419"
            ]
           ],
           "sequential": [
            [
             0,
             "#0d0887"
            ],
            [
             0.1111111111111111,
             "#46039f"
            ],
            [
             0.2222222222222222,
             "#7201a8"
            ],
            [
             0.3333333333333333,
             "#9c179e"
            ],
            [
             0.4444444444444444,
             "#bd3786"
            ],
            [
             0.5555555555555556,
             "#d8576b"
            ],
            [
             0.6666666666666666,
             "#ed7953"
            ],
            [
             0.7777777777777778,
             "#fb9f3a"
            ],
            [
             0.8888888888888888,
             "#fdca26"
            ],
            [
             1,
             "#f0f921"
            ]
           ],
           "sequentialminus": [
            [
             0,
             "#0d0887"
            ],
            [
             0.1111111111111111,
             "#46039f"
            ],
            [
             0.2222222222222222,
             "#7201a8"
            ],
            [
             0.3333333333333333,
             "#9c179e"
            ],
            [
             0.4444444444444444,
             "#bd3786"
            ],
            [
             0.5555555555555556,
             "#d8576b"
            ],
            [
             0.6666666666666666,
             "#ed7953"
            ],
            [
             0.7777777777777778,
             "#fb9f3a"
            ],
            [
             0.8888888888888888,
             "#fdca26"
            ],
            [
             1,
             "#f0f921"
            ]
           ]
          },
          "colorway": [
           "#636efa",
           "#EF553B",
           "#00cc96",
           "#ab63fa",
           "#FFA15A",
           "#19d3f3",
           "#FF6692",
           "#B6E880",
           "#FF97FF",
           "#FECB52"
          ],
          "font": {
           "color": "#2a3f5f"
          },
          "geo": {
           "bgcolor": "white",
           "lakecolor": "white",
           "landcolor": "#E5ECF6",
           "showlakes": true,
           "showland": true,
           "subunitcolor": "white"
          },
          "hoverlabel": {
           "align": "left"
          },
          "hovermode": "closest",
          "mapbox": {
           "style": "light"
          },
          "paper_bgcolor": "white",
          "plot_bgcolor": "#E5ECF6",
          "polar": {
           "angularaxis": {
            "gridcolor": "white",
            "linecolor": "white",
            "ticks": ""
           },
           "bgcolor": "#E5ECF6",
           "radialaxis": {
            "gridcolor": "white",
            "linecolor": "white",
            "ticks": ""
           }
          },
          "scene": {
           "xaxis": {
            "backgroundcolor": "#E5ECF6",
            "gridcolor": "white",
            "gridwidth": 2,
            "linecolor": "white",
            "showbackground": true,
            "ticks": "",
            "zerolinecolor": "white"
           },
           "yaxis": {
            "backgroundcolor": "#E5ECF6",
            "gridcolor": "white",
            "gridwidth": 2,
            "linecolor": "white",
            "showbackground": true,
            "ticks": "",
            "zerolinecolor": "white"
           },
           "zaxis": {
            "backgroundcolor": "#E5ECF6",
            "gridcolor": "white",
            "gridwidth": 2,
            "linecolor": "white",
            "showbackground": true,
            "ticks": "",
            "zerolinecolor": "white"
           }
          },
          "shapedefaults": {
           "line": {
            "color": "#2a3f5f"
           }
          },
          "ternary": {
           "aaxis": {
            "gridcolor": "white",
            "linecolor": "white",
            "ticks": ""
           },
           "baxis": {
            "gridcolor": "white",
            "linecolor": "white",
            "ticks": ""
           },
           "bgcolor": "#E5ECF6",
           "caxis": {
            "gridcolor": "white",
            "linecolor": "white",
            "ticks": ""
           }
          },
          "title": {
           "x": 0.05
          },
          "xaxis": {
           "automargin": true,
           "gridcolor": "white",
           "linecolor": "white",
           "ticks": "",
           "title": {
            "standoff": 15
           },
           "zerolinecolor": "white",
           "zerolinewidth": 2
          },
          "yaxis": {
           "automargin": true,
           "gridcolor": "white",
           "linecolor": "white",
           "ticks": "",
           "title": {
            "standoff": 15
           },
           "zerolinecolor": "white",
           "zerolinewidth": 2
          }
         }
        }
       }
      },
      "text/html": [
       "<div>                            <div id=\"6cc9d8af-2f05-41ce-be21-295bd93bfef7\" class=\"plotly-graph-div\" style=\"height:525px; width:100%;\"></div>            <script type=\"text/javascript\">                require([\"plotly\"], function(Plotly) {                    window.PLOTLYENV=window.PLOTLYENV || {};                                    if (document.getElementById(\"6cc9d8af-2f05-41ce-be21-295bd93bfef7\")) {                    Plotly.newPlot(                        \"6cc9d8af-2f05-41ce-be21-295bd93bfef7\",                        [{\"mode\": \"markers\", \"type\": \"scatter\", \"x\": [14.0, 11.6, 11.3, 12.5, 11.7, 14.0], \"y\": [\"2020\\ub144 08\\uc6d4 31\\uc77c\", \"2020\\ub144 09\\uc6d4 01\\uc77c\", \"2020\\ub144 09\\uc6d4 02\\uc77c\", \"2020\\ub144 09\\uc6d4 03\\uc77c\", \"2020\\ub144 09\\uc6d4 04\\uc77c\", \"2020\\ub144 09\\uc6d4 07\\uc77c\"]}, {\"mode\": \"markers\", \"type\": \"scatter\", \"x\": [12.2, 11.5, 12.2, 11.2, 12.1, 16.2], \"y\": [\"2020\\ub144 08\\uc6d4 31\\uc77c\", \"2020\\ub144 09\\uc6d4 01\\uc77c\", \"2020\\ub144 09\\uc6d4 02\\uc77c\", \"2020\\ub144 09\\uc6d4 03\\uc77c\", \"2020\\ub144 09\\uc6d4 04\\uc77c\", \"2020\\ub144 09\\uc6d4 07\\uc77c\"]}, {\"mode\": \"markers\", \"type\": \"scatter\", \"x\": [10.7, 11.7, 13.9, 10.4, 10.2, 13.3], \"y\": [\"2020\\ub144 08\\uc6d4 31\\uc77c\", \"2020\\ub144 09\\uc6d4 01\\uc77c\", \"2020\\ub144 09\\uc6d4 02\\uc77c\", \"2020\\ub144 09\\uc6d4 03\\uc77c\", \"2020\\ub144 09\\uc6d4 04\\uc77c\", \"2020\\ub144 09\\uc6d4 07\\uc77c\"]}, {\"mode\": \"markers\", \"type\": \"scatter\", \"x\": [12.6, 10.3, 14.1, 11.9, 11.0, 13.6], \"y\": [\"2020\\ub144 08\\uc6d4 31\\uc77c\", \"2020\\ub144 09\\uc6d4 01\\uc77c\", \"2020\\ub144 09\\uc6d4 02\\uc77c\", \"2020\\ub144 09\\uc6d4 03\\uc77c\", \"2020\\ub144 09\\uc6d4 04\\uc77c\", \"2020\\ub144 09\\uc6d4 07\\uc77c\"]}, {\"mode\": \"markers\", \"type\": \"scatter\", \"x\": [14.2, 10.4, 12.6, 9.8, 12.0, 15.6], \"y\": [\"2020\\ub144 08\\uc6d4 31\\uc77c\", \"2020\\ub144 09\\uc6d4 01\\uc77c\", \"2020\\ub144 09\\uc6d4 02\\uc77c\", \"2020\\ub144 09\\uc6d4 03\\uc77c\", \"2020\\ub144 09\\uc6d4 04\\uc77c\", \"2020\\ub144 09\\uc6d4 07\\uc77c\"]}, {\"mode\": \"markers\", \"type\": \"scatter\", \"x\": [12.7, 11.9, 11.7, 11.7, 12.0, 12.9], \"y\": [\"2020\\ub144 08\\uc6d4 31\\uc77c\", \"2020\\ub144 09\\uc6d4 01\\uc77c\", \"2020\\ub144 09\\uc6d4 02\\uc77c\", \"2020\\ub144 09\\uc6d4 03\\uc77c\", \"2020\\ub144 09\\uc6d4 04\\uc77c\", \"2020\\ub144 09\\uc6d4 07\\uc77c\"]}, {\"mode\": \"markers\", \"type\": \"scatter\", \"x\": [14.6, 13.4, 10.1, 13.1, 13.2, 13.6], \"y\": [\"2020\\ub144 08\\uc6d4 31\\uc77c\", \"2020\\ub144 09\\uc6d4 01\\uc77c\", \"2020\\ub144 09\\uc6d4 02\\uc77c\", \"2020\\ub144 09\\uc6d4 03\\uc77c\", \"2020\\ub144 09\\uc6d4 04\\uc77c\", \"2020\\ub144 09\\uc6d4 07\\uc77c\"]}, {\"mode\": \"markers\", \"type\": \"scatter\", \"x\": [14.6, 12.3, 9.5, 12.5, 12.3, 11.7], \"y\": [\"2020\\ub144 08\\uc6d4 31\\uc77c\", \"2020\\ub144 09\\uc6d4 01\\uc77c\", \"2020\\ub144 09\\uc6d4 02\\uc77c\", \"2020\\ub144 09\\uc6d4 03\\uc77c\", \"2020\\ub144 09\\uc6d4 04\\uc77c\", \"2020\\ub144 09\\uc6d4 07\\uc77c\"]}, {\"mode\": \"markers\", \"type\": \"scatter\", \"x\": [13.8, 13.4, 11.0, 10.8, 12.0, 10.3], \"y\": [\"2020\\ub144 08\\uc6d4 31\\uc77c\", \"2020\\ub144 09\\uc6d4 01\\uc77c\", \"2020\\ub144 09\\uc6d4 02\\uc77c\", \"2020\\ub144 09\\uc6d4 03\\uc77c\", \"2020\\ub144 09\\uc6d4 04\\uc77c\", \"2020\\ub144 09\\uc6d4 07\\uc77c\"]}, {\"mode\": \"markers\", \"type\": \"scatter\", \"x\": [12.8, 13.4, 9.8, 9.6, 10.2, 11.6], \"y\": [\"2020\\ub144 08\\uc6d4 31\\uc77c\", \"2020\\ub144 09\\uc6d4 01\\uc77c\", \"2020\\ub144 09\\uc6d4 02\\uc77c\", \"2020\\ub144 09\\uc6d4 03\\uc77c\", \"2020\\ub144 09\\uc6d4 04\\uc77c\", \"2020\\ub144 09\\uc6d4 07\\uc77c\"]}, {\"mode\": \"markers\", \"type\": \"scatter\", \"x\": [12.2, 13.6, 9.4, 11.3, 9.9, 13.1], \"y\": [\"2020\\ub144 08\\uc6d4 31\\uc77c\", \"2020\\ub144 09\\uc6d4 01\\uc77c\", \"2020\\ub144 09\\uc6d4 02\\uc77c\", \"2020\\ub144 09\\uc6d4 03\\uc77c\", \"2020\\ub144 09\\uc6d4 04\\uc77c\", \"2020\\ub144 09\\uc6d4 07\\uc77c\"]}, {\"mode\": \"markers\", \"type\": \"scatter\", \"x\": [11.6, 13.6, 9.4, 11.5, 10.8, 13.7], \"y\": [\"2020\\ub144 08\\uc6d4 31\\uc77c\", \"2020\\ub144 09\\uc6d4 01\\uc77c\", \"2020\\ub144 09\\uc6d4 02\\uc77c\", \"2020\\ub144 09\\uc6d4 03\\uc77c\", \"2020\\ub144 09\\uc6d4 04\\uc77c\", \"2020\\ub144 09\\uc6d4 07\\uc77c\"]}, {\"mode\": \"markers\", \"type\": \"scatter\", \"x\": [10.0, 11.6, 10.7, 9.7, 12.3, 11.5], \"y\": [\"2020\\ub144 08\\uc6d4 31\\uc77c\", \"2020\\ub144 09\\uc6d4 01\\uc77c\", \"2020\\ub144 09\\uc6d4 02\\uc77c\", \"2020\\ub144 09\\uc6d4 03\\uc77c\", \"2020\\ub144 09\\uc6d4 04\\uc77c\", \"2020\\ub144 09\\uc6d4 07\\uc77c\"]}, {\"mode\": \"markers\", \"type\": \"scatter\", \"x\": [8.8, 10.3, 8.8, 9.9, 10.6, 10.9], \"y\": [\"2020\\ub144 08\\uc6d4 31\\uc77c\", \"2020\\ub144 09\\uc6d4 01\\uc77c\", \"2020\\ub144 09\\uc6d4 02\\uc77c\", \"2020\\ub144 09\\uc6d4 03\\uc77c\", \"2020\\ub144 09\\uc6d4 04\\uc77c\", \"2020\\ub144 09\\uc6d4 07\\uc77c\"]}, {\"mode\": \"markers\", \"type\": \"scatter\", \"x\": [9.4, 12.1, 7.9, 11.4, 11.0, 10.8], \"y\": [\"2020\\ub144 08\\uc6d4 31\\uc77c\", \"2020\\ub144 09\\uc6d4 01\\uc77c\", \"2020\\ub144 09\\uc6d4 02\\uc77c\", \"2020\\ub144 09\\uc6d4 03\\uc77c\", \"2020\\ub144 09\\uc6d4 04\\uc77c\", \"2020\\ub144 09\\uc6d4 07\\uc77c\"]}, {\"mode\": \"markers\", \"type\": \"scatter\", \"x\": [9.6, 10.6, 9.2, 9.4, 9.7, 9.2], \"y\": [\"2020\\ub144 08\\uc6d4 31\\uc77c\", \"2020\\ub144 09\\uc6d4 01\\uc77c\", \"2020\\ub144 09\\uc6d4 02\\uc77c\", \"2020\\ub144 09\\uc6d4 03\\uc77c\", \"2020\\ub144 09\\uc6d4 04\\uc77c\", \"2020\\ub144 09\\uc6d4 07\\uc77c\"]}, {\"mode\": \"markers\", \"type\": \"scatter\", \"x\": [11.0, 11.9, 10.4, 9.3, 10.7, 9.5], \"y\": [\"2020\\ub144 08\\uc6d4 31\\uc77c\", \"2020\\ub144 09\\uc6d4 01\\uc77c\", \"2020\\ub144 09\\uc6d4 02\\uc77c\", \"2020\\ub144 09\\uc6d4 03\\uc77c\", \"2020\\ub144 09\\uc6d4 04\\uc77c\", \"2020\\ub144 09\\uc6d4 07\\uc77c\"]}, {\"mode\": \"markers\", \"type\": \"scatter\", \"x\": [10.5, 12.0, 10.3, 8.1, 11.4, 10.8], \"y\": [\"2020\\ub144 08\\uc6d4 31\\uc77c\", \"2020\\ub144 09\\uc6d4 01\\uc77c\", \"2020\\ub144 09\\uc6d4 02\\uc77c\", \"2020\\ub144 09\\uc6d4 03\\uc77c\", \"2020\\ub144 09\\uc6d4 04\\uc77c\", \"2020\\ub144 09\\uc6d4 07\\uc77c\"]}, {\"mode\": \"markers\", \"type\": \"scatter\", \"x\": [9.8, 10.5, 11.9, 9.6, 11.9, 9.9], \"y\": [\"2020\\ub144 08\\uc6d4 31\\uc77c\", \"2020\\ub144 09\\uc6d4 01\\uc77c\", \"2020\\ub144 09\\uc6d4 02\\uc77c\", \"2020\\ub144 09\\uc6d4 03\\uc77c\", \"2020\\ub144 09\\uc6d4 04\\uc77c\", \"2020\\ub144 09\\uc6d4 07\\uc77c\"]}, {\"mode\": \"markers\", \"type\": \"scatter\", \"x\": [11.5, 9.2, 9.8, 9.9, 12.2, 9.7], \"y\": [\"2020\\ub144 08\\uc6d4 31\\uc77c\", \"2020\\ub144 09\\uc6d4 01\\uc77c\", \"2020\\ub144 09\\uc6d4 02\\uc77c\", \"2020\\ub144 09\\uc6d4 03\\uc77c\", \"2020\\ub144 09\\uc6d4 04\\uc77c\", \"2020\\ub144 09\\uc6d4 07\\uc77c\"]}, {\"mode\": \"markers\", \"type\": \"scatter\", \"x\": [10.7, 10.4, 9.0, 8.3, 12.3, 9.6], \"y\": [\"2020\\ub144 08\\uc6d4 31\\uc77c\", \"2020\\ub144 09\\uc6d4 01\\uc77c\", \"2020\\ub144 09\\uc6d4 02\\uc77c\", \"2020\\ub144 09\\uc6d4 03\\uc77c\", \"2020\\ub144 09\\uc6d4 04\\uc77c\", \"2020\\ub144 09\\uc6d4 07\\uc77c\"]}, {\"mode\": \"markers\", \"type\": \"scatter\", \"x\": [12.3, 11.7, 9.2, 9.9, 11.7, 8.5], \"y\": [\"2020\\ub144 08\\uc6d4 31\\uc77c\", \"2020\\ub144 09\\uc6d4 01\\uc77c\", \"2020\\ub144 09\\uc6d4 02\\uc77c\", \"2020\\ub144 09\\uc6d4 03\\uc77c\", \"2020\\ub144 09\\uc6d4 04\\uc77c\", \"2020\\ub144 09\\uc6d4 07\\uc77c\"]}, {\"mode\": \"markers\", \"type\": \"scatter\", \"x\": [10.1, 9.7, 10.6, 8.9, 10.1, 8.4], \"y\": [\"2020\\ub144 08\\uc6d4 31\\uc77c\", \"2020\\ub144 09\\uc6d4 01\\uc77c\", \"2020\\ub144 09\\uc6d4 02\\uc77c\", \"2020\\ub144 09\\uc6d4 03\\uc77c\", \"2020\\ub144 09\\uc6d4 04\\uc77c\", \"2020\\ub144 09\\uc6d4 07\\uc77c\"]}, {\"mode\": \"markers\", \"type\": \"scatter\", \"x\": [9.2, 8.7, 9.5, 8.6, 9.1, 7.6], \"y\": [\"2020\\ub144 08\\uc6d4 31\\uc77c\", \"2020\\ub144 09\\uc6d4 01\\uc77c\", \"2020\\ub144 09\\uc6d4 02\\uc77c\", \"2020\\ub144 09\\uc6d4 03\\uc77c\", \"2020\\ub144 09\\uc6d4 04\\uc77c\", \"2020\\ub144 09\\uc6d4 07\\uc77c\"]}],                        {\"template\": {\"data\": {\"bar\": [{\"error_x\": {\"color\": \"#2a3f5f\"}, \"error_y\": {\"color\": \"#2a3f5f\"}, \"marker\": {\"line\": {\"color\": \"#E5ECF6\", \"width\": 0.5}}, \"type\": \"bar\"}], \"barpolar\": [{\"marker\": {\"line\": {\"color\": \"#E5ECF6\", \"width\": 0.5}}, \"type\": \"barpolar\"}], \"carpet\": [{\"aaxis\": {\"endlinecolor\": \"#2a3f5f\", \"gridcolor\": \"white\", \"linecolor\": \"white\", \"minorgridcolor\": \"white\", \"startlinecolor\": \"#2a3f5f\"}, \"baxis\": {\"endlinecolor\": \"#2a3f5f\", \"gridcolor\": \"white\", \"linecolor\": \"white\", \"minorgridcolor\": \"white\", \"startlinecolor\": \"#2a3f5f\"}, \"type\": \"carpet\"}], \"choropleth\": [{\"colorbar\": {\"outlinewidth\": 0, \"ticks\": \"\"}, \"type\": \"choropleth\"}], \"contour\": [{\"colorbar\": {\"outlinewidth\": 0, \"ticks\": \"\"}, \"colorscale\": [[0.0, \"#0d0887\"], [0.1111111111111111, \"#46039f\"], [0.2222222222222222, \"#7201a8\"], [0.3333333333333333, \"#9c179e\"], [0.4444444444444444, \"#bd3786\"], [0.5555555555555556, \"#d8576b\"], [0.6666666666666666, \"#ed7953\"], [0.7777777777777778, \"#fb9f3a\"], [0.8888888888888888, \"#fdca26\"], [1.0, \"#f0f921\"]], \"type\": \"contour\"}], \"contourcarpet\": [{\"colorbar\": {\"outlinewidth\": 0, \"ticks\": \"\"}, \"type\": \"contourcarpet\"}], \"heatmap\": [{\"colorbar\": {\"outlinewidth\": 0, \"ticks\": \"\"}, \"colorscale\": [[0.0, \"#0d0887\"], [0.1111111111111111, \"#46039f\"], [0.2222222222222222, \"#7201a8\"], [0.3333333333333333, \"#9c179e\"], [0.4444444444444444, \"#bd3786\"], [0.5555555555555556, \"#d8576b\"], [0.6666666666666666, \"#ed7953\"], [0.7777777777777778, \"#fb9f3a\"], [0.8888888888888888, \"#fdca26\"], [1.0, \"#f0f921\"]], \"type\": \"heatmap\"}], \"heatmapgl\": [{\"colorbar\": {\"outlinewidth\": 0, \"ticks\": \"\"}, \"colorscale\": [[0.0, \"#0d0887\"], [0.1111111111111111, \"#46039f\"], [0.2222222222222222, \"#7201a8\"], [0.3333333333333333, \"#9c179e\"], [0.4444444444444444, \"#bd3786\"], [0.5555555555555556, \"#d8576b\"], [0.6666666666666666, \"#ed7953\"], [0.7777777777777778, \"#fb9f3a\"], [0.8888888888888888, \"#fdca26\"], [1.0, \"#f0f921\"]], \"type\": \"heatmapgl\"}], \"histogram\": [{\"marker\": {\"colorbar\": {\"outlinewidth\": 0, \"ticks\": \"\"}}, \"type\": \"histogram\"}], \"histogram2d\": [{\"colorbar\": {\"outlinewidth\": 0, \"ticks\": \"\"}, \"colorscale\": [[0.0, \"#0d0887\"], [0.1111111111111111, \"#46039f\"], [0.2222222222222222, \"#7201a8\"], [0.3333333333333333, \"#9c179e\"], [0.4444444444444444, \"#bd3786\"], [0.5555555555555556, \"#d8576b\"], [0.6666666666666666, \"#ed7953\"], [0.7777777777777778, \"#fb9f3a\"], [0.8888888888888888, \"#fdca26\"], [1.0, \"#f0f921\"]], \"type\": \"histogram2d\"}], \"histogram2dcontour\": [{\"colorbar\": {\"outlinewidth\": 0, \"ticks\": \"\"}, \"colorscale\": [[0.0, \"#0d0887\"], [0.1111111111111111, \"#46039f\"], [0.2222222222222222, \"#7201a8\"], [0.3333333333333333, \"#9c179e\"], [0.4444444444444444, \"#bd3786\"], [0.5555555555555556, \"#d8576b\"], [0.6666666666666666, \"#ed7953\"], [0.7777777777777778, \"#fb9f3a\"], [0.8888888888888888, \"#fdca26\"], [1.0, \"#f0f921\"]], \"type\": \"histogram2dcontour\"}], \"mesh3d\": [{\"colorbar\": {\"outlinewidth\": 0, \"ticks\": \"\"}, \"type\": \"mesh3d\"}], \"parcoords\": [{\"line\": {\"colorbar\": {\"outlinewidth\": 0, \"ticks\": \"\"}}, \"type\": \"parcoords\"}], \"pie\": [{\"automargin\": true, \"type\": \"pie\"}], \"scatter\": [{\"marker\": {\"colorbar\": {\"outlinewidth\": 0, \"ticks\": \"\"}}, \"type\": \"scatter\"}], \"scatter3d\": [{\"line\": {\"colorbar\": {\"outlinewidth\": 0, \"ticks\": \"\"}}, \"marker\": {\"colorbar\": {\"outlinewidth\": 0, \"ticks\": \"\"}}, \"type\": \"scatter3d\"}], \"scattercarpet\": [{\"marker\": {\"colorbar\": {\"outlinewidth\": 0, \"ticks\": \"\"}}, \"type\": \"scattercarpet\"}], \"scattergeo\": [{\"marker\": {\"colorbar\": {\"outlinewidth\": 0, \"ticks\": \"\"}}, \"type\": \"scattergeo\"}], \"scattergl\": [{\"marker\": {\"colorbar\": {\"outlinewidth\": 0, \"ticks\": \"\"}}, \"type\": \"scattergl\"}], \"scattermapbox\": [{\"marker\": {\"colorbar\": {\"outlinewidth\": 0, \"ticks\": \"\"}}, \"type\": \"scattermapbox\"}], \"scatterpolar\": [{\"marker\": {\"colorbar\": {\"outlinewidth\": 0, \"ticks\": \"\"}}, \"type\": \"scatterpolar\"}], \"scatterpolargl\": [{\"marker\": {\"colorbar\": {\"outlinewidth\": 0, \"ticks\": \"\"}}, \"type\": \"scatterpolargl\"}], \"scatterternary\": [{\"marker\": {\"colorbar\": {\"outlinewidth\": 0, \"ticks\": \"\"}}, \"type\": \"scatterternary\"}], \"surface\": [{\"colorbar\": {\"outlinewidth\": 0, \"ticks\": \"\"}, \"colorscale\": [[0.0, \"#0d0887\"], [0.1111111111111111, \"#46039f\"], [0.2222222222222222, \"#7201a8\"], [0.3333333333333333, \"#9c179e\"], [0.4444444444444444, \"#bd3786\"], [0.5555555555555556, \"#d8576b\"], [0.6666666666666666, \"#ed7953\"], [0.7777777777777778, \"#fb9f3a\"], [0.8888888888888888, \"#fdca26\"], [1.0, \"#f0f921\"]], \"type\": \"surface\"}], \"table\": [{\"cells\": {\"fill\": {\"color\": \"#EBF0F8\"}, \"line\": {\"color\": \"white\"}}, \"header\": {\"fill\": {\"color\": \"#C8D4E3\"}, \"line\": {\"color\": \"white\"}}, \"type\": \"table\"}]}, \"layout\": {\"annotationdefaults\": {\"arrowcolor\": \"#2a3f5f\", \"arrowhead\": 0, \"arrowwidth\": 1}, \"coloraxis\": {\"colorbar\": {\"outlinewidth\": 0, \"ticks\": \"\"}}, \"colorscale\": {\"diverging\": [[0, \"#8e0152\"], [0.1, \"#c51b7d\"], [0.2, \"#de77ae\"], [0.3, \"#f1b6da\"], [0.4, \"#fde0ef\"], [0.5, \"#f7f7f7\"], [0.6, \"#e6f5d0\"], [0.7, \"#b8e186\"], [0.8, \"#7fbc41\"], [0.9, \"#4d9221\"], [1, \"#276419\"]], \"sequential\": [[0.0, \"#0d0887\"], [0.1111111111111111, \"#46039f\"], [0.2222222222222222, \"#7201a8\"], [0.3333333333333333, \"#9c179e\"], [0.4444444444444444, \"#bd3786\"], [0.5555555555555556, \"#d8576b\"], [0.6666666666666666, \"#ed7953\"], [0.7777777777777778, \"#fb9f3a\"], [0.8888888888888888, \"#fdca26\"], [1.0, \"#f0f921\"]], \"sequentialminus\": [[0.0, \"#0d0887\"], [0.1111111111111111, \"#46039f\"], [0.2222222222222222, \"#7201a8\"], [0.3333333333333333, \"#9c179e\"], [0.4444444444444444, \"#bd3786\"], [0.5555555555555556, \"#d8576b\"], [0.6666666666666666, \"#ed7953\"], [0.7777777777777778, \"#fb9f3a\"], [0.8888888888888888, \"#fdca26\"], [1.0, \"#f0f921\"]]}, \"colorway\": [\"#636efa\", \"#EF553B\", \"#00cc96\", \"#ab63fa\", \"#FFA15A\", \"#19d3f3\", \"#FF6692\", \"#B6E880\", \"#FF97FF\", \"#FECB52\"], \"font\": {\"color\": \"#2a3f5f\"}, \"geo\": {\"bgcolor\": \"white\", \"lakecolor\": \"white\", \"landcolor\": \"#E5ECF6\", \"showlakes\": true, \"showland\": true, \"subunitcolor\": \"white\"}, \"hoverlabel\": {\"align\": \"left\"}, \"hovermode\": \"closest\", \"mapbox\": {\"style\": \"light\"}, \"paper_bgcolor\": \"white\", \"plot_bgcolor\": \"#E5ECF6\", \"polar\": {\"angularaxis\": {\"gridcolor\": \"white\", \"linecolor\": \"white\", \"ticks\": \"\"}, \"bgcolor\": \"#E5ECF6\", \"radialaxis\": {\"gridcolor\": \"white\", \"linecolor\": \"white\", \"ticks\": \"\"}}, \"scene\": {\"xaxis\": {\"backgroundcolor\": \"#E5ECF6\", \"gridcolor\": \"white\", \"gridwidth\": 2, \"linecolor\": \"white\", \"showbackground\": true, \"ticks\": \"\", \"zerolinecolor\": \"white\"}, \"yaxis\": {\"backgroundcolor\": \"#E5ECF6\", \"gridcolor\": \"white\", \"gridwidth\": 2, \"linecolor\": \"white\", \"showbackground\": true, \"ticks\": \"\", \"zerolinecolor\": \"white\"}, \"zaxis\": {\"backgroundcolor\": \"#E5ECF6\", \"gridcolor\": \"white\", \"gridwidth\": 2, \"linecolor\": \"white\", \"showbackground\": true, \"ticks\": \"\", \"zerolinecolor\": \"white\"}}, \"shapedefaults\": {\"line\": {\"color\": \"#2a3f5f\"}}, \"ternary\": {\"aaxis\": {\"gridcolor\": \"white\", \"linecolor\": \"white\", \"ticks\": \"\"}, \"baxis\": {\"gridcolor\": \"white\", \"linecolor\": \"white\", \"ticks\": \"\"}, \"bgcolor\": \"#E5ECF6\", \"caxis\": {\"gridcolor\": \"white\", \"linecolor\": \"white\", \"ticks\": \"\"}}, \"title\": {\"x\": 0.05}, \"xaxis\": {\"automargin\": true, \"gridcolor\": \"white\", \"linecolor\": \"white\", \"ticks\": \"\", \"title\": {\"standoff\": 15}, \"zerolinecolor\": \"white\", \"zerolinewidth\": 2}, \"yaxis\": {\"automargin\": true, \"gridcolor\": \"white\", \"linecolor\": \"white\", \"ticks\": \"\", \"title\": {\"standoff\": 15}, \"zerolinecolor\": \"white\", \"zerolinewidth\": 2}}}},                        {\"responsive\": true}                    ).then(function(){\n",
       "                            \n",
       "var gd = document.getElementById('6cc9d8af-2f05-41ce-be21-295bd93bfef7');\n",
       "var x = new MutationObserver(function (mutations, observer) {{\n",
       "        var display = window.getComputedStyle(gd).display;\n",
       "        if (!display || display === 'none') {{\n",
       "            console.log([gd, 'removed!']);\n",
       "            Plotly.purge(gd);\n",
       "            observer.disconnect();\n",
       "        }}\n",
       "}});\n",
       "\n",
       "// Listen for the removal of the full notebook cells\n",
       "var notebookContainer = gd.closest('#notebook-container');\n",
       "if (notebookContainer) {{\n",
       "    x.observe(notebookContainer, {childList: true});\n",
       "}}\n",
       "\n",
       "// Listen for the clearing of the current output cell\n",
       "var outputEl = gd.closest('.output');\n",
       "if (outputEl) {{\n",
       "    x.observe(outputEl, {childList: true});\n",
       "}}\n",
       "\n",
       "                        })                };                });            </script>        </div>"
      ]
     },
     "metadata": {},
     "output_type": "display_data"
    }
   ],
   "source": [
    "import plotly.offline as pyo\n",
    "import plotly.graph_objs as go\n",
    "\n",
    "trace1 = go.Scatter(x=df['6:00'], y=df['일자'], mode='markers')\n",
    "trace2 = go.Scatter(x=df['6:05'], y=df['일자'], mode='markers')\n",
    "trace3 = go.Scatter(x=df['6:10'], y=df['일자'], mode='markers')\n",
    "trace4 = go.Scatter(x=df['6:15'], y=df['일자'], mode='markers')\n",
    "trace5 = go.Scatter(x=df['6:20'], y=df['일자'], mode='markers')\n",
    "trace6 = go.Scatter(x=df['6:25'], y=df['일자'], mode='markers')\n",
    "trace7 = go.Scatter(x=df['6:30'], y=df['일자'], mode='markers')\n",
    "trace8 = go.Scatter(x=df['6:35'], y=df['일자'], mode='markers')\n",
    "trace9 = go.Scatter(x=df['6:40'], y=df['일자'], mode='markers')\n",
    "trace10 = go.Scatter(x=df['6:45'], y=df['일자'], mode='markers')\n",
    "trace11 = go.Scatter(x=df['6:50'], y=df['일자'], mode='markers')\n",
    "trace12 = go.Scatter(x=df['6:55'], y=df['일자'], mode='markers')\n",
    "trace13 = go.Scatter(x=df['7:00'], y=df['일자'], mode='markers')\n",
    "trace14 = go.Scatter(x=df['7:05'], y=df['일자'], mode='markers')\n",
    "trace15 = go.Scatter(x=df['7:10'], y=df['일자'], mode='markers')\n",
    "trace16 = go.Scatter(x=df['7:15'], y=df['일자'], mode='markers')\n",
    "trace17 = go.Scatter(x=df['7:20'], y=df['일자'], mode='markers')\n",
    "trace18 = go.Scatter(x=df['7:25'], y=df['일자'], mode='markers')\n",
    "trace19 = go.Scatter(x=df['7:30'], y=df['일자'], mode='markers')\n",
    "trace20 = go.Scatter(x=df['7:35'], y=df['일자'], mode='markers')\n",
    "trace21 = go.Scatter(x=df['7:40'], y=df['일자'], mode='markers')\n",
    "trace22 = go.Scatter(x=df['7:45'], y=df['일자'], mode='markers')\n",
    "trace23 = go.Scatter(x=df['7:50'], y=df['일자'], mode='markers')\n",
    "trace24 = go.Scatter(x=df['7:55'], y=df['일자'], mode='markers')\n",
    "data = [trace1, trace2,trace3,trace4,trace5,trace6,trace7,trace8,\n",
    "        trace9,trace10,trace11,trace12,trace13,trace14,trace15,trace16,\n",
    "        trace17,trace18,trace19,trace20,trace21,trace22,trace23,trace24]\n",
    "pyo.iplot(data)"
   ]
  },
  {
   "cell_type": "code",
   "execution_count": null,
   "metadata": {},
   "outputs": [],
   "source": []
  }
 ],
 "metadata": {
  "kernelspec": {
   "display_name": "Python 3",
   "language": "python",
   "name": "python3"
  },
  "language_info": {
   "codemirror_mode": {
    "name": "ipython",
    "version": 3
   },
   "file_extension": ".py",
   "mimetype": "text/x-python",
   "name": "python",
   "nbconvert_exporter": "python",
   "pygments_lexer": "ipython3",
   "version": "3.7.6"
  }
 },
 "nbformat": 4,
 "nbformat_minor": 4
}
