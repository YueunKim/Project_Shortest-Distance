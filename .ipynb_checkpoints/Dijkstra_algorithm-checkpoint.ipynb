{
 "cells": [
  {
   "cell_type": "markdown",
   "metadata": {},
   "source": [
    "# Dijkstra Algorithm"
   ]
  },
  {
   "cell_type": "code",
   "execution_count": null,
   "metadata": {},
   "outputs": [],
   "source": [
    "# A에서 각 노드로 가는 최단거리 구하기"
   ]
  },
  {
   "cell_type": "code",
   "execution_count": 27,
   "metadata": {},
   "outputs": [],
   "source": [
    "node = ['A', 'B', 'C', 'D', 'E', 'F', 'G'] \n",
    "\n",
    "#노드간의 cost값 정의\n",
    "cost = {\"A\": { \"B\": 5, \"D\": 1 }, \n",
    "        \"B\": { \"A\": 5, \"C\": 1, \"E\": 3, \"G\": 4 }, \n",
    "        \"C\": { \"B\": 1, \"D\": 2, \"F\": 2,\"G\": 8 }, \n",
    "        \"D\": { \"A\": 1, \"C\": 2, \"F\": 1 }, \n",
    "        \"E\": { \"B\": 3, \"G\": 1 }, \n",
    "        \"F\": { \"C\": 2, \"D\": 1, \"G\": 3 },\n",
    "        \"G\": { \"B\": 4, \"C\": 8, \"E\": 1, \"F\": 3 }}"
   ]
  },
  {
   "cell_type": "code",
   "execution_count": 5,
   "metadata": {},
   "outputs": [],
   "source": [
    "import heapq"
   ]
  },
  {
   "cell_type": "code",
   "execution_count": 42,
   "metadata": {
    "scrolled": false
   },
   "outputs": [
    {
     "name": "stdout",
     "output_type": "stream",
     "text": [
      "{'A': 0, 'B': 0, 'C': 0, 'D': 0, 'E': 0, 'F': 0, 'G': 0} {'A': 10, 'B': 10, 'C': 10, 'D': 10, 'E': 10, 'F': 10, 'G': 10}\n",
      "[(0, 'A')]\n",
      "0 A\n",
      "5\n",
      "5 A\n",
      "[(5, 'B')]\n",
      "1\n",
      "1 A\n",
      "[(1, 'D'), (5, 'B')]\n",
      "1 D\n",
      "2\n",
      "3\n",
      "3 D\n",
      "[(3, 'C'), (5, 'B')]\n",
      "2\n",
      "2 D\n",
      "[(2, 'F'), (5, 'B'), (3, 'C')]\n",
      "2 F\n",
      "4\n",
      "3\n",
      "5\n",
      "5 F\n",
      "[(3, 'C'), (5, 'B'), (5, 'G')]\n",
      "3 C\n",
      "4\n",
      "4 C\n",
      "[(4, 'B'), (5, 'G'), (5, 'B')]\n",
      "5\n",
      "5\n",
      "11\n",
      "4 B\n",
      "9\n",
      "5\n",
      "7\n",
      "7 B\n",
      "[(5, 'B'), (5, 'G'), (7, 'E')]\n",
      "8\n",
      "5 B\n",
      "10\n",
      "6\n",
      "8\n",
      "9\n",
      "5 G\n",
      "9\n",
      "13\n",
      "6\n",
      "6 G\n",
      "[(6, 'E'), (7, 'E')]\n",
      "8\n",
      "6 E\n",
      "9\n",
      "7\n",
      "7 E\n",
      "10\n",
      "8\n",
      "{'A': 0, 'B': 4, 'C': 3, 'D': 1, 'E': 6, 'F': 2, 'G': 5}\n",
      "{'A': 0, 'B': 'C', 'C': 'D', 'D': 'A', 'E': 'G', 'F': 'D', 'G': 'F'}\n",
      "A -> A : 0\n",
      "A -> B : 4\n",
      "A -> C : 3\n",
      "A -> D : 1\n",
      "A -> E : 6\n",
      "A -> F : 2\n",
      "A -> G : 5\n"
     ]
    }
   ],
   "source": [
    "start = 'A' \n",
    "\n",
    "def dijkstra(cost): \n",
    "    S = [] # 최소힙\n",
    "    \n",
    "    # T = 해당노드로 가기 위한 전 노드\n",
    "    T = {'A': 0, 'B': 0, 'C': 0, 'D': 0, 'E': 0, 'F': 0, 'G': 0} \n",
    "    \n",
    "    # D = 시작노드에서 해당노드까지의 거리\n",
    "    D = {'A': 10, 'B': 10, 'C': 10, 'D': 10, 'E': 10, 'F': 10, 'G': 10} \n",
    "    print(T, D) \n",
    "    \n",
    "    D[start]=0 # 시작노드을 제외하고 모두 cost들과 관계없이 큰 값으로 설정\n",
    "    \n",
    "    heapq.heappush(S, (0, start)) # S에 시작노드와 거리를 삽입\n",
    "    print(S)\n",
    "    \n",
    "    while S:\n",
    "        current_D, current_node = heapq.heappop(S) # 거리가 제일 작은 노드선택 \n",
    "        print(current_D, current_node)\n",
    "        \n",
    "        for next_node, next_D in cost[current_node].items(): # 선택된 노드와 연결된 노드들을 대입\n",
    "            total_D = current_D + next_D #현재노드까지의 거리 + 연결된 다른노드까지의 거리\n",
    "            print(total_D)\n",
    "            \n",
    "            if total_D < D[next_node]: # 위의 합한 값이 D보다 작으면 합한 값으로 업데이트\n",
    "                D[next_node] = total_D \n",
    "                T[next_node] = current_node \n",
    "                print(D[next_node],T[next_node])\n",
    "                \n",
    "                heapq.heappush(S, (total_D, next_node)) #업데이트한 값 삽입\n",
    "                print(S)\n",
    "                \n",
    "    return D, T \n",
    "\n",
    "D, T = dijkstra(cost) \n",
    "print(D)\n",
    "print(T)\n",
    "for node, D in D.items(): \n",
    "    print(\"%s -> %s : %s\" %(start, node, D))\n"
   ]
  },
  {
   "cell_type": "code",
   "execution_count": null,
   "metadata": {},
   "outputs": [],
   "source": []
  }
 ],
 "metadata": {
  "kernelspec": {
   "display_name": "Python 3",
   "language": "python",
   "name": "python3"
  },
  "language_info": {
   "codemirror_mode": {
    "name": "ipython",
    "version": 3
   },
   "file_extension": ".py",
   "mimetype": "text/x-python",
   "name": "python",
   "nbconvert_exporter": "python",
   "pygments_lexer": "ipython3",
   "version": "3.7.6"
  }
 },
 "nbformat": 4,
 "nbformat_minor": 4
}
