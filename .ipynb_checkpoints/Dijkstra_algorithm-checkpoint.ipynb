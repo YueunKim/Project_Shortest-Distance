{
 "cells": [
  {
   "cell_type": "markdown",
   "metadata": {},
   "source": [
    "# Dijkstra Algorithm"
   ]
  },
  {
   "cell_type": "code",
   "execution_count": 1,
   "metadata": {},
   "outputs": [],
   "source": [
    "v = list(\"ABCDEFG\") \n",
    "adjacent = {\"A\": { \"B\": 1, \"D\": 1, }, \n",
    "            \"B\": { \"A\": 1, \"C\": 1, \"E\": 3, \"G\": 4 }, \n",
    "            \"C\": { \"B\": 1, \"D\": 2, \"F\": 2,\"G\": 8 }, \n",
    "            \"D\": { \"A\": 1, \"C\": 2, \"F\": 1 }, \n",
    "            \"E\": { \"B\": 3, \"G\": 1 }, \n",
    "            \"F\": { \"C\": 2, \"D\": 1, \"G\": 3 },\n",
    "            \"G\": { \"B\": 4, \"C\": 8, \"E\": 1, \"F\": 3 }}\n"
   ]
  },
  {
   "cell_type": "code",
   "execution_count": 3,
   "metadata": {},
   "outputs": [
    {
     "name": "stdout",
     "output_type": "stream",
     "text": [
      "['A', 'B', 'C', 'D', 'E', 'F', 'G']\n"
     ]
    }
   ],
   "source": [
    "print(v)"
   ]
  },
  {
   "cell_type": "code",
   "execution_count": 4,
   "metadata": {},
   "outputs": [
    {
     "name": "stdout",
     "output_type": "stream",
     "text": [
      "{'A': {'B': 1, 'D': 1}, 'B': {'A': 1, 'C': 1, 'E': 3, 'G': 4}, 'C': {'B': 1, 'D': 2, 'F': 2, 'G': 8}, 'D': {'A': 1, 'C': 2, 'F': 1}, 'E': {'B': 3, 'G': 1}, 'F': {'C': 2, 'D': 1, 'G': 3}, 'G': {'B': 4, 'C': 8, 'E': 1, 'F': 3}}\n"
     ]
    }
   ],
   "source": [
    "print(adjacent)"
   ]
  },
  {
   "cell_type": "code",
   "execution_count": 6,
   "metadata": {},
   "outputs": [],
   "source": [
    "import heapq"
   ]
  },
  {
   "cell_type": "code",
   "execution_count": 8,
   "metadata": {},
   "outputs": [
    {
     "name": "stdout",
     "output_type": "stream",
     "text": [
      "A -> A : 0\n",
      "A -> B : 1\n",
      "A -> C : 2\n",
      "A -> D : 1\n",
      "A -> E : 4\n",
      "A -> F : 2\n",
      "A -> G : 5\n"
     ]
    }
   ],
   "source": [
    "def dijkstra(start, adjacent): \n",
    "    min_heap = [] \n",
    "    prev = { v: -1 for v in adjacent.keys()} \n",
    "    dist = { v: float('inf') for v in adjacent.keys() } \n",
    "    \n",
    "    heapq.heappush(min_heap, (0, start)) \n",
    "    dist[start] = 0 \n",
    "    \n",
    "    while min_heap: \n",
    "        current_dist, current_v = heapq.heappop(min_heap) \n",
    "        \n",
    "        for next_v, next_dist in adjacent[current_v].items(): \n",
    "            total_dist = current_dist + next_dist \n",
    "            \n",
    "            if total_dist < dist[next_v]: \n",
    "                dist[next_v] = total_dist \n",
    "                prev[next_v] = current_v \n",
    "                heapq.heappush(min_heap, (total_dist, next_v)) \n",
    "                \n",
    "    return dist, prev \n",
    "\n",
    "start = 'A' \n",
    "dist, prev = dijkstra(start, adjacent) \n",
    "for v, dist in dist.items(): \n",
    "    print(\"%s -> %s : %s\" %(start, v, dist) if dist != float('inf') else \"INF\")\n",
    "\n"
   ]
  },
  {
   "cell_type": "code",
   "execution_count": 13,
   "metadata": {},
   "outputs": [],
   "source": [
    "S = list('A')\n",
    "D = {'A':0, 'B':5, 'D':1}"
   ]
  },
  {
   "cell_type": "code",
   "execution_count": null,
   "metadata": {},
   "outputs": [],
   "source": []
  },
  {
   "cell_type": "code",
   "execution_count": null,
   "metadata": {},
   "outputs": [],
   "source": []
  },
  {
   "cell_type": "code",
   "execution_count": null,
   "metadata": {},
   "outputs": [],
   "source": []
  },
  {
   "cell_type": "code",
   "execution_count": null,
   "metadata": {},
   "outputs": [],
   "source": []
  },
  {
   "cell_type": "code",
   "execution_count": null,
   "metadata": {},
   "outputs": [],
   "source": []
  },
  {
   "cell_type": "code",
   "execution_count": null,
   "metadata": {},
   "outputs": [],
   "source": []
  },
  {
   "cell_type": "code",
   "execution_count": null,
   "metadata": {},
   "outputs": [],
   "source": []
  },
  {
   "cell_type": "code",
   "execution_count": null,
   "metadata": {},
   "outputs": [],
   "source": []
  },
  {
   "cell_type": "code",
   "execution_count": null,
   "metadata": {},
   "outputs": [],
   "source": []
  }
 ],
 "metadata": {
  "kernelspec": {
   "display_name": "Python 3",
   "language": "python",
   "name": "python3"
  },
  "language_info": {
   "codemirror_mode": {
    "name": "ipython",
    "version": 3
   },
   "file_extension": ".py",
   "mimetype": "text/x-python",
   "name": "python",
   "nbconvert_exporter": "python",
   "pygments_lexer": "ipython3",
   "version": "3.7.6"
  }
 },
 "nbformat": 4,
 "nbformat_minor": 4
}
