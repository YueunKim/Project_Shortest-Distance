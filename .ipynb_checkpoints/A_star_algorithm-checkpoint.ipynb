{
 "cells": [
  {
   "cell_type": "markdown",
   "metadata": {},
   "source": [
    "# A * algorithm"
   ]
  },
  {
   "cell_type": "code",
   "execution_count": null,
   "metadata": {},
   "outputs": [],
   "source": [
    "# A에서 G로가는 최단거리"
   ]
  },
  {
   "cell_type": "code",
   "execution_count": null,
   "metadata": {},
   "outputs": [],
   "source": [
    "node = ['A', 'B', 'C', 'D', 'E', 'F', 'G'] \n",
    "\n",
    "#노드간의 cost값 정의\n",
    "cost = {\"A\": { \"B\": 5.6, \"D\": 6.8 }, \n",
    "        \"B\": { \"A\": 5.6, \"C\": 4.3, \"E\": 6.5 }, \n",
    "        \"C\": { \"B\": 4.3, \"D\": 5.6, \"F\": 5.8,\"G\": 7 }, \n",
    "        \"D\": { \"A\": 6.8, \"C\": 5.6, \"F\": 6.5 }, \n",
    "        \"E\": { \"B\": 6.5, \"G\": 5.2 }, \n",
    "        \"F\": { \"C\": 5.8, \"D\": 6.5, \"G\": 5.5 },\n",
    "        \"G\": { \"C\": 7, \"E\": 5.2, \"F\": 5.5 }}"
   ]
  },
  {
   "cell_type": "code",
   "execution_count": null,
   "metadata": {},
   "outputs": [],
   "source": []
  },
  {
   "cell_type": "code",
   "execution_count": null,
   "metadata": {},
   "outputs": [],
   "source": []
  },
  {
   "cell_type": "code",
   "execution_count": null,
   "metadata": {},
   "outputs": [],
   "source": []
  },
  {
   "cell_type": "code",
   "execution_count": null,
   "metadata": {},
   "outputs": [],
   "source": []
  },
  {
   "cell_type": "code",
   "execution_count": null,
   "metadata": {},
   "outputs": [],
   "source": []
  },
  {
   "cell_type": "code",
   "execution_count": null,
   "metadata": {},
   "outputs": [],
   "source": []
  },
  {
   "cell_type": "code",
   "execution_count": null,
   "metadata": {},
   "outputs": [],
   "source": []
  }
 ],
 "metadata": {
  "kernelspec": {
   "display_name": "Python 3",
   "language": "python",
   "name": "python3"
  },
  "language_info": {
   "codemirror_mode": {
    "name": "ipython",
    "version": 3
   },
   "file_extension": ".py",
   "mimetype": "text/x-python",
   "name": "python",
   "nbconvert_exporter": "python",
   "pygments_lexer": "ipython3",
   "version": "3.7.6"
  }
 },
 "nbformat": 4,
 "nbformat_minor": 4
}
