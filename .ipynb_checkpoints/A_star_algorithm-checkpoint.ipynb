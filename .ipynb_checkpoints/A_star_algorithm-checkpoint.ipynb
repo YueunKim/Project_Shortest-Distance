{
 "cells": [
  {
   "cell_type": "markdown",
   "metadata": {},
   "source": [
    "# A * algorithm"
   ]
  },
  {
   "cell_type": "code",
   "execution_count": null,
   "metadata": {},
   "outputs": [],
   "source": [
    "# A에서 G로가는 최단거리"
   ]
  },
  {
   "cell_type": "code",
   "execution_count": 71,
   "metadata": {},
   "outputs": [],
   "source": [
    "node = ['A', 'B', 'C', 'D', 'E', 'F', 'G'] \n",
    "\n",
    "#노드간의 cost값 정의\n",
    "cost = {\"A\": { \"B\": 5.6, \"D\": 6.8 }, \n",
    "        \"B\": { \"A\": 5.6, \"C\": 4.3, \"E\": 6.5 }, \n",
    "        \"C\": { \"B\": 4.3, \"D\": 5.6, \"F\": 5.8,\"G\": 7 }, \n",
    "        \"D\": { \"A\": 6.8, \"C\": 5.6, \"F\": 6.5 }, \n",
    "        \"E\": { \"B\": 6.5, \"G\": 5.2 }, \n",
    "        \"F\": { \"C\": 5.8, \"D\": 6.5, \"G\": 5.5 },\n",
    "        \"G\": { \"C\": 7, \"E\": 5.2, \"F\": 5.5 }}"
   ]
  },
  {
   "cell_type": "code",
   "execution_count": 78,
   "metadata": {},
   "outputs": [],
   "source": [
    "def a_star(cost):\n",
    "    O = []\n",
    "    C = [['A', 0, 0, 0, -1]]\n",
    "    h = [12,7,10,5.2,5.5]\n",
    "    #pn = {'A': 0, 'B': 0, 'C': 0, 'D': 0, 'E': 0, 'F': 0, 'G': 0} \n",
    "    current_node = 'A'\n",
    "    \n",
    "    while True:\n",
    "        for node_id, g_score in cost[current_node].items(): #현재노드와 연결된 노드 대입\n",
    "            if node_id == 'B': #노드에 맞는 h_score선택\n",
    "                h_score = h[0]\n",
    "            elif node_id == 'C':\n",
    "                h_score = h[1]\n",
    "            elif node_id == 'D':\n",
    "                h_score = h[2]\n",
    "            elif node_id == 'E':\n",
    "                h_score = h[3]\n",
    "            elif node_id == 'F':\n",
    "                h_score = h[4]\n",
    "            else:\n",
    "                h_score = 0\n",
    "            f_score = g_score + h_score\n",
    "            pn = current_node\n",
    "            a = [node_id, f_score, g_score, h_score, pn] #리스트형태로 O에 추가\n",
    "            O.append(a)\n",
    "\n",
    "        O.sort(key=lambda x:x[1]) #f_score가 작은 순으로 정렬\n",
    "        b = O[0] #그 중 첫번째를 b로 받음\n",
    "        C.append(b) #C에 추가\n",
    "        del O[O.index(b)] #O에서는 삭제\n",
    "        current_node = b[0] #현재노드로 설정\n",
    "        #pn = b[4]\n",
    "        \n",
    "        for i in range(len(C)):\n",
    "            if C[i][0] == 'G': #C에 G노드가 들어오면 중지\n",
    "                break\n",
    "                \n",
    "    return O, C"
   ]
  },
  {
   "cell_type": "code",
   "execution_count": 79,
   "metadata": {},
   "outputs": [
    {
     "ename": "KeyboardInterrupt",
     "evalue": "",
     "output_type": "error",
     "traceback": [
      "\u001b[1;31m---------------------------------------------------------------------------\u001b[0m",
      "\u001b[1;31mKeyboardInterrupt\u001b[0m                         Traceback (most recent call last)",
      "\u001b[1;32m<ipython-input-79-a7c1fa4fea60>\u001b[0m in \u001b[0;36m<module>\u001b[1;34m\u001b[0m\n\u001b[1;32m----> 1\u001b[1;33m \u001b[0mO\u001b[0m\u001b[1;33m,\u001b[0m \u001b[0mC\u001b[0m \u001b[1;33m=\u001b[0m \u001b[0ma_star\u001b[0m\u001b[1;33m(\u001b[0m\u001b[0mcost\u001b[0m\u001b[1;33m)\u001b[0m\u001b[1;33m\u001b[0m\u001b[1;33m\u001b[0m\u001b[0m\n\u001b[0m",
      "\u001b[1;32m<ipython-input-78-d3e8d254c2f1>\u001b[0m in \u001b[0;36ma_star\u001b[1;34m(cost)\u001b[0m\n\u001b[0;32m     26\u001b[0m \u001b[1;33m\u001b[0m\u001b[0m\n\u001b[0;32m     27\u001b[0m         \u001b[1;32mfor\u001b[0m \u001b[0mi\u001b[0m \u001b[1;32min\u001b[0m \u001b[0mrange\u001b[0m\u001b[1;33m(\u001b[0m\u001b[0mlen\u001b[0m\u001b[1;33m(\u001b[0m\u001b[0mO\u001b[0m\u001b[1;33m)\u001b[0m\u001b[1;33m)\u001b[0m\u001b[1;33m:\u001b[0m\u001b[1;33m\u001b[0m\u001b[1;33m\u001b[0m\u001b[0m\n\u001b[1;32m---> 28\u001b[1;33m             \u001b[0mO\u001b[0m\u001b[1;33m.\u001b[0m\u001b[0msort\u001b[0m\u001b[1;33m(\u001b[0m\u001b[0mkey\u001b[0m\u001b[1;33m=\u001b[0m\u001b[1;32mlambda\u001b[0m \u001b[0mx\u001b[0m\u001b[1;33m:\u001b[0m\u001b[0mx\u001b[0m\u001b[1;33m[\u001b[0m\u001b[1;36m1\u001b[0m\u001b[1;33m]\u001b[0m\u001b[1;33m)\u001b[0m\u001b[1;33m\u001b[0m\u001b[1;33m\u001b[0m\u001b[0m\n\u001b[0m\u001b[0;32m     29\u001b[0m         \u001b[0mb\u001b[0m \u001b[1;33m=\u001b[0m \u001b[0mO\u001b[0m\u001b[1;33m[\u001b[0m\u001b[1;36m0\u001b[0m\u001b[1;33m]\u001b[0m\u001b[1;33m\u001b[0m\u001b[1;33m\u001b[0m\u001b[0m\n\u001b[0;32m     30\u001b[0m         \u001b[0mC\u001b[0m\u001b[1;33m.\u001b[0m\u001b[0mappend\u001b[0m\u001b[1;33m(\u001b[0m\u001b[0mb\u001b[0m\u001b[1;33m)\u001b[0m\u001b[1;33m\u001b[0m\u001b[1;33m\u001b[0m\u001b[0m\n",
      "\u001b[1;32m<ipython-input-78-d3e8d254c2f1>\u001b[0m in \u001b[0;36m<lambda>\u001b[1;34m(x)\u001b[0m\n\u001b[0;32m     26\u001b[0m \u001b[1;33m\u001b[0m\u001b[0m\n\u001b[0;32m     27\u001b[0m         \u001b[1;32mfor\u001b[0m \u001b[0mi\u001b[0m \u001b[1;32min\u001b[0m \u001b[0mrange\u001b[0m\u001b[1;33m(\u001b[0m\u001b[0mlen\u001b[0m\u001b[1;33m(\u001b[0m\u001b[0mO\u001b[0m\u001b[1;33m)\u001b[0m\u001b[1;33m)\u001b[0m\u001b[1;33m:\u001b[0m\u001b[1;33m\u001b[0m\u001b[1;33m\u001b[0m\u001b[0m\n\u001b[1;32m---> 28\u001b[1;33m             \u001b[0mO\u001b[0m\u001b[1;33m.\u001b[0m\u001b[0msort\u001b[0m\u001b[1;33m(\u001b[0m\u001b[0mkey\u001b[0m\u001b[1;33m=\u001b[0m\u001b[1;32mlambda\u001b[0m \u001b[0mx\u001b[0m\u001b[1;33m:\u001b[0m\u001b[0mx\u001b[0m\u001b[1;33m[\u001b[0m\u001b[1;36m1\u001b[0m\u001b[1;33m]\u001b[0m\u001b[1;33m)\u001b[0m\u001b[1;33m\u001b[0m\u001b[1;33m\u001b[0m\u001b[0m\n\u001b[0m\u001b[0;32m     29\u001b[0m         \u001b[0mb\u001b[0m \u001b[1;33m=\u001b[0m \u001b[0mO\u001b[0m\u001b[1;33m[\u001b[0m\u001b[1;36m0\u001b[0m\u001b[1;33m]\u001b[0m\u001b[1;33m\u001b[0m\u001b[1;33m\u001b[0m\u001b[0m\n\u001b[0;32m     30\u001b[0m         \u001b[0mC\u001b[0m\u001b[1;33m.\u001b[0m\u001b[0mappend\u001b[0m\u001b[1;33m(\u001b[0m\u001b[0mb\u001b[0m\u001b[1;33m)\u001b[0m\u001b[1;33m\u001b[0m\u001b[1;33m\u001b[0m\u001b[0m\n",
      "\u001b[1;31mKeyboardInterrupt\u001b[0m: "
     ]
    }
   ],
   "source": [
    "O, C = a_star(cost)"
   ]
  },
  {
   "cell_type": "code",
   "execution_count": null,
   "metadata": {},
   "outputs": [],
   "source": []
  },
  {
   "cell_type": "code",
   "execution_count": null,
   "metadata": {},
   "outputs": [],
   "source": []
  },
  {
   "cell_type": "code",
   "execution_count": null,
   "metadata": {},
   "outputs": [],
   "source": []
  },
  {
   "cell_type": "code",
   "execution_count": 68,
   "metadata": {},
   "outputs": [],
   "source": [
    "C =[]"
   ]
  },
  {
   "cell_type": "code",
   "execution_count": 69,
   "metadata": {},
   "outputs": [],
   "source": [
    "O = [['A', 0, 0, 0, -1],['B', 0, 0, 0, 5],['D', 0, 0, 0, 3]]"
   ]
  },
  {
   "cell_type": "code",
   "execution_count": 70,
   "metadata": {},
   "outputs": [
    {
     "name": "stdout",
     "output_type": "stream",
     "text": [
      "[['A', 0, 0, 0, -1]]\n"
     ]
    }
   ],
   "source": [
    "for i in range(len(O)):\n",
    "    O.sort(key=lambda x:x[4])\n",
    "b = O[0]\n",
    "C.append(b)\n",
    "    #current_node = b[0]\n",
    "print(C)"
   ]
  },
  {
   "cell_type": "code",
   "execution_count": null,
   "metadata": {},
   "outputs": [],
   "source": []
  },
  {
   "cell_type": "code",
   "execution_count": null,
   "metadata": {},
   "outputs": [],
   "source": []
  },
  {
   "cell_type": "code",
   "execution_count": 82,
   "metadata": {},
   "outputs": [
    {
     "ename": "SyntaxError",
     "evalue": "invalid syntax (<ipython-input-82-63175d2f470e>, line 47)",
     "output_type": "error",
     "traceback": [
      "\u001b[1;36m  File \u001b[1;32m\"<ipython-input-82-63175d2f470e>\"\u001b[1;36m, line \u001b[1;32m47\u001b[0m\n\u001b[1;33m    g_score += b[2] g_score = g_score + b[2]\u001b[0m\n\u001b[1;37m                          ^\u001b[0m\n\u001b[1;31mSyntaxError\u001b[0m\u001b[1;31m:\u001b[0m invalid syntax\n"
     ]
    }
   ],
   "source": [
    "def a_star(cost):\n",
    "    O = []\n",
    "    start = ['A', 0, 0, 0, 0]\n",
    "    C = [start]\n",
    "    h = [12,7,10,5.2,5.5]\n",
    "    #pn = {'A': 0, 'B': 0, 'C': 0, 'D': 0, 'E': 0, 'F': 0, 'G': 0} \n",
    "    current_node = start[0]\n",
    "    \n",
    "    while True:\n",
    "        \n",
    "        #C에 A(0)만있을때\n",
    "        for node_id, g_score in cost[current_node].items(): #현재노드와 연결된 노드 대입\n",
    "            if node_id == 'B': #노드에 맞는 h_score선택\n",
    "                h_score = h[0]\n",
    "            elif node_id == 'C':\n",
    "                h_score = h[1]\n",
    "            elif node_id == 'D':\n",
    "                h_score = h[2]\n",
    "            elif node_id == 'E':\n",
    "                h_score = h[3]\n",
    "            elif node_id == 'F':\n",
    "                h_score = h[4]\n",
    "            else:\n",
    "                h_score = 0\n",
    "            \n",
    "            f_score = g_score + h_score\n",
    "            pn = current_node\n",
    "            \n",
    "            if node_id = 'A':\n",
    "                g_score = 0\n",
    "                pn = 0\n",
    "                \n",
    "            a = [node_id, f_score, g_score, h_score, pn] #리스트형태로 O에 추가\n",
    "            O.append(a)\n",
    "\n",
    "        O.sort(key=lambda x:x[1]) #f_score가 작은 순으로 정렬\n",
    "        b = O[0] #그 중 첫번째를 b로 받음\n",
    "        C.append(b) #C에 추가\n",
    "        del O[O.index(b)] #O에서는 삭제\n",
    "        current_node = b[0] #현재노드로 설정\n",
    "        \n",
    "        #C에 D(3)추가\n",
    "        for node_id, g_score in cost[current_node].items(): #현재노드와 연결된 노드 대입\n",
    "            if node_id == 'B': #노드에 맞는 h_score선택\n",
    "                h_score = h[0]\n",
    "            elif node_id == 'C':\n",
    "                h_score = h[1]\n",
    "            elif node_id == 'D':\n",
    "                h_score = h[2]\n",
    "            elif node_id == 'E':\n",
    "                h_score = h[3]\n",
    "            elif node_id == 'F':\n",
    "                h_score = h[4]\n",
    "            else:\n",
    "                h_score = 0\n",
    "            \n",
    "            g_score += b[2] # g_score = g_score + b[2]\n",
    "            f_score = g_score + h_score\n",
    "            pn = current_node\n",
    "            \n",
    "            if node_id = 'A':\n",
    "                g_score = 0\n",
    "                pn = 0\n",
    "                \n",
    "            a = [node_id, f_score, g_score, h_score, pn] #리스트형태로 O에 추가\n",
    "            \n",
    "            for i in range(len(C)):\n",
    "                if a[0] != C[i][0]: #C에 같은게 없는 것만 O에 들어감        \n",
    "                    O.append(a)\n",
    "      \n",
    "        O.sort(key=lambda x:x[1]) #f_score가 작은 순으로 정렬\n",
    "        b = O[0] #그 중 첫번째를 b로 받음\n",
    "        C.append(b) #C에 추가\n",
    "        del O[O.index(b)] #O에서는 삭제\n",
    "        current_node = b[0] #현재노드로 설정\n",
    "        \n",
    "       #C에 B(1)추가\n",
    "       for node_id, g_score in cost[current_node].items(): #현재노드와 연결된 노드 대입\n",
    "            if node_id == 'B': #노드에 맞는 h_score선택\n",
    "                h_score = h[0]\n",
    "            elif node_id == 'C':\n",
    "                h_score = h[1]\n",
    "            elif node_id == 'D':\n",
    "                h_score = h[2]\n",
    "            elif node_id == 'E':\n",
    "                h_score = h[3]\n",
    "            elif node_id == 'F':\n",
    "                h_score = h[4]\n",
    "            else:\n",
    "                h_score = 0     \n",
    "                \n",
    "            for i in range(len(O)):\n",
    "                if node_id == O[i][0]:\n",
    "                    if O[i][1] > g_score + b[2]:\n",
    "                         g_score += b[2]\n",
    "                    else:\n",
    "                        g_score = O[i][1]\n",
    "                else :\n",
    "                    g_score += b[2]\n",
    "                    \n",
    "            f_score = g_score + h_score\n",
    "            pn = current_node\n",
    "            \n",
    "            if node_id = 'A':\n",
    "                g_score = 0\n",
    "                pn = 0\n",
    "                \n",
    "            a = [node_id, f_score, g_score, h_score, pn] #리스트형태로 O에 추가\n",
    "            \n",
    "            for i in range(len(C)):\n",
    "                if a[0] != C[i][0]: #C에 같은게 없는 것만 O에 들어감        \n",
    "                    O.append(a)\n",
    "            \n",
    "        O.sort(key=lambda x:x[1]) #f_score가 작은 순으로 정렬\n",
    "        b = O[0] #그 중 첫번째를 b로 받음\n",
    "        C.append(b) #C에 추가\n",
    "        del O[O.index(b)] #O에서는 삭제\n",
    "        current_node = b[0] #현재노드로 설정            \n",
    "            \n",
    "        #C에 C(2)도 추가\n",
    "        for node_id, g_score in cost[current_node].items(): #현재노드와 연결된 노드 대입\n",
    "            if node_id == 'B': #노드에 맞는 h_score선택\n",
    "                h_score = h[0]\n",
    "            elif node_id == 'C':\n",
    "                h_score = h[1]\n",
    "            elif node_id == 'D':\n",
    "                h_score = h[2]\n",
    "            elif node_id == 'E':\n",
    "                h_score = h[3]\n",
    "            elif node_id == 'F':\n",
    "                h_score = h[4]\n",
    "            else:\n",
    "                h_score = 0     \n",
    "            \n",
    "            for i in range(len(O)):\n",
    "                if node_id == O[i][0]:\n",
    "                    if O[i][1] > g_score + b[2]:\n",
    "                         g_score += b[2]\n",
    "                    else:\n",
    "                        g_score = O[i][1]\n",
    "                else :\n",
    "                    g_score += b[2]\n",
    "                    \n",
    "            f_score = g_score + h_score\n",
    "            pn = current_node\n",
    "            \n",
    "            if node_id = 'A':\n",
    "                g_score = 0\n",
    "                pn = 0\n",
    "                \n",
    "            a = [node_id, f_score, g_score, h_score, pn] #리스트형태로 O에 추가\n",
    "            \n",
    "            for i in range(len(C)):\n",
    "                if a[0] != C[i][0]: #C에 같은게 없는 것만 O에 들어감        \n",
    "                    O.append(a)\n",
    "                    \n",
    "        O.sort(key=lambda x:x[1]) #f_score가 작은 순으로 정렬\n",
    "        b = O[0] #그 중 첫번째를 b로 받음\n",
    "        C.append(b) #C에 추가\n",
    "        del O[O.index(b)] #O에서는 삭제\n",
    "        current_node = b[0] #현재노드로 설정  \n",
    "        \n",
    "        #C에 G(6)추가\n",
    "        for i in range(len(C)):\n",
    "            if C[i][0] == 'G':#C에 G노드가 들어오면 중지\n",
    "                final_cost = C[i][2]\n",
    "                final = C[i][0]\n",
    "                #while \n",
    "                \n",
    "                break\n",
    "                \n",
    "    return O, C, final_cost"
   ]
  },
  {
   "cell_type": "code",
   "execution_count": null,
   "metadata": {},
   "outputs": [],
   "source": [
    "c = [[6,2],[1,0],[2,1]]\n",
    "6 <- 2 <- 1 <- 0"
   ]
  },
  {
   "cell_type": "code",
   "execution_count": 90,
   "metadata": {},
   "outputs": [
    {
     "name": "stdout",
     "output_type": "stream",
     "text": [
      "2\n",
      "1\n",
      "1\n",
      "0\n"
     ]
    }
   ],
   "source": [
    "a_list = [[6,2],[1,0],[2,1]]\n",
    "item = a_list[0]\n",
    "while item[1] != 0:\n",
    "    item = a_list[item[1]]\n",
    "    for i in range(len(item)):\n",
    "        print(item[i])"
   ]
  },
  {
   "cell_type": "code",
   "execution_count": 85,
   "metadata": {},
   "outputs": [
    {
     "data": {
      "text/plain": [
       "[1, 0]"
      ]
     },
     "execution_count": 85,
     "metadata": {},
     "output_type": "execute_result"
    }
   ],
   "source": [
    "item"
   ]
  },
  {
   "cell_type": "code",
   "execution_count": null,
   "metadata": {},
   "outputs": [],
   "source": []
  },
  {
   "cell_type": "code",
   "execution_count": 99,
   "metadata": {},
   "outputs": [],
   "source": [
    "node = ['A', 'B', 'C', 'D', 'E', 'F', 'G'] \n",
    "\n",
    "#노드간의 cost값 정의\n",
    "cost = {\"A\": { \"B\": 5.6, \"D\": 6.8 }, \n",
    "        \"B\": { \"A\": 5.6, \"C\": 4.3, \"E\": 6.5 }, \n",
    "        \"C\": { \"B\": 4.3, \"D\": 5.6, \"F\": 5.8,\"G\": 7 }, \n",
    "        \"D\": { \"A\": 6.8, \"C\": 5.6, \"F\": 6.5 }, \n",
    "        \"E\": { \"B\": 6.5, \"G\": 5.2 }, \n",
    "        \"F\": { \"C\": 5.8, \"D\": 6.5, \"G\": 5.5 },\n",
    "        \"G\": { \"C\": 7, \"E\": 5.2, \"F\": 5.5 }}"
   ]
  },
  {
   "cell_type": "code",
   "execution_count": 100,
   "metadata": {},
   "outputs": [],
   "source": [
    "O = []\n",
    "C = [['A', 0, 0, 0, -1]]\n",
    "h = [12,7,10,5.2,5.5]\n",
    "#pn = {'A': 0, 'B': 0, 'C': 0, 'D': 0, 'E': 0, 'F': 0, 'G': 0} \n",
    "current_node = 'A'\n",
    "b=[0,0,0,0,0]"
   ]
  },
  {
   "cell_type": "code",
   "execution_count": 101,
   "metadata": {},
   "outputs": [
    {
     "ename": "KeyboardInterrupt",
     "evalue": "",
     "output_type": "error",
     "traceback": [
      "\u001b[1;31m---------------------------------------------------------------------------\u001b[0m",
      "\u001b[1;31mKeyboardInterrupt\u001b[0m                         Traceback (most recent call last)",
      "\u001b[1;32m<ipython-input-101-d3a262a1d291>\u001b[0m in \u001b[0;36m<module>\u001b[1;34m\u001b[0m\n\u001b[0;32m     15\u001b[0m \u001b[1;33m\u001b[0m\u001b[0m\n\u001b[0;32m     16\u001b[0m         \u001b[1;32mfor\u001b[0m \u001b[0mi\u001b[0m \u001b[1;32min\u001b[0m \u001b[0mrange\u001b[0m\u001b[1;33m(\u001b[0m\u001b[0mlen\u001b[0m\u001b[1;33m(\u001b[0m\u001b[0mO\u001b[0m\u001b[1;33m)\u001b[0m\u001b[1;33m)\u001b[0m\u001b[1;33m:\u001b[0m\u001b[1;33m\u001b[0m\u001b[1;33m\u001b[0m\u001b[0m\n\u001b[1;32m---> 17\u001b[1;33m             \u001b[1;32mif\u001b[0m \u001b[0mnode_id\u001b[0m \u001b[1;33m==\u001b[0m \u001b[0mO\u001b[0m\u001b[1;33m[\u001b[0m\u001b[0mi\u001b[0m\u001b[1;33m]\u001b[0m\u001b[1;33m[\u001b[0m\u001b[1;36m0\u001b[0m\u001b[1;33m]\u001b[0m\u001b[1;33m:\u001b[0m\u001b[1;33m\u001b[0m\u001b[1;33m\u001b[0m\u001b[0m\n\u001b[0m\u001b[0;32m     18\u001b[0m                 \u001b[1;32mif\u001b[0m \u001b[0mO\u001b[0m\u001b[1;33m[\u001b[0m\u001b[0mi\u001b[0m\u001b[1;33m]\u001b[0m\u001b[1;33m[\u001b[0m\u001b[1;36m2\u001b[0m\u001b[1;33m]\u001b[0m \u001b[1;33m>\u001b[0m \u001b[0mg_score\u001b[0m \u001b[1;33m+\u001b[0m \u001b[0mb\u001b[0m\u001b[1;33m[\u001b[0m\u001b[1;36m2\u001b[0m\u001b[1;33m]\u001b[0m\u001b[1;33m:\u001b[0m\u001b[1;33m\u001b[0m\u001b[1;33m\u001b[0m\u001b[0m\n\u001b[0;32m     19\u001b[0m                      \u001b[0mg_score\u001b[0m \u001b[1;33m+=\u001b[0m \u001b[0mb\u001b[0m\u001b[1;33m[\u001b[0m\u001b[1;36m2\u001b[0m\u001b[1;33m]\u001b[0m\u001b[1;33m\u001b[0m\u001b[1;33m\u001b[0m\u001b[0m\n",
      "\u001b[1;31mKeyboardInterrupt\u001b[0m: "
     ]
    }
   ],
   "source": [
    "while current_node != 'G':\n",
    "    for node_id, g_score in cost[current_node].items(): #현재노드와 연결된 노드 대입\n",
    "        if node_id == 'B': #노드에 맞는 h_score선택\n",
    "            h_score = h[0]\n",
    "        elif node_id == 'C':\n",
    "            h_score = h[1]\n",
    "        elif node_id == 'D':\n",
    "            h_score = h[2]\n",
    "        elif node_id == 'E':\n",
    "            h_score = h[3]\n",
    "        elif node_id == 'F':\n",
    "            h_score = h[4]\n",
    "        else:\n",
    "            h_score = 0     \n",
    "\n",
    "        for i in range(len(O)):\n",
    "            if node_id == O[i][0]:\n",
    "                if O[i][2] > g_score + b[2]:\n",
    "                     g_score += b[2]\n",
    "                else:\n",
    "                    g_score = O[i][2]\n",
    "            else :\n",
    "                g_score += b[2]\n",
    "\n",
    "        f_score = g_score + h_score\n",
    "        pn = current_node\n",
    "\n",
    "        if node_id == 'A':\n",
    "            g_score = 0\n",
    "            pn = 0\n",
    "\n",
    "        a = [node_id, f_score, g_score, h_score, pn] #리스트형태로 O에 추가\n",
    "\n",
    "        for i in range(len(C)):\n",
    "            if a[0] != C[i][0]: #C에 같은게 없는 것만 O에 들어감        \n",
    "                O.append(a)\n",
    "\n",
    "    O.sort(key=lambda x:x[1]) #f_score가 작은 순으로 정렬\n",
    "    b = O[0] #그 중 첫번째를 b로 받음\n",
    "    C.append(b) #C에 추가\n",
    "    del O[O.index(b)] #O에서는 삭제\n",
    "    current_node = b[0] #현재노드로 설정  \n",
    "\n",
    "\n",
    "# #C에 G(6)추가\n",
    "# for i in range(len(C)):\n",
    "#     if C[i][0] == 'G':#C에 G노드가 들어오면 중지\n",
    "#         final_cost = C[i][2]\n",
    "#         final = C[i][0]"
   ]
  },
  {
   "cell_type": "code",
   "execution_count": null,
   "metadata": {},
   "outputs": [],
   "source": [
    "print(b[2]) "
   ]
  },
  {
   "cell_type": "code",
   "execution_count": null,
   "metadata": {},
   "outputs": [],
   "source": []
  },
  {
   "cell_type": "code",
   "execution_count": null,
   "metadata": {},
   "outputs": [],
   "source": []
  }
 ],
 "metadata": {
  "kernelspec": {
   "display_name": "Python 3",
   "language": "python",
   "name": "python3"
  },
  "language_info": {
   "codemirror_mode": {
    "name": "ipython",
    "version": 3
   },
   "file_extension": ".py",
   "mimetype": "text/x-python",
   "name": "python",
   "nbconvert_exporter": "python",
   "pygments_lexer": "ipython3",
   "version": "3.7.6"
  }
 },
 "nbformat": 4,
 "nbformat_minor": 4
}
