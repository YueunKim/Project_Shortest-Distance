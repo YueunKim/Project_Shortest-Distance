{
 "cells": [
  {
   "cell_type": "markdown",
   "metadata": {},
   "source": [
    "# A * algorithm"
   ]
  },
  {
   "cell_type": "code",
   "execution_count": null,
   "metadata": {},
   "outputs": [],
   "source": [
    "# A에서 G로가는 최단거리"
   ]
  },
  {
   "cell_type": "code",
   "execution_count": 36,
   "metadata": {},
   "outputs": [],
   "source": [
    "def f5(data):\n",
    "    try:\n",
    "        return float('%.5f' % float(data))\n",
    "    except:\n",
    "        return 0"
   ]
  },
  {
   "cell_type": "code",
   "execution_count": 37,
   "metadata": {},
   "outputs": [],
   "source": [
    "#노드간의 cost값 정의\n",
    "cost = {\"A\": { \"B\": 5.6, \"D\": 6.8 }, \n",
    "        \"B\": { \"A\": 5.6, \"C\": 4.3, \"E\": 6.5 }, \n",
    "        \"C\": { \"B\": 4.3, \"D\": 5.6, \"F\": 5.8, \"G\": 7 }, \n",
    "        \"D\": { \"A\": 6.8, \"C\": 5.6, \"F\": 6.5 }, \n",
    "        \"E\": { \"B\": 6.5, \"G\": 5.2 }, \n",
    "        \"F\": { \"C\": 5.8, \"D\": 6.5, \"G\": 5.5 },\n",
    "        \"G\": { \"C\": 7, \"E\": 5.2, \"F\": 5.5 }}"
   ]
  },
  {
   "cell_type": "code",
   "execution_count": 38,
   "metadata": {},
   "outputs": [],
   "source": [
    "O = [['H',999,999,999,'H']]\n",
    "C = [['A', 0, 0, 0, 0]]\n",
    "\n",
    "h = [12,7,10,5.2,5.5]\n",
    "current_node = 'A'\n",
    "b=[0,0,0,0,0]\n",
    "O_node_list = []\n",
    "C_node_list = []"
   ]
  },
  {
   "cell_type": "code",
   "execution_count": 39,
   "metadata": {},
   "outputs": [
    {
     "name": "stdout",
     "output_type": "stream",
     "text": [
      "a= ['B', 17.6, 5.6, 12, 'A']\n",
      "a= ['D', 16.8, 6.8, 10, 'A']\n",
      "current_node =  D\n",
      "LAST O= [['B', 17.6, 5.6, 12, 'A'], ['H', 999, 999, 999, 'H']]\n",
      "LAST C= [['A', 0, 0, 0, 0], ['D', 16.8, 6.8, 10, 'A']]\n",
      "a= ['A', 13.6, 0, 0, 0]\n",
      "a= ['C', 19.4, 12.399999999999999, 7, 'D']\n",
      "a= ['F', 18.8, 13.3, 5.5, 'D']\n",
      "current_node =  B\n",
      "LAST O= [['F', 18.8, 13.3, 5.5, 'D'], ['C', 19.4, 12.399999999999999, 7, 'D'], ['H', 999, 999, 999, 'H']]\n",
      "LAST C= [['A', 0, 0, 0, 0], ['D', 16.8, 6.8, 10, 'A'], ['B', 17.6, 5.6, 12, 'A']]\n",
      "a= ['A', 11.2, 0, 0, 0]\n",
      "a= ['C', 16.9, 9.9, 7, 'B']\n",
      "a= ['E', 17.3, 12.1, 5.2, 'B']\n",
      "current_node =  C\n",
      "LAST O= [['E', 17.3, 12.1, 5.2, 'B'], ['F', 18.8, 13.3, 5.5, 'D'], ['H', 999, 999, 999, 'H']]\n",
      "LAST C= [['A', 0, 0, 0, 0], ['D', 16.8, 6.8, 10, 'A'], ['B', 17.6, 5.6, 12, 'A'], ['C', 16.9, 9.9, 7, 'B']]\n",
      "a= ['B', 17.3, 4.3, 12, 'B']\n",
      "a= ['D', 25.5, 15.5, 10, 'C']\n",
      "a= ['F', 18.8, 13.3, 5.5, 'D']\n",
      "a= ['G', 16.9, 16.9, 0, 'C']\n",
      "current_node =  G\n",
      "LAST O= [['E', 17.3, 12.1, 5.2, 'B'], ['F', 18.8, 13.3, 5.5, 'D'], ['F', 18.8, 13.3, 5.5, 'D'], ['H', 999, 999, 999, 'H']]\n",
      "LAST C= [['A', 0, 0, 0, 0], ['D', 16.8, 6.8, 10, 'A'], ['B', 17.6, 5.6, 12, 'A'], ['C', 16.9, 9.9, 7, 'B'], ['G', 16.9, 16.9, 0, 'C']]\n",
      "O = [['E', 17.3, 12.1, 5.2, 'B'], ['F', 18.8, 13.3, 5.5, 'D'], ['F', 18.8, 13.3, 5.5, 'D']]\n",
      "C = [['A', 0, 0, 0, 0], ['D', 16.8, 6.8, 10, 'A'], ['B', 17.6, 5.6, 12, 'A'], ['C', 16.9, 9.9, 7, 'B'], ['G', 16.9, 16.9, 0, 'C']]\n",
      "A에서 G까지 가는 최단거리 =  16.9\n",
      "G <- C <- B <- A "
     ]
    }
   ],
   "source": [
    "while True:\n",
    "    for node_id, g_score in cost[current_node].items(): #현재노드와 연결된 노드 대입\n",
    "        if node_id == 'B': #노드에 맞는 h_score선택\n",
    "            h_score = h[0]\n",
    "        elif node_id == 'C':\n",
    "            h_score = h[1]\n",
    "        elif node_id == 'D':\n",
    "            h_score = h[2]\n",
    "        elif node_id == 'E':\n",
    "            h_score = h[3]\n",
    "        elif node_id == 'F':\n",
    "            h_score = h[4]\n",
    "        else:\n",
    "            h_score = 0 \n",
    "        \n",
    "        for i in range(len(O)): #O에 있는 노드들을 모은 리스트를 만들고\n",
    "            if O[i][0] not in O_node_list:\n",
    "                O_node_list.append(O[i][0])\n",
    "                        \n",
    "        if node_id not in O_node_list: #그 노드리스트에 없으면 g는 새로들어온 값\n",
    "            g_score += b[2]\n",
    "            pn = current_node\n",
    "            f_score = f5(g_score + h_score)\n",
    "        else:\n",
    "            for i in O: #O의 요소중 node_id가 첫번째 원소로 있는 요소의 4번째와 비교\n",
    "                if node_id == i[0]: \n",
    "                    original = i[2]\n",
    "                    if original > f5(g_score + b[2]): #새로 들어온 값이 더 작으면 업데이트\n",
    "                        g_score = f5(g_score + b[2])\n",
    "                        pn = current_node\n",
    "                        f_score = f5(g_score + h_score)\n",
    "                        for i in O:\n",
    "                            if original == i[2]:\n",
    "                                no = i\n",
    "                                del O[O.index(no)]\n",
    "                    else:\n",
    "                        pn = i[4]\n",
    "                        g_score = f5(original)\n",
    "                        f_score = f5(g_score + h_score)\n",
    "                        \n",
    "        if node_id == 'A':\n",
    "            g_score = 0\n",
    "            pn = 0\n",
    "\n",
    "        a = [node_id, f_score, g_score, h_score, pn] #리스트형태로\n",
    "        print('a=',a)\n",
    "\n",
    "        for i in range(len(C)): #C_node_list에 없으면 추가\n",
    "            if C[i][0] not in C_node_list:\n",
    "                C_node_list.append(C[i][0])        \n",
    "        \n",
    "        if a[0] not in C_node_list: #node_list에 같은게 없는 것만 O에 들어감        \n",
    "            O.append(a)        \n",
    "            \n",
    "    O.sort(key=lambda x:x[1]) #f_score가 작은 순으로 정렬\n",
    "    b = O[0] #그 중 첫번째를 b로 받음\n",
    "    C.append(b) #C에 추가\n",
    "    \n",
    "    del O[O.index(b)] #O에서는 삭제\n",
    "    \n",
    "    current_node = b[0] #현재노드로 설정 \n",
    "    print('current_node = ',b[0]) \n",
    "    print('LAST O=',O)\n",
    "    print('LAST C=',C)\n",
    "    \n",
    "    if b[0] == 'G':\n",
    "        break\n",
    "    \n",
    "    \n",
    "    \n",
    "    \n",
    "    \n",
    "    \n",
    "for i in range(len(O)):\n",
    "    if O[i][0] == 'H':\n",
    "        no = O[i]\n",
    "        del O[O.index(no)]    \n",
    "\n",
    "print('O =',O)\n",
    "print('C =',C)\n",
    "print('A에서 G까지 가는 최단거리 = ',b[2]) \n",
    "\n",
    "fl = [i[0] for i in C]\n",
    "start = 'G'\n",
    "while start != 'A':\n",
    "    print(start,'<-',end=' ')\n",
    "    ix = fl.index(start)\n",
    "    start = C[ix][-1]\n",
    "else:\n",
    "    print(start, end=' ')"
   ]
  },
  {
   "cell_type": "code",
   "execution_count": null,
   "metadata": {},
   "outputs": [],
   "source": []
  }
 ],
 "metadata": {
  "kernelspec": {
   "display_name": "Python 3",
   "language": "python",
   "name": "python3"
  },
  "language_info": {
   "codemirror_mode": {
    "name": "ipython",
    "version": 3
   },
   "file_extension": ".py",
   "mimetype": "text/x-python",
   "name": "python",
   "nbconvert_exporter": "python",
   "pygments_lexer": "ipython3",
   "version": "3.7.6"
  }
 },
 "nbformat": 4,
 "nbformat_minor": 4
}
