{
 "cells": [
  {
   "cell_type": "code",
   "execution_count": 1,
   "metadata": {},
   "outputs": [],
   "source": [
    "import os\n",
    "import pandas as pd\n",
    "import datetime\n",
    "import glob"
   ]
  },
  {
   "cell_type": "code",
   "execution_count": 2,
   "metadata": {},
   "outputs": [
    {
     "name": "stdout",
     "output_type": "stream",
     "text": [
      "C:/Users/8/Desktop/프로젝트/실시간교통정보/2020.06.27\n",
      "C:/Users/8/Desktop/프로젝트/실시간교통정보/2020.06.29\n",
      "C:/Users/8/Desktop/프로젝트/실시간교통정보/2020.06.30\n",
      "C:/Users/8/Desktop/프로젝트/실시간교통정보/2020.07.23\n",
      "C:/Users/8/Desktop/프로젝트/실시간교통정보/2020.07.24\n",
      "C:/Users/8/Desktop/프로젝트/실시간교통정보/2020.07.25\n",
      "C:/Users/8/Desktop/프로젝트/실시간교통정보/2020.07.30\n",
      "C:/Users/8/Desktop/프로젝트/실시간교통정보/2020.07.31\n",
      "C:/Users/8/Desktop/프로젝트/실시간교통정보/2020.08.01\n",
      "C:/Users/8/Desktop/프로젝트/실시간교통정보/2020.08.02\n",
      "C:/Users/8/Desktop/프로젝트/실시간교통정보/2020.08.03\n",
      "C:/Users/8/Desktop/프로젝트/실시간교통정보/2020.08.04\n",
      "C:/Users/8/Desktop/프로젝트/실시간교통정보/2020.08.05\n",
      "C:/Users/8/Desktop/프로젝트/실시간교통정보/2020.08.06\n",
      "C:/Users/8/Desktop/프로젝트/실시간교통정보/2020.08.07\n",
      "C:/Users/8/Desktop/프로젝트/실시간교통정보/2020.08.08\n",
      "C:/Users/8/Desktop/프로젝트/실시간교통정보/2020.08.09\n",
      "C:/Users/8/Desktop/프로젝트/실시간교통정보/2020.08.10\n",
      "C:/Users/8/Desktop/프로젝트/실시간교통정보/2020.08.11\n",
      "C:/Users/8/Desktop/프로젝트/실시간교통정보/2020.08.12\n",
      "C:/Users/8/Desktop/프로젝트/실시간교통정보/2020.08.13\n"
     ]
    }
   ],
   "source": [
    "day_list = ['06.27','06.29','06.30','07.23','07.24','07.25','07.26','07.27','07.30','07.31','08.01','08.02','08.03','08.04','08.05','08.06','08.07','08.08','08.09','08.10','08.11','08.12','08.13']\n",
    "\n",
    "for day in day_list:\n",
    "    path = r'C:/Users/8/Desktop/프로젝트/실시간교통정보/2020.{}'.format(str(day))\n",
    "    files = glob.glob('{}/*'.format(path))\n",
    "    print(path)\n",
    "    dataframe_list = [pd.read_csv('{}/{}'.format(path, file))                 \n",
    "                      for file in os.listdir(path) ]\n",
    "\n",
    "    ## 날짜, 요일 열 추가\n",
    "    x = path.split('/')\n",
    "    filename = x[-1]\n",
    "    year,month,day = (int(x) for x in filename.split('.')) \n",
    "    date = filename[0:4]+filename[5:7]+filename[8:]\n",
    "    day = datetime.date(year, month, day).weekday()\n",
    "    for i in range(len(dataframe_list)):\n",
    "        dataframe_list[i].columns = ['Rink_ID', 'Speed_car', 'Time_car']\n",
    "        dataframe_list[i]['Date'] = date\n",
    "        dataframe_list[i]['Day'] = day\n",
    "\n",
    "    # 시간 열 추가\n",
    "    for i in range(len(dataframe_list)):\n",
    "        y = files[i].split('\\\\')\n",
    "        time = y[-1][11:15]\n",
    "        dataframe_list[i]['Time'] = time\n",
    "        dataframe_list[i].to_csv(files[i])"
   ]
  }
 ],
 "metadata": {
  "kernelspec": {
   "display_name": "Python 3",
   "language": "python",
   "name": "python3"
  },
  "language_info": {
   "codemirror_mode": {
    "name": "ipython",
    "version": 3
   },
   "file_extension": ".py",
   "mimetype": "text/x-python",
   "name": "python",
   "nbconvert_exporter": "python",
   "pygments_lexer": "ipython3",
   "version": "3.7.6"
  }
 },
 "nbformat": 4,
 "nbformat_minor": 4
}
