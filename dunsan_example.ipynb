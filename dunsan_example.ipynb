{
 "cells": [
  {
   "cell_type": "markdown",
   "metadata": {},
   "source": [
    "## 둔산대로 한아름아파트삼거리→갑천네거리 8/31 ~ 9/4 -> 9/7 "
   ]
  },
  {
   "cell_type": "code",
   "execution_count": 1,
   "metadata": {},
   "outputs": [],
   "source": [
    "import pandas as pd\n",
    "import numpy as np\n",
    "import matplotlib as mpl\n",
    "import matplotlib.pyplot as plt\n",
    "mpl.rcParams['axes.unicode_minus'] = False    # minus 표시\n",
    "mpl.rc('font', family='Malgun Gothic')\n",
    "%matplotlib inline"
   ]
  },
  {
   "cell_type": "code",
   "execution_count": 2,
   "metadata": {},
   "outputs": [],
   "source": [
    "df = pd.read_csv(\"C:/Users/8/Desktop/프로젝트/dunsan_example.csv\",encoding='CP949')"
   ]
  },
  {
   "cell_type": "code",
   "execution_count": 3,
   "metadata": {},
   "outputs": [],
   "source": [
    "df2 = pd.read_csv(\"C:/Users/8/Desktop/프로젝트/predict.csv\",encoding='CP949')"
   ]
  },
  {
   "cell_type": "code",
   "execution_count": 4,
   "metadata": {},
   "outputs": [],
   "source": [
    "df.drop('도로', axis=1, inplace=True)\n",
    "df.drop('요일', axis=1, inplace=True)\n",
    "df.drop('방향', axis=1, inplace=True)\n",
    "df.drop('구간', axis=1, inplace=True)\n",
    "df2.drop('도로', axis=1, inplace=True)\n",
    "df2.drop('요일', axis=1, inplace=True)\n",
    "df2.drop('방향', axis=1, inplace=True)\n",
    "df2.drop('구간', axis=1, inplace=True)"
   ]
  },
  {
   "cell_type": "code",
   "execution_count": 5,
   "metadata": {},
   "outputs": [],
   "source": [
    "df = df.dropna()\n",
    "df2 = df2.dropna()"
   ]
  },
  {
   "cell_type": "code",
   "execution_count": 6,
   "metadata": {},
   "outputs": [
    {
     "data": {
      "text/html": [
       "<div>\n",
       "<style scoped>\n",
       "    .dataframe tbody tr th:only-of-type {\n",
       "        vertical-align: middle;\n",
       "    }\n",
       "\n",
       "    .dataframe tbody tr th {\n",
       "        vertical-align: top;\n",
       "    }\n",
       "\n",
       "    .dataframe thead th {\n",
       "        text-align: right;\n",
       "    }\n",
       "</style>\n",
       "<table border=\"1\" class=\"dataframe\">\n",
       "  <thead>\n",
       "    <tr style=\"text-align: right;\">\n",
       "      <th></th>\n",
       "      <th>6:00</th>\n",
       "      <th>6:05</th>\n",
       "      <th>6:10</th>\n",
       "      <th>6:15</th>\n",
       "      <th>6:20</th>\n",
       "    </tr>\n",
       "  </thead>\n",
       "  <tbody>\n",
       "    <tr>\n",
       "      <th>1</th>\n",
       "      <td>21.0</td>\n",
       "      <td>22.6</td>\n",
       "      <td>19.4</td>\n",
       "      <td>23.0</td>\n",
       "      <td>18.8</td>\n",
       "    </tr>\n",
       "  </tbody>\n",
       "</table>\n",
       "</div>"
      ],
      "text/plain": [
       "   6:00  6:05  6:10  6:15  6:20\n",
       "1  21.0  22.6  19.4  23.0  18.8"
      ]
     },
     "execution_count": 6,
     "metadata": {},
     "output_type": "execute_result"
    }
   ],
   "source": [
    "aa = df2.loc[:,['6:00', '6:05', '6:10', '6:15', '6:20']]\n",
    "aa"
   ]
  },
  {
   "cell_type": "code",
   "execution_count": 7,
   "metadata": {},
   "outputs": [
    {
     "data": {
      "text/plain": [
       "[[21.0, 22.6, 19.4, 23.0, 18.8]]"
      ]
     },
     "execution_count": 7,
     "metadata": {},
     "output_type": "execute_result"
    }
   ],
   "source": [
    "aa = aa.values.tolist()\n",
    "aa"
   ]
  },
  {
   "cell_type": "code",
   "execution_count": 8,
   "metadata": {},
   "outputs": [
    {
     "data": {
      "text/plain": [
       "[21.0, 22.6, 19.4, 23.0, 18.8]"
      ]
     },
     "execution_count": 8,
     "metadata": {},
     "output_type": "execute_result"
    }
   ],
   "source": [
    "a = []\n",
    "for i in range(len(aa[0])):\n",
    "    a.append(aa[0][i])\n",
    "\n",
    "a"
   ]
  },
  {
   "cell_type": "code",
   "execution_count": 9,
   "metadata": {},
   "outputs": [],
   "source": [
    "b = df.loc[:,list(df)[1:]]\n",
    "b = b.values.tolist()"
   ]
  },
  {
   "cell_type": "code",
   "execution_count": 10,
   "metadata": {},
   "outputs": [
    {
     "name": "stdout",
     "output_type": "stream",
     "text": [
      "[15.91, 52.94, 12.03, 58.42, 13.79, 37.54, 24.19, 17.31, 34.75, 37.43, 33.79, 81.82, 89.97, 76.49, 95.2, 100.76, 70.21, 75.42, 135.7, 133.74, 48.14, 26.1, 13.18, 35.18, 57.57, 98.33, 102.37, 150.82, 162.15, 119.44, 118.44, 106.96, 50.16, 48.19, 85.82, 177.06, 286.77, 289.24, 287.28, 289.36, 724.62, 715.74, 649.65, 589.46, 554.15, 492.18, 464.03, 412.71, 327.46, 305.41, 279.41, 275.32, 303.93, 306.22, 300.18, 253.11, 206.32, 180.48, 135.15, 89.8, 920.13, 885.69, 829.1, 794.55, 696.63, 656.07, 642.67, 586.47, 527.02, 510.58, 449.66, 364.74, 354.14, 355.38, 262.54, 224.31, 182.79, 99.39, 51.68, 43.27, 38.84, 42.81, 22.73, 21.7, 29.02, 41.95, 38.27, 65.2, 82.24, 48.84, 72.8, 53.92, 32.43, 19.9, 36.95, 35.59, 87.03, 56.83, 116.6, 164.43]\n",
      "[[18.1, 20.2, 18.9, 22.0, 18.1], [20.2, 18.9, 22.0, 18.1, 21.6], [18.9, 22.0, 18.1, 21.6, 20.7], [22.0, 18.1, 21.6, 20.7, 24.0], [18.1, 21.6, 20.7, 24.0, 20.1], [21.6, 20.7, 24.0, 20.1, 20.8], [20.7, 24.0, 20.1, 20.8, 22.9], [24.0, 20.1, 20.8, 22.9, 19.1], [20.1, 20.8, 22.9, 19.1, 17.0], [20.8, 22.9, 19.1, 17.0, 19.9], [22.9, 19.1, 17.0, 19.9, 17.2], [19.1, 17.0, 19.9, 17.2, 15.2], [17.0, 19.9, 17.2, 15.2, 17.8], [19.9, 17.2, 15.2, 17.8, 20.0], [17.2, 15.2, 17.8, 20.0, 22.6], [15.2, 17.8, 20.0, 22.6, 25.4], [17.8, 20.0, 22.6, 25.4, 24.9], [20.0, 22.6, 25.4, 24.9, 24.7], [22.6, 25.4, 24.9, 24.7, 28.4], [25.4, 24.9, 24.7, 28.4, 26.0], [16.3, 19.2, 19.6, 19.9, 21.0], [19.2, 19.6, 19.9, 21.0, 21.9], [19.6, 19.9, 21.0, 21.9, 18.4], [19.9, 21.0, 21.9, 18.4, 16.8], [21.0, 21.9, 18.4, 16.8, 14.6], [21.9, 18.4, 16.8, 14.6, 17.2], [18.4, 16.8, 14.6, 17.2, 16.5], [16.8, 14.6, 17.2, 16.5, 14.1], [14.6, 17.2, 16.5, 14.1, 16.7], [17.2, 16.5, 14.1, 16.7, 18.7], [16.5, 14.1, 16.7, 18.7, 19.2], [14.1, 16.7, 18.7, 19.2, 21.9], [16.7, 18.7, 19.2, 21.9, 22.7], [18.7, 19.2, 21.9, 22.7, 23.8], [19.2, 21.9, 22.7, 23.8, 27.2], [21.9, 22.7, 23.8, 27.2, 30.6], [22.7, 23.8, 27.2, 30.6, 31.6], [23.8, 27.2, 30.6, 31.6, 26.6], [27.2, 30.6, 31.6, 26.6, 23.6], [30.6, 31.6, 26.6, 23.6, 26.8], [9.8, 8.9, 7.8, 9.2, 9.5], [8.9, 7.8, 9.2, 9.5, 10.8], [7.8, 9.2, 9.5, 10.8, 11.8], [9.2, 9.5, 10.8, 11.8, 9.9], [9.5, 10.8, 11.8, 9.9, 11.5], [10.8, 11.8, 9.9, 11.5, 11.8], [11.8, 9.9, 11.5, 11.8, 13.3], [9.9, 11.5, 11.8, 13.3, 15.0], [11.5, 11.8, 13.3, 15.0, 14.4], [11.8, 13.3, 15.0, 14.4, 12.4], [13.3, 15.0, 14.4, 12.4, 13.8], [15.0, 14.4, 12.4, 13.8, 12.6], [14.4, 12.4, 13.8, 12.6, 14.7], [12.4, 13.8, 12.6, 14.7, 12.5], [13.8, 12.6, 14.7, 12.5, 14.8], [12.6, 14.7, 12.5, 14.8, 16.5], [14.7, 12.5, 14.8, 16.5, 17.7], [12.5, 14.8, 16.5, 17.7, 15.5], [14.8, 16.5, 17.7, 15.5, 18.2], [16.5, 17.7, 15.5, 18.2, 16.1], [8.0, 7.0, 8.2, 6.7, 8.0], [7.0, 8.2, 6.7, 8.0, 9.0], [8.2, 6.7, 8.0, 9.0, 9.5], [6.7, 8.0, 9.0, 9.5, 9.5], [8.0, 9.0, 9.5, 9.5, 10.9], [9.0, 9.5, 9.5, 10.9, 9.0], [9.5, 9.5, 10.9, 9.0, 10.4], [9.5, 10.9, 9.0, 10.4, 11.7], [10.9, 9.0, 10.4, 11.7, 13.2], [9.0, 10.4, 11.7, 13.2, 10.9], [10.4, 11.7, 13.2, 10.9, 13.0], [11.7, 13.2, 10.9, 13.0, 14.6], [13.2, 10.9, 13.0, 14.6, 12.1], [10.9, 13.0, 14.6, 12.1, 14.4], [13.0, 14.6, 12.1, 14.4, 16.1], [14.6, 12.1, 14.4, 16.1, 18.1], [12.1, 14.4, 16.1, 18.1, 20.0], [14.4, 16.1, 18.1, 20.0, 20.5], [16.1, 18.1, 20.0, 20.5, 19.7], [18.1, 20.0, 20.5, 19.7, 22.8], [17.8, 18.6, 19.2, 19.6, 19.8], [18.6, 19.2, 19.6, 19.8, 22.7], [19.2, 19.6, 19.8, 22.7, 22.0], [19.6, 19.8, 22.7, 22.0, 18.9], [19.8, 22.7, 22.0, 18.9, 16.8], [22.7, 22.0, 18.9, 16.8, 18.9], [22.0, 18.9, 16.8, 18.9, 18.7], [18.9, 16.8, 18.9, 18.7, 15.9], [16.8, 18.9, 18.7, 15.9, 18.9], [18.9, 18.7, 15.9, 18.9, 18.4], [18.7, 15.9, 18.9, 18.4, 19.9], [15.9, 18.9, 18.4, 19.9, 20.7], [18.9, 18.4, 19.9, 20.7, 21.0], [18.4, 19.9, 20.7, 21.0, 18.4], [19.9, 20.7, 21.0, 18.4, 21.7], [20.7, 21.0, 18.4, 21.7, 24.3], [21.0, 18.4, 21.7, 24.3, 26.7], [18.4, 21.7, 24.3, 26.7, 22.2], [21.7, 24.3, 26.7, 22.2, 26.5], [24.3, 26.7, 22.2, 26.5, 29.6]]\n"
     ]
    }
   ],
   "source": [
    "real_d = []\n",
    "c = []\n",
    "for i in range(len(b)):\n",
    "    for j in range(0,20):\n",
    "        d = []\n",
    "        c.append([b[i][j],b[i][j+1],b[i][j+2],b[i][j+3],b[i][j+4]])\n",
    "        d1 = pow((b[i][j]-a[0]),2)+pow((b[i][j+1]-a[1]),2)+pow((b[i][j+2]-a[2]),2)+pow((b[i][j+3]-a[3]),2)+pow((b[i][j+4]-a[4]),2)\n",
    "        d.append(round(d1,2))\n",
    "#         print(d)\n",
    "        d2 = sum(d)\n",
    "#         print(d2)\n",
    "        real_d.append(d2)\n",
    "\n",
    "print(real_d)\n",
    "print(c)"
   ]
  },
  {
   "cell_type": "code",
   "execution_count": 13,
   "metadata": {},
   "outputs": [],
   "source": [
    "def find_min(list):\n",
    "    if k % 2 == 0:\n",
    "        print('홀수 k를 입력하세요')\n",
    "    else:\n",
    "        for j in range(k):\n",
    "            i = list.index(min(list))\n",
    "            m = list.pop(i)\n",
    "            print(c.index(i))\n",
    "            print('k=',k,'일 때',j+1,'번째 최솟값 =', m)\n",
    "    return m"
   ]
  },
  {
   "cell_type": "code",
   "execution_count": 14,
   "metadata": {},
   "outputs": [
    {
     "name": "stdout",
     "output_type": "stream",
     "text": [
      "k =3\n"
     ]
    },
    {
     "ename": "ValueError",
     "evalue": "21 is not in list",
     "output_type": "error",
     "traceback": [
      "\u001b[1;31m---------------------------------------------------------------------------\u001b[0m",
      "\u001b[1;31mValueError\u001b[0m                                Traceback (most recent call last)",
      "\u001b[1;32m<ipython-input-14-18707babde28>\u001b[0m in \u001b[0;36m<module>\u001b[1;34m\u001b[0m\n\u001b[0;32m      1\u001b[0m \u001b[0mk\u001b[0m \u001b[1;33m=\u001b[0m \u001b[0mint\u001b[0m\u001b[1;33m(\u001b[0m\u001b[0minput\u001b[0m\u001b[1;33m(\u001b[0m\u001b[1;34m'k ='\u001b[0m\u001b[1;33m)\u001b[0m\u001b[1;33m)\u001b[0m\u001b[1;33m\u001b[0m\u001b[1;33m\u001b[0m\u001b[0m\n\u001b[1;32m----> 2\u001b[1;33m \u001b[0mfind_min\u001b[0m\u001b[1;33m(\u001b[0m\u001b[0mreal_d\u001b[0m\u001b[1;33m)\u001b[0m\u001b[1;33m\u001b[0m\u001b[1;33m\u001b[0m\u001b[0m\n\u001b[0m",
      "\u001b[1;32m<ipython-input-13-3ecdcf8ebf56>\u001b[0m in \u001b[0;36mfind_min\u001b[1;34m(list)\u001b[0m\n\u001b[0;32m      6\u001b[0m             \u001b[0mi\u001b[0m \u001b[1;33m=\u001b[0m \u001b[0mlist\u001b[0m\u001b[1;33m.\u001b[0m\u001b[0mindex\u001b[0m\u001b[1;33m(\u001b[0m\u001b[0mmin\u001b[0m\u001b[1;33m(\u001b[0m\u001b[0mlist\u001b[0m\u001b[1;33m)\u001b[0m\u001b[1;33m)\u001b[0m\u001b[1;33m\u001b[0m\u001b[1;33m\u001b[0m\u001b[0m\n\u001b[0;32m      7\u001b[0m             \u001b[0mm\u001b[0m \u001b[1;33m=\u001b[0m \u001b[0mlist\u001b[0m\u001b[1;33m.\u001b[0m\u001b[0mpop\u001b[0m\u001b[1;33m(\u001b[0m\u001b[0mi\u001b[0m\u001b[1;33m)\u001b[0m\u001b[1;33m\u001b[0m\u001b[1;33m\u001b[0m\u001b[0m\n\u001b[1;32m----> 8\u001b[1;33m             \u001b[0mprint\u001b[0m\u001b[1;33m(\u001b[0m\u001b[0mc\u001b[0m\u001b[1;33m.\u001b[0m\u001b[0mindex\u001b[0m\u001b[1;33m(\u001b[0m\u001b[0mi\u001b[0m\u001b[1;33m)\u001b[0m\u001b[1;33m)\u001b[0m\u001b[1;33m\u001b[0m\u001b[1;33m\u001b[0m\u001b[0m\n\u001b[0m\u001b[0;32m      9\u001b[0m             \u001b[0mprint\u001b[0m\u001b[1;33m(\u001b[0m\u001b[1;34m'k='\u001b[0m\u001b[1;33m,\u001b[0m\u001b[0mk\u001b[0m\u001b[1;33m,\u001b[0m\u001b[1;34m'일 때'\u001b[0m\u001b[1;33m,\u001b[0m\u001b[0mj\u001b[0m\u001b[1;33m+\u001b[0m\u001b[1;36m1\u001b[0m\u001b[1;33m,\u001b[0m\u001b[1;34m'번째 최솟값 ='\u001b[0m\u001b[1;33m,\u001b[0m \u001b[0mm\u001b[0m\u001b[1;33m)\u001b[0m\u001b[1;33m\u001b[0m\u001b[1;33m\u001b[0m\u001b[0m\n\u001b[0;32m     10\u001b[0m     \u001b[1;32mreturn\u001b[0m \u001b[0mm\u001b[0m\u001b[1;33m\u001b[0m\u001b[1;33m\u001b[0m\u001b[0m\n",
      "\u001b[1;31mValueError\u001b[0m: 21 is not in list"
     ]
    }
   ],
   "source": [
    "k = int(input('k ='))\n",
    "find_min(real_d)"
   ]
  },
  {
   "cell_type": "code",
   "execution_count": null,
   "metadata": {},
   "outputs": [],
   "source": []
  },
  {
   "cell_type": "code",
   "execution_count": 15,
   "metadata": {},
   "outputs": [],
   "source": [
    "vv = [[18.4, 21.7, 24.3, 26.7, 22.2], [21.7, 24.3, 26.7, 22.2, 26.5], [24.3, 26.7, 22.2, 26.5, 29.6]]"
   ]
  },
  {
   "cell_type": "code",
   "execution_count": 17,
   "metadata": {},
   "outputs": [
    {
     "ename": "NameError",
     "evalue": "name 'cc' is not defined",
     "output_type": "error",
     "traceback": [
      "\u001b[1;31m---------------------------------------------------------------------------\u001b[0m",
      "\u001b[1;31mNameError\u001b[0m                                 Traceback (most recent call last)",
      "\u001b[1;32m<ipython-input-17-9a2f9c1b916f>\u001b[0m in \u001b[0;36m<module>\u001b[1;34m\u001b[0m\n\u001b[1;32m----> 1\u001b[1;33m \u001b[0mvv\u001b[0m\u001b[1;33m.\u001b[0m\u001b[0mindex\u001b[0m\u001b[1;33m(\u001b[0m\u001b[0mcc\u001b[0m\u001b[1;33m(\u001b[0m\u001b[1;36m3\u001b[0m\u001b[1;33m)\u001b[0m\u001b[1;33m)\u001b[0m\u001b[1;33m\u001b[0m\u001b[1;33m\u001b[0m\u001b[0m\n\u001b[0m",
      "\u001b[1;31mNameError\u001b[0m: name 'cc' is not defined"
     ]
    }
   ],
   "source": [
    "vv.index(cc(3))"
   ]
  },
  {
   "cell_type": "code",
   "execution_count": null,
   "metadata": {},
   "outputs": [],
   "source": []
  },
  {
   "cell_type": "code",
   "execution_count": null,
   "metadata": {},
   "outputs": [],
   "source": []
  },
  {
   "cell_type": "code",
   "execution_count": null,
   "metadata": {},
   "outputs": [],
   "source": []
  }
 ],
 "metadata": {
  "kernelspec": {
   "display_name": "Python 3",
   "language": "python",
   "name": "python3"
  },
  "language_info": {
   "codemirror_mode": {
    "name": "ipython",
    "version": 3
   },
   "file_extension": ".py",
   "mimetype": "text/x-python",
   "name": "python",
   "nbconvert_exporter": "python",
   "pygments_lexer": "ipython3",
   "version": "3.7.6"
  }
 },
 "nbformat": 4,
 "nbformat_minor": 4
}
