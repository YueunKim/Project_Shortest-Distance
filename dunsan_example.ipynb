{
 "cells": [
  {
   "cell_type": "markdown",
   "metadata": {},
   "source": [
    "## 둔산대로 한아름아파트삼거리→갑천네거리 8/31 ~ 9/4 -> 9/7 "
   ]
  },
  {
   "cell_type": "code",
   "execution_count": 84,
   "metadata": {},
   "outputs": [],
   "source": [
    "import pandas as pd\n",
    "import numpy as np\n",
    "import matplotlib as mpl\n",
    "import matplotlib.pyplot as plt\n",
    "mpl.rcParams['axes.unicode_minus'] = False    # minus 표시\n",
    "mpl.rc('font', family='Malgun Gothic')\n",
    "%matplotlib inline"
   ]
  },
  {
   "cell_type": "code",
   "execution_count": 85,
   "metadata": {},
   "outputs": [],
   "source": [
    "df = pd.read_csv(\"C:/Users/8/Desktop/프로젝트/dunsan_example.csv\",encoding='CP949')"
   ]
  },
  {
   "cell_type": "code",
   "execution_count": 86,
   "metadata": {},
   "outputs": [],
   "source": [
    "df2 = pd.read_csv(\"C:/Users/8/Desktop/프로젝트/predict.csv\",encoding='CP949')"
   ]
  },
  {
   "cell_type": "code",
   "execution_count": 87,
   "metadata": {},
   "outputs": [],
   "source": [
    "df.drop('도로', axis=1, inplace=True)\n",
    "df.drop('요일', axis=1, inplace=True)\n",
    "df.drop('방향', axis=1, inplace=True)\n",
    "df.drop('구간', axis=1, inplace=True)\n",
    "df2.drop('도로', axis=1, inplace=True)\n",
    "df2.drop('요일', axis=1, inplace=True)\n",
    "df2.drop('방향', axis=1, inplace=True)\n",
    "df2.drop('구간', axis=1, inplace=True)"
   ]
  },
  {
   "cell_type": "code",
   "execution_count": 88,
   "metadata": {},
   "outputs": [],
   "source": [
    "df = df.dropna()\n",
    "df2 = df2.dropna()"
   ]
  },
  {
   "cell_type": "code",
   "execution_count": 89,
   "metadata": {},
   "outputs": [
    {
     "data": {
      "text/html": [
       "<div>\n",
       "<style scoped>\n",
       "    .dataframe tbody tr th:only-of-type {\n",
       "        vertical-align: middle;\n",
       "    }\n",
       "\n",
       "    .dataframe tbody tr th {\n",
       "        vertical-align: top;\n",
       "    }\n",
       "\n",
       "    .dataframe thead th {\n",
       "        text-align: right;\n",
       "    }\n",
       "</style>\n",
       "<table border=\"1\" class=\"dataframe\">\n",
       "  <thead>\n",
       "    <tr style=\"text-align: right;\">\n",
       "      <th></th>\n",
       "      <th>6:00</th>\n",
       "      <th>6:05</th>\n",
       "      <th>6:10</th>\n",
       "      <th>6:15</th>\n",
       "      <th>6:20</th>\n",
       "    </tr>\n",
       "  </thead>\n",
       "  <tbody>\n",
       "    <tr>\n",
       "      <th>1</th>\n",
       "      <td>21.0</td>\n",
       "      <td>22.6</td>\n",
       "      <td>19.4</td>\n",
       "      <td>23.0</td>\n",
       "      <td>18.8</td>\n",
       "    </tr>\n",
       "  </tbody>\n",
       "</table>\n",
       "</div>"
      ],
      "text/plain": [
       "   6:00  6:05  6:10  6:15  6:20\n",
       "1  21.0  22.6  19.4  23.0  18.8"
      ]
     },
     "execution_count": 89,
     "metadata": {},
     "output_type": "execute_result"
    }
   ],
   "source": [
    "aa = df2.loc[:,['6:00', '6:05', '6:10', '6:15', '6:20']]\n",
    "aa"
   ]
  },
  {
   "cell_type": "code",
   "execution_count": 90,
   "metadata": {},
   "outputs": [
    {
     "data": {
      "text/plain": [
       "[[21.0, 22.6, 19.4, 23.0, 18.8]]"
      ]
     },
     "execution_count": 90,
     "metadata": {},
     "output_type": "execute_result"
    }
   ],
   "source": [
    "aa = aa.values.tolist()\n",
    "aa"
   ]
  },
  {
   "cell_type": "code",
   "execution_count": 91,
   "metadata": {},
   "outputs": [
    {
     "data": {
      "text/plain": [
       "[21.0, 22.6, 19.4, 23.0, 18.8]"
      ]
     },
     "execution_count": 91,
     "metadata": {},
     "output_type": "execute_result"
    }
   ],
   "source": [
    "a = []\n",
    "for i in range(len(aa[0])):\n",
    "    a.append(aa[0][i])\n",
    "\n",
    "a"
   ]
  },
  {
   "cell_type": "code",
   "execution_count": 92,
   "metadata": {},
   "outputs": [],
   "source": [
    "b = df.loc[:,list(df)[1:]]\n",
    "b = b.values.tolist()"
   ]
  },
  {
   "cell_type": "code",
   "execution_count": 94,
   "metadata": {},
   "outputs": [
    {
     "name": "stdout",
     "output_type": "stream",
     "text": [
      "[15.91, 52.94000000000002, 12.02999999999999, 58.42, 13.789999999999994, 37.54000000000001, 24.189999999999976, 17.310000000000006, 34.74999999999999, 37.42999999999999, 33.79, 81.82000000000002, 89.97000000000003, 76.49000000000001, 95.20000000000005, 100.75999999999999, 70.20999999999998, 75.41999999999997, 135.69999999999993, 133.73999999999995, 48.14000000000001, 26.099999999999987, 13.18000000000002, 35.18000000000002, 57.57, 98.33000000000001, 102.37000000000002, 150.82000000000002, 162.15000000000003, 119.44000000000003, 118.44000000000003, 106.96000000000001, 50.16000000000001, 48.19000000000002, 85.82, 177.06, 286.77000000000004, 289.2400000000001, 287.2800000000001, 289.36000000000007, 724.62, 715.74, 649.6500000000001, 589.46, 554.15, 492.17999999999995, 464.03, 412.71, 327.46000000000004, 305.40999999999997, 279.40999999999997, 275.32, 303.93, 306.21999999999997, 300.18000000000006, 253.10999999999999, 206.32000000000002, 180.48000000000002, 135.15000000000003, 89.80000000000001, 920.13, 885.69, 829.1000000000001, 794.5500000000001, 696.63, 656.0699999999999, 642.6700000000001, 586.4699999999999, 527.0200000000001, 510.58000000000004, 449.65999999999997, 364.74, 354.14, 355.38, 262.54, 224.31, 182.79000000000002, 99.39, 51.679999999999986, 43.27000000000001, 38.83999999999998, 42.809999999999995, 22.729999999999997, 21.700000000000003, 29.020000000000017, 41.94999999999999, 38.27000000000002, 65.20000000000002, 82.24000000000001, 48.840000000000025, 72.80000000000003, 53.920000000000016, 32.430000000000035, 19.900000000000023, 36.95000000000002, 35.59, 87.03, 56.83000000000001, 116.6, 164.43]\n"
     ]
    }
   ],
   "source": [
    "real_d = []\n",
    "\n",
    "for i in range(len(b)):\n",
    "    for j in range(0,20):\n",
    "        d = []\n",
    "        d1 = pow((b[i][j]-a[0]),2)+pow((b[i][j+1]-a[1]),2)+pow((b[i][j+2]-a[2]),2)+pow((b[i][j+3]-a[3]),2)+pow((b[i][j+4]-a[4]),2)\n",
    "        d.append(d1)\n",
    "#         print(d)\n",
    "        d2 = sum(d)\n",
    "#         print(d2)\n",
    "        real_d.append(d2)\n",
    "\n",
    "print(real_d)"
   ]
  },
  {
   "cell_type": "code",
   "execution_count": 95,
   "metadata": {},
   "outputs": [
    {
     "name": "stdout",
     "output_type": "stream",
     "text": [
      "최솟값 =  12.02999999999999\n"
     ]
    }
   ],
   "source": [
    "# K = 1\n",
    "\n",
    "def find_min(l):\n",
    "    min_idx = 0\n",
    "    for x in range (1,len(l)):\n",
    "        if l[x] < l[min_idx]: \n",
    "            min_idx = x\n",
    "    return l[min_idx]\n",
    "\n",
    "dist_min = find_min(real_d)\n",
    "print('최솟값 = ', dist_min)"
   ]
  },
  {
   "cell_type": "code",
   "execution_count": null,
   "metadata": {},
   "outputs": [],
   "source": []
  },
  {
   "cell_type": "code",
   "execution_count": null,
   "metadata": {},
   "outputs": [],
   "source": []
  }
 ],
 "metadata": {
  "kernelspec": {
   "display_name": "Python 3",
   "language": "python",
   "name": "python3"
  },
  "language_info": {
   "codemirror_mode": {
    "name": "ipython",
    "version": 3
   },
   "file_extension": ".py",
   "mimetype": "text/x-python",
   "name": "python",
   "nbconvert_exporter": "python",
   "pygments_lexer": "ipython3",
   "version": "3.7.6"
  }
 },
 "nbformat": 4,
 "nbformat_minor": 4
}
